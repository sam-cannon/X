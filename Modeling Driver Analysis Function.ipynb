{
 "cells": [
  {
   "cell_type": "markdown",
   "metadata": {},
   "source": [
    "# Driver Program Function"
   ]
  },
  {
   "cell_type": "code",
   "execution_count": 1,
   "metadata": {},
   "outputs": [],
   "source": [
    "def find_drivers(df, target, estimator, num_top_features, tune_params = False, task = 'classification', \n",
    "                 binary_or_multiclass = 'binary', method = 'tree', big_data = True, plot = True, deterministic_output_w_coeffs = None):\n",
    "    \n",
    "    \n",
    "    '''\n",
    "    \n",
    "    This program is meant to identify the top \"drivers\" or features that impact the target variable the most, on any dataset that is fed into it\n",
    "    \n",
    "    Arguments\n",
    "    \n",
    "    df: this is simply the df that you are using\n",
    "    \n",
    "    target: this is the target column, this needs to be entered with single quote marks around it (i.e. 'Feedback_RatingValue')\n",
    "    \n",
    "    estimator: estimator is the model that you want to use to run the analysis. Models that are supported by this program are Random Forests, LightGBM, CatBoost, OLS, Logistic\n",
    "                Regression, and LinearSVC. These models must be specified by their abbreviations:\n",
    "                \n",
    "                - 'rf' == Random Forest\n",
    "                \n",
    "                - 'lgb' == LightGBM\n",
    "                \n",
    "                - 'cat' == CatBoost\n",
    "                \n",
    "                - 'ols' == OLS Regression\n",
    "                \n",
    "                - 'logit' == Logistic Regression\n",
    "                \n",
    "                - 'svc' == LinearSVC\n",
    "                \n",
    "    num_top_features: this argument accepts an integer value, it is simply the number of top features that you want to see from the dataset that you are using\n",
    "    \n",
    "    tune_params: this argument can be either -- True -- or -- None -- if it is set to True, then a gridsearch will be performed over a pre-determined set of hyperparameters\n",
    "                    while if this argument is set to None then there will be no tuning of the model\n",
    "    \n",
    "    task: task can either be 'classification' or 'regression'\n",
    "    \n",
    "    binary_or_multiclass: this is only applicable for classification tasks and is either 'binary' or 'multiclass' -- really only there since we need to specify this explicitly\n",
    "                                for LightGBM\n",
    "    \n",
    "    method: this argument is the method with which you would like to select the top features or drivers from your dataset. There are three different methods currently supported here.\n",
    "            The first method is 'tree' and will use  Random Forest or LightGBM's built-in feature importances capabilities to extract the top features, 'tree' can only be used with \n",
    "            Random Forest or LightGBM, not CatBoost. 'cat' is the method that MUST be used when using a CatBoost model since it has a native implementation of feature importance \n",
    "            selection. Lastly, 'select_from_model' is a method that is used with the Random Forest and LightGBM that will select the top n features from your dataset\n",
    "            \n",
    "    big_data: this arg can be either -- True or None -- when set to True the program will use the tree-based models for feature extraction, when set to None the program\n",
    "                will use OLS Regression, Logistic Regression, or LinearSVC and then use RFE for feature extraction, this is meant to be done for smaller datasets or if you \n",
    "                need a more deterministic output, i.e. regression coefficients \n",
    "    \n",
    "    \n",
    "    plot: This last argument is simply set to True by default and calls plotly to create a bar plot of the feature importances in your dataset\n",
    "    \n",
    "    deterministic_output_w_coeffs: this arg will allow you to return a single df that contains the coefficients and statsig values for each variable in the model, this is in \n",
    "                                    case you are more interested in just running a logistic regression on the data for some reason, its just an extra treat\n",
    "    \n",
    "    \n",
    "    \n",
    "    Output\n",
    "    \n",
    "    The output of this program varies based on what you are running. If you are running a tree-based model with a feature selection method that is not \n",
    "    select_from_model, then you need to unpack the output in the following manner: a, b = find_drivers() ------- the 'a' will be a df of the feature importances\n",
    "    while the 'b' will be your original df subset by the important features. If you use select_from_model then the output will only be singular and it will be a \n",
    "    df that has been truncated to the number of features you wanted, so you would use it this way: a = find_drivers() ------- As far as the output of the models\n",
    "    for smaller datasets, Recursive Feature Elimination will rank the features and the output will be a df of these ranks, so again you only need to use one \n",
    "    variable to call the program: a = find_drivers() ---- \n",
    "    \n",
    "    \n",
    "    '''\n",
    "    \n",
    "    \n",
    "    \n",
    "    import pandas as pd\n",
    "    \n",
    "    import numpy as np\n",
    "    \n",
    "    \n",
    "    #edge case handling\n",
    "    if df.shape[0] == 0:\n",
    "        \n",
    "        raise ValueError(\"You have given me a blank dataframe! This ain't gonna work\")\n",
    "        \n",
    "    elif (estimator == 'cat') & (method != 'cat'):\n",
    "        \n",
    "        raise ValueError(\"CatBoost model can only be used with 'cat' method of feature selection\")\n",
    "        \n",
    "    elif (method == 'select_from_model') & (plot is not None):\n",
    "        \n",
    "        raise ValueError(\"Sorry, you can't plot feature importances when using the 'SelectFromModel' method, change to: plot = False\")\n",
    "        \n",
    "    elif (estimator in ['rf', 'lgb', 'cat']) & (big_data is None):\n",
    "        \n",
    "        raise ValueError(\"You cannot use tree-based models when 'big_data' is set to None\")\n",
    "        \n",
    "    elif (estimator in ['ols', 'logit', 'svc']) & (big_data is not None):\n",
    "        \n",
    "        raise ValueError('Ouch! This model is not supported for big data, use an ensemble or boosting model instead')\n",
    "        \n",
    "    elif (estimator in ['ols']) & (task == 'classification'):\n",
    "        \n",
    "        raise ValueError('You cannot use OLS Regression for classification')\n",
    "        \n",
    "    elif (estimator in ['ols', 'logit', 'svc']) & (tune_params is not None):\n",
    "        \n",
    "        raise ValueError('Hyperparameter tuning is not supported for this model, it is only supported for tree-based models on larger datasets')\n",
    "        \n",
    "    elif estimator not in ['rf', 'lgb', 'cat', 'logit', 'svc', 'ols']:\n",
    "        \n",
    "        raise ValueError('The model that you picked is not supported by this program')\n",
    "        \n",
    "    elif binary_or_multiclass not in ['binary', 'multiclass']:\n",
    "        \n",
    "        raise ValueError(\"'binary_or_multiclass must be either 'binary' or 'multiclass'\")\n",
    "        \n",
    "    elif method not in ['tree', 'select_from_model', 'cat']:\n",
    "        \n",
    "        raise ValueError(\"method must be one of 'tree', 'select_from_model', or 'cat'\")\n",
    "        \n",
    "        \n",
    "    \n",
    "    #specify features and target up front\n",
    "    features = df.drop(target, axis = 1)\n",
    "    \n",
    "    target = df[target]\n",
    "    \n",
    "    \n",
    "    \n",
    "    if df.shape[0] < 10000:\n",
    "        \n",
    "        print('Hi! Your data set is kinda tiny, consider using Logistic Regresssion with Recursive Feature Selection')\n",
    "        \n",
    "    else:\n",
    "        \n",
    "        print(\"Hi! Your dataset is large, you should probably use a tree-based model if you aren't already\")\n",
    "        \n",
    "    \n",
    "    \n",
    "    \n",
    "    \n",
    "    #need to talk to Erfan about what would be an appropriate size here\n",
    "    if big_data is not None:\n",
    "        \n",
    "        if tune_params is not None:\n",
    "            \n",
    "            from sklearn.model_selection import RandomizedSearchCV\n",
    "            \n",
    "            #set up param grid for gridsearches\n",
    "            param_grid =  {'n_estimators':[200, 400, 600, 800, 1000, 1500], 'max_depth':[10, 20, 30, 40, 50, 60, 70, 80, 90, None]}\n",
    "            \n",
    "            #set up grid for catboost\n",
    "            cat_param_grid = {'depth':[4, 5, 6, 7, 8, 9, 10]}\n",
    "            \n",
    "            print('Beginning Driver Analysis')\n",
    "            \n",
    "            if estimator == 'rf':\n",
    "                \n",
    "                print('Random Forest Model Selected')\n",
    "            \n",
    "                if task == 'classification':\n",
    "                    \n",
    "                    print('Beginning Random Forest Classification')\n",
    "                    \n",
    "                    from sklearn.ensemble import RandomForestClassifier\n",
    "        \n",
    "                    model = RandomForestClassifier(random_state = 0).fit(features, target)\n",
    "                    \n",
    "                    print('Tuning Random Forest Classifier')\n",
    "                    \n",
    "                    #start tuning model here with gridsearch\n",
    "                    cv_model = RandomizedSearchCV(estimator = model, n_jobs = -1, \n",
    "                            param_distributions = param_grid, verbose = 10, scoring = 'neg_log_loss',\n",
    "                            cv = 5).fit(features, target)\n",
    "                    \n",
    "                    #grab best values found in gridsearch\n",
    "                    n_estimators, max_depth = cv_model.best_params_.values()\n",
    "                    \n",
    "                    print('Tuned Random Forest Classifier Model')\n",
    "                    \n",
    "                    #create second model\n",
    "                    tuned_model = RandomForestClassifier(random_state = 42, n_estimators = n_estimators, max_depth = max_depth).fit(features, target)\n",
    "            \n",
    "                elif task == 'regression':\n",
    "                    \n",
    "                    print('Beginning Random Forest Regression')\n",
    "                    \n",
    "                    from sklearn.ensemble import RandomForestRegressor\n",
    "                \n",
    "                    model = RandomForestRegressor(random_state = 0).fit(features, target)\n",
    "                    \n",
    "                    print('Tuning Random Forest Regression Model')\n",
    "                    \n",
    "                    #start tuning regression model\n",
    "                    cv_model = RandomizedSearchCV(estimator = model, n_jobs = -1, \n",
    "                        param_distributions = param_grid, verbose = 10, scoring = 'neg_root_mean_squared_error',\n",
    "                        cv = 5).fit(features, target)\n",
    "                    \n",
    "                    #grab best values found in gridsearch\n",
    "                    n_estimators, max_depth = cv_model.best_params_.values()\n",
    "                    \n",
    "                    print('Tuned Random Forest Regression Model')\n",
    "                    \n",
    "                    #create second model\n",
    "                    tuned_model = RandomForestRegressor(random_state = 42, n_estimators = n_estimators, max_depth = max_depth).fit(features, target)\n",
    "                \n",
    "        \n",
    "            elif estimator == 'lgb':\n",
    "                \n",
    "                print('Light Gradient Boosting Model Selected')\n",
    "                \n",
    "                import lightgbm as lgb\n",
    "            \n",
    "                if task == 'classification':\n",
    "                    \n",
    "                    print('Beginning LightGBM Classification')\n",
    "                    \n",
    "                    if binary_or_multiclass == 'binary':\n",
    "                        \n",
    "                        print('Binary Classification Selected')\n",
    "            \n",
    "                        model = lgb.LGBMClassifier(random_state = 0, objective = 'binary').fit(features, target)\n",
    "                \n",
    "                        print('Tuning Binary LightGBM Classification Model')\n",
    "                    \n",
    "                        #start tuning regression model\n",
    "                        cv_model = RandomizedSearchCV(estimator = model, n_jobs = -1, \n",
    "                            param_distributions = param_grid, verbose = 10, scoring = 'neg_root_mean_squared_error',\n",
    "                            cv = 5).fit(features, target)\n",
    "                    \n",
    "                        #grab best values found in gridsearch\n",
    "                        n_estimators, max_depth = cv_model.best_params_.values()\n",
    "                    \n",
    "                        print('Tuned LightGBM Binary Classification Model')\n",
    "                    \n",
    "                        #create second model\n",
    "                        tuned_model = lgb.LGBMClassifier(random_state = 42, n_estimators = n_estimators, max_depth = max_depth, objective = 'binary').fit(features, target)\n",
    "                \n",
    "                    elif binary_or_multiclass == 'multiclass':\n",
    "                        \n",
    "                        print('Multiclass Classification Selected')\n",
    "                        \n",
    "                        model = lgb.LGBMClassifier(random_state = 0, objective = 'multiclass').fit(features, target)\n",
    "                        \n",
    "                        print('Tuning Multiclass LightGBM Model')\n",
    "                        \n",
    "                        #start tuning model\n",
    "                        cv_model = RandomizedSearchCV(estimator = model, n_jobs = -1, \n",
    "                            param_distributions = param_grid, verbose = 10, scoring = 'neg_root_mean_squared_error',\n",
    "                            cv = 5).fit(features, target)\n",
    "                    \n",
    "                        #grab best values found in gridsearch\n",
    "                        n_estimators, max_depth = cv_model.best_params_.values()\n",
    "                    \n",
    "                        print('Tuned LightGBM Multiclass Classification Model')\n",
    "                    \n",
    "                        #create second model\n",
    "                        tuned_model = lgb.LGBMClassifier(random_state = 42, n_estimators = n_estimators, max_depth = max_depth, objective = 'multiclass').fit(features, target)\n",
    "                \n",
    "                elif task == 'regression':\n",
    "                    \n",
    "                    print('Beginning LightGBM Regression')\n",
    "                \n",
    "                    model = lgb.LGBMRegressor(random_state = 0).fit(features, target)\n",
    "                    \n",
    "                    print('Tuning LightGBM Regression Model')\n",
    "                    \n",
    "                    #start tuning regression model\n",
    "                    cv_model = RandomizedSearchCV(estimator = model, n_jobs = -1, \n",
    "                            param_distributions = param_grid, verbose = 10, scoring = 'neg_root_mean_squared_error',\n",
    "                            cv = 5).fit(features, target)\n",
    "                    \n",
    "                    #grab best values found in gridsearch\n",
    "                    n_estimators, max_depth = cv_model.best_params_.values()\n",
    "                    \n",
    "                    print('Tuned LightGBM Regression Model')\n",
    "                    \n",
    "                    #create second model\n",
    "                    tuned_model = lgb.LGBMRegressor(random_state = 42, n_estimators = n_estimators, max_depth = max_depth).fit(features, target)    \n",
    "                    \n",
    "            elif estimator == 'cat':\n",
    "            \n",
    "                print('CatBoost Model Selected')\n",
    "            \n",
    "                if task == 'classification':\n",
    "                \n",
    "                    print('Beginning CatBoost Classification')\n",
    "                \n",
    "                    from catboost import CatBoostClassifier, EFstrType\n",
    "            \n",
    "                    model = CatBoostClassifier(iterations = 2, loss_function = 'Logloss')\n",
    "                \n",
    "                    print('Tuning CatBoost Classification Model')\n",
    "                    \n",
    "                    #gotta use catboost's built in random search\n",
    "                    randomized_search_result = model.randomized_search(cat_param_grid, X = features, y = target, plot = True)\n",
    "                    \n",
    "                    print('Tuned CatBoost Classification Model')\n",
    "                    \n",
    "                    #subset dict for depth - this fills in depth with the best value found in our search\n",
    "                    tuned_model = CatBoostClassifier(iterations = 2, depth = randomized_search_result['params']['depth'], loss_function = 'Logloss').fit(features, target)\n",
    "                \n",
    "                elif task == 'regression':\n",
    "                \n",
    "                    print('Beginning CatBoost Regression')\n",
    "                \n",
    "                    from catboost import CatBoostRegressor, EFstrType\n",
    "                \n",
    "                    model = CatBoostRegressor(iterations = 2, loss_function = 'RMSE').fit(features, target)\n",
    "                    \n",
    "                    print('Tuning CatBoost Regression Model')\n",
    "                    \n",
    "                    #gotta use catboost's built in random search\n",
    "                    randomized_search_result = model.randomized_search(cat_param_grid, X = features, y = target, plot = True)\n",
    "                    \n",
    "                    print('Tuned CatBoost Regression Model')\n",
    "                    \n",
    "                    tuned_model = CatBoostRegressor(iterations = 2, depth = randomized_search_result['params']['depth'], loss_function = 'RMSE').fit(features, target)\n",
    "                    \n",
    "            if method == 'tree':\n",
    "                \n",
    "                print('Beginning Feature Selection Using Built-In Tree Model Feature Importances')\n",
    "                \n",
    "                #getting feature importances\n",
    "                learners = tuned_model.feature_importances_.argsort()[::-1]\n",
    "                \n",
    "                #turning them into a df\n",
    "                features_df = pd.DataFrame(features.columns[learners], tuned_model.feature_importances_[learners])\n",
    "                \n",
    "                #get top 10 features from feature importances to be fed into the next model\n",
    "                feature_importances = pd.DataFrame(features_df.iloc[:num_top_features, :]).reset_index().rename(columns = {'index':'importance', 0:'feature'})\n",
    "                \n",
    "                top_feats = [x for x in feature_importances.iloc[:, 1]]\n",
    "                \n",
    "                features = features[top_feats]\n",
    "                \n",
    "                #create final df\n",
    "                final_df = pd.concat([features, target], axis = 1)\n",
    "                \n",
    "                #now that we know the top 10, we can fit another model on only these and get their unique contributions controlling for each other\n",
    "                model = model.fit(features, target)\n",
    "                \n",
    "                learners = model.feature_importances_.argsort()[::-1]\n",
    "                \n",
    "                features_df = pd.DataFrame(features.columns[learners], model.feature_importances_[learners])\n",
    "                \n",
    "                #get top 10 features from feature importances to be fed into the next model\n",
    "                feature_importances = pd.DataFrame(features_df.iloc[:num_top_features, :]).reset_index().rename(columns = {'index':'Importance', 0:'Feature'})\n",
    "                \n",
    "                #if we set this argument to True (it is by default) then the program will plot the importances\n",
    "                if plot is not None:\n",
    "                    \n",
    "                    import plotly.express as px\n",
    "                    \n",
    "                    fig = px.bar(feature_importances, x=\"Importance\", y=\"Feature\", orientation='h', title = 'Feature Importances (Larger Bar = More Important)',\n",
    "                                width = 1000, height = 600)\n",
    "                    \n",
    "                    fig.show()\n",
    "                \n",
    "                #return the feature importances and the subset features\n",
    "                return feature_importances, final_df\n",
    "            \n",
    "            elif method == 'select_from_model':\n",
    "                \n",
    "                #NOTE: Using this method will not result in the ability for you to plot which features are 'more' important than the others, like the other two methods will\n",
    "                \n",
    "                print(\"Beginning 'Select From Model' Feature Selection\")\n",
    "                \n",
    "                from sklearn.feature_selection import SelectFromModel\n",
    "                \n",
    "                #instantiate the feature selection model\n",
    "                feature_selection_model = SelectFromModel(tuned_model, max_features = num_top_features, threshold = -np.inf, prefit = True)\n",
    "                \n",
    "                #get feature index\n",
    "                feature_idx = feature_selection_model.get_support()\n",
    "                \n",
    "                #get feature names\n",
    "                features_to_keep = features.columns[feature_idx]\n",
    "                \n",
    "                #drop features that were not selected\n",
    "                columns_to_drop = []\n",
    "                for x in features.columns:\n",
    "                    if x not in features_to_keep:\n",
    "                        columns_to_drop.append(x)\n",
    "                        \n",
    "                #drop the columns not selected by the feature selector\n",
    "                features.drop(columns_to_drop, axis = 1, inplace = True)\n",
    "                \n",
    "                #create final df\n",
    "                final_df = pd.concat([features, target], axis = 1)\n",
    "                \n",
    "                return final_df\n",
    "            \n",
    "            elif method == 'cat':\n",
    "                \n",
    "                print('Beginning Feature Selection Using CatBoost')\n",
    "                \n",
    "                #get names of top n features \n",
    "                top_feats = tuned_model.get_feature_importance(data=None, type=EFstrType.FeatureImportance, \n",
    "                                                                          prettified=True, thread_count=-1,verbose=False).iloc[:num_top_features, :]\n",
    "                \n",
    "                top_features = [x for x in top_feats.iloc[:,0]]\n",
    "                \n",
    "                #now we are going to subset the features for the n most important \n",
    "                features = features[top_features]\n",
    "                \n",
    "                #create final df\n",
    "                final_df = pd.concat([features, target], axis = 1)\n",
    "                \n",
    "                #use reduced df to find each unique driver's contribution to the model controlling for the others\n",
    "                model.fit(features, target)\n",
    "                \n",
    "                #Now this is what we want \n",
    "                top_feats = tuned_model.get_feature_importance(data=None, type=EFstrType.FeatureImportance, \n",
    "                                                                          prettified=True, thread_count=-1,verbose=False).iloc[:num_top_features, :]\n",
    "                \n",
    "                #if we set this argument to True (it is by default) then the program will plot the importances\n",
    "                if plot is not None:\n",
    "                    \n",
    "                    import plotly.express as px\n",
    "                    \n",
    "                    fig = px.bar(top_feats, x=\"Importances\", y=\"Feature Id\", orientation='h', title = 'Feature Importances (Larger Bar = More Important)', \n",
    "                                width = 1000, height = 600)\n",
    "                    \n",
    "                    fig.show()\n",
    "                \n",
    "                #return the feature importances as well as the features subset\n",
    "                return top_feats, final_df\n",
    "        \n",
    "        \n",
    "        #this will execute if the user does not wish to tune hyperparameters AND if the dataset is over a certain amount of rows\n",
    "        elif tune_params is None:\n",
    "            \n",
    "            if estimator == 'rf':\n",
    "                \n",
    "                print('Random Forest Model Selected')\n",
    "            \n",
    "                if task == 'classification':\n",
    "                    \n",
    "                    print('Beginning Random Forest Classification')\n",
    "                    \n",
    "                    from sklearn.ensemble import RandomForestClassifier\n",
    "        \n",
    "                    model = RandomForestClassifier(random_state = 0).fit(features, target)\n",
    "            \n",
    "                elif task == 'regression':\n",
    "                    \n",
    "                    print('Beginning Random Forest Regression')\n",
    "                    \n",
    "                    from sklearn.ensemble import RandomForestRegressor\n",
    "                \n",
    "                    model = RandomForestRegressor(random_state = 0).fit(features, target)\n",
    "                    \n",
    "            elif estimator == 'lgb':\n",
    "                \n",
    "                print('Light Gradient Boosting Model Selected')\n",
    "                \n",
    "                import lightgbm as lgb\n",
    "            \n",
    "                if task == 'classification':\n",
    "                    \n",
    "                    print('Beginning LightGBM Classification')\n",
    "                    \n",
    "                    if binary_or_multiclass == 'binary':\n",
    "                        \n",
    "                        print('Binary Classification Selected')\n",
    "            \n",
    "                        model = lgb.LGBMClassifier(random_state = 0, objective = 'binary').fit(features, target)  \n",
    "                    \n",
    "                    elif binary_or_multiclass == 'multiclass':\n",
    "                        \n",
    "                        print('Multiclass Classification Selected')\n",
    "                        \n",
    "                        model = lgb.LGBMClassifier(random_state = 0, objective = 'multiclass').fit(features, target)\n",
    "                        \n",
    "                elif task == 'regression':\n",
    "                    \n",
    "                    print('Beginning LightGBM Regression')\n",
    "                \n",
    "                    model = lgb.LGBMRegressor(random_state = 0).fit(features, target) \n",
    "                    \n",
    "                \n",
    "            elif estimator == 'cat':\n",
    "            \n",
    "                print('CatBoost Model Selected')\n",
    "            \n",
    "                if task == 'classification':\n",
    "                \n",
    "                    print('Beginning CatBoost Classification')\n",
    "                \n",
    "                    from catboost import CatBoostClassifier, EFstrType\n",
    "            \n",
    "                    model = CatBoostClassifier(iterations = 2, loss_function = 'Logloss').fit(features, target)\n",
    "                \n",
    "                elif task == 'regression':\n",
    "                \n",
    "                    print('Beginning CatBoost Regression')\n",
    "                \n",
    "                    from catboost import CatBoostRegressor, EFstrType\n",
    "                \n",
    "                    model = CatBoostRegressor(iterations = 2, loss_function = 'RMSE').fit(features, target)\n",
    "                    \n",
    "            if method == 'tree':\n",
    "                \n",
    "                print('Beginning Feature Selection Using Built-In Tree Model Feature Importances')\n",
    "                \n",
    "                #getting feature importances\n",
    "                learners = model.feature_importances_.argsort()[::-1]\n",
    "                \n",
    "                #turning them into a df\n",
    "                features_df = pd.DataFrame(features.columns[learners], model.feature_importances_[learners])\n",
    "                \n",
    "                #get top 10 features from feature importances to be fed into the next model\n",
    "                feature_importances = pd.DataFrame(features_df.iloc[:num_top_features, :]).reset_index().rename(columns = {'index':'importance', 0:'feature'})\n",
    "                \n",
    "                top_feats = [x for x in feature_importances.iloc[:, 1]]\n",
    "                \n",
    "                features = features[top_feats]\n",
    "                \n",
    "                #create final df\n",
    "                final_df = pd.concat([features, target], axis = 1)\n",
    "                \n",
    "                #now that we know the top 10, we can fit another model on only these and get their unique contributions controlling for each other\n",
    "                model = model.fit(features, target)\n",
    "                \n",
    "                learners = model.feature_importances_.argsort()[::-1]\n",
    "                \n",
    "                features_df = pd.DataFrame(features.columns[learners], model.feature_importances_[learners])\n",
    "                \n",
    "                #get top 10 features from feature importances to be fed into the next model\n",
    "                feature_importances = pd.DataFrame(features_df.iloc[:num_top_features, :]).reset_index().rename(columns = {'index':'Importance', 0:'Feature'})\n",
    "                \n",
    "                #if we set this argument to True (it is by default) then the program will plot the importances\n",
    "                if plot is not None:\n",
    "                    \n",
    "                    import plotly.express as px\n",
    "                    \n",
    "                    fig = px.bar(feature_importances, x=\"Importance\", y=\"Feature\", orientation='h', title = 'Feature Importances (Larger Bar = More Important)',\n",
    "                                width = 1000, height = 600)\n",
    "                    \n",
    "                    fig.show()\n",
    "                \n",
    "                #return both the feature importances and the subset features\n",
    "                return feature_importances, final_df\n",
    "            \n",
    "            elif method == 'select_from_model':\n",
    "                \n",
    "                #NOTE: Using this method will not result in the ability for you to plot which features are 'more' important than the others, like the other two methods will\n",
    "                \n",
    "                print(\"Beginning 'Select From Model' Feature Selection\")\n",
    "                \n",
    "                from sklearn.feature_selection import SelectFromModel\n",
    "                \n",
    "                #instantiate the feature selection model\n",
    "                feature_selection_model = SelectFromModel(model, max_features = num_top_features, threshold = -np.inf, prefit = True)\n",
    "                \n",
    "                #get feature index\n",
    "                feature_idx = feature_selection_model.get_support()\n",
    "                \n",
    "                #get feature names\n",
    "                features_to_keep = features.columns[feature_idx]\n",
    "                \n",
    "                #drop features that were not selected\n",
    "                columns_to_drop = []\n",
    "                for x in features.columns:\n",
    "                    if x not in features_to_keep:\n",
    "                        columns_to_drop.append(x)\n",
    "                        \n",
    "                #drop the columns not selected by the feature selector\n",
    "                features.drop(columns_to_drop, axis = 1, inplace = True)\n",
    "                \n",
    "                #create final df\n",
    "                final_df = pd.concat([features, target], axis = 1)\n",
    "                \n",
    "                return final_df\n",
    "            \n",
    "            elif method == 'cat':\n",
    "                \n",
    "                from catboost import CatBoostRegressor, EFstrType\n",
    "                \n",
    "                print('Beginning Feature Selection Using CatBoost')\n",
    "                \n",
    "                #get names of top n features \n",
    "                top_feats = model.get_feature_importance(data=None, type=EFstrType.FeatureImportance, \n",
    "                                                                          prettified=True, thread_count=-1,verbose=False).iloc[:num_top_features, :]\n",
    "                \n",
    "                top_features = [x for x in top_feats.iloc[:,0]]\n",
    "                \n",
    "                #now we are going to subset the features for the n most important \n",
    "                features = features[top_features]\n",
    "                \n",
    "                #create final df\n",
    "                final_df = pd.concat([features, target], axis = 1)\n",
    "                \n",
    "                #now have to use the trimmed feature set\n",
    "                model = model.fit(features, target)\n",
    "                \n",
    "                #get top features for only these 10 features\n",
    "                top_feats = model.get_feature_importance(data = None, type=EFstrType.FeatureImportance, \n",
    "                                                                          prettified=True, thread_count=-1,verbose=False).iloc[:num_top_features, :]\n",
    "                \n",
    "                #if we set this argument to True (it is by default) then the program will plot the importances\n",
    "                if plot is not None:\n",
    "                    \n",
    "                    import plotly.express as px\n",
    "                    \n",
    "                    fig = px.bar(top_feats, x=\"Importances\", y=\"Feature Id\", orientation='h', title = 'Feature Importances (Larger Bar = More Important)', \n",
    "                                width = 1000, height = 600)\n",
    "                    \n",
    "                    fig.show()\n",
    "                \n",
    "                #return both the importances and the features set subset\n",
    "                return top_feats, final_df\n",
    "            \n",
    "    elif big_data is None:\n",
    "        \n",
    "        print('Dealing With A Smaller Dataset, Utilizing Linear Methods')\n",
    "        \n",
    "        if task == 'classification':\n",
    "            \n",
    "            if estimator == 'logit':\n",
    "                \n",
    "                print('Beginning Logistic Regression Classification')\n",
    "                \n",
    "                from sklearn.preprocessing import StandardScaler\n",
    "                from sklearn.linear_model import LogisticRegression\n",
    "        \n",
    "                #scale the data\n",
    "                scaler = StandardScaler()\n",
    "                \n",
    "                scaled_features = scaler.fit_transform(features)\n",
    "                \n",
    "                model = LogisticRegression(random_state=0).fit(features, target)\n",
    "                \n",
    "                if deterministic_output_w_coeffs is not None:\n",
    "                \n",
    "                    #instead of seeing feature importance, you can see a table of coefficients\n",
    "                    model = sm.Logit(target, scaled_features, iterations = 1000)\n",
    "\n",
    "                    model = model.fit(method = 'bfgs')\n",
    "            \n",
    "                    results_summary = model.summary()\n",
    "            \n",
    "                    #create df from results\n",
    "                    results_as_html = results_summary.tables[1].as_html()\n",
    "                    results_df = pd.read_html(results_as_html, header=0, index_col=0)[0]\n",
    "                \n",
    "                    #put names of features beside their coefs\n",
    "                    results_df.index = [x for x in features.columns]\n",
    "        \n",
    "                    return results_df\n",
    "            \n",
    "            elif estimator == 'svc':\n",
    "                \n",
    "                print('Beginning Linear SVC Classification')\n",
    "                \n",
    "                from sklearn.svm import LinearSVC\n",
    "                from sklearn.pipeline import make_pipeline\n",
    "                from sklearn.preprocessing import StandardScaler\n",
    "                \n",
    "                scaler = StandardScaler()\n",
    "                \n",
    "                scaled_features = scaler.fit_transform(features)\n",
    "                \n",
    "                model = LinearSVC(random_state=0, tol=1e-5).fit(scaled_features, target)\n",
    "                \n",
    "        elif task == 'regression':\n",
    "            \n",
    "            #ols will be the only linear regression model supported\n",
    "            if estimator == 'ols':\n",
    "                \n",
    "                print('Beginning OLS Regression')\n",
    "                \n",
    "                from sklearn.preprocessing import StandardScaler\n",
    "                from sklearn.linear_model import LinearRegression\n",
    "                \n",
    "                scaler = StandardScaler()\n",
    "                \n",
    "                scaled_features = scaler.fit_transform(features)\n",
    "            \n",
    "                model = LinearRegression()\n",
    "                \n",
    "                model.fit(scaled_features, target)\n",
    "            \n",
    "    \n",
    "        #will be performing RFE on all datasets this small\n",
    "        from sklearn.feature_selection import RFE\n",
    "    \n",
    "        print('Beginning Recursive Feature Selection')\n",
    "        \n",
    "        selector = RFE(model, n_features_to_select = num_top_features, step = 1)\n",
    "        \n",
    "        selector = selector.fit(scaled_features, target)\n",
    "            \n",
    "        ranks = selector.ranking_\n",
    "            \n",
    "        columns = [c for c in features.columns]\n",
    "            \n",
    "        rank_df = pd.DataFrame(zip(columns, ranks)).rename(columns = {0:'Feature', 1:'Rank'})\n",
    "    \n",
    "        print('Driver Analysis Complete')\n",
    "    \n",
    "        #returns rank of features\n",
    "        return rank_df"
   ]
  },
  {
   "cell_type": "markdown",
   "metadata": {},
   "source": [
    "# Testing\n",
    "- I have run this through a bunch of tests and it seems to be working well as of right now"
   ]
  },
  {
   "cell_type": "code",
   "execution_count": 55,
   "metadata": {},
   "outputs": [
    {
     "name": "stdout",
     "output_type": "stream",
     "text": [
      "shape before deleting missing columns: (65049, 321)\n",
      "shape after deleting missing columns: (65049, 233)\n"
     ]
    }
   ],
   "source": [
    "#find drivers for outlook windows as a whole, without breaking it down into consumer, commercial\n",
    "outlook_windows = driver_analysis.read_entire_csv('C:\\\\Users\\\\fulto\\\\Desktop\\\\Driver Analysis\\\\Teams', 'Teams_Web_and_Windows.csv')"
   ]
  },
  {
   "cell_type": "code",
   "execution_count": 56,
   "metadata": {},
   "outputs": [],
   "source": [
    "#use code for outlook driver analysis to get sample df\n",
    "mapper = {-100:0, 0:0, 100:1}\n",
    "\n",
    "outlook_windows['Feedback_RatingValue'] = outlook_windows['Feedback_RatingValue'].map(mapper)\n",
    "\n",
    "features_df = outlook_windows.fillna(0)\n",
    "# target = features_df['Feedback_RatingValue']\n",
    "# features = features_df.drop('Feedback_RatingValue', axis = 1)\n",
    "\n",
    "#Label Encoding\n",
    "for x in features_df.columns[features_df.dtypes == 'object']:\n",
    "    features_df[x] = features_df[x].factorize()[0]\n",
    "\n",
    "sample_df = features_df.iloc[:10500, :]"
   ]
  },
  {
   "cell_type": "code",
   "execution_count": 60,
   "metadata": {},
   "outputs": [
    {
     "name": "stdout",
     "output_type": "stream",
     "text": [
      "Hi! Your dataset is large, you should probably use a tree-based model if you are't already\n",
      "Beginning Driver Analysis\n",
      "Light Gradient Boosting Model Selected\n",
      "Beginning LightGBM Classification\n",
      "Binary Classification Selected\n",
      "Tuning Binary LightGBM Classification Model\n",
      "Fitting 5 folds for each of 10 candidates, totalling 50 fits\n"
     ]
    },
    {
     "name": "stderr",
     "output_type": "stream",
     "text": [
      "[Parallel(n_jobs=-1)]: Using backend LokyBackend with 8 concurrent workers.\n",
      "[Parallel(n_jobs=-1)]: Done   2 tasks      | elapsed:    7.2s\n",
      "[Parallel(n_jobs=-1)]: Done   9 tasks      | elapsed:   12.1s\n",
      "[Parallel(n_jobs=-1)]: Done  16 tasks      | elapsed:   15.0s\n",
      "[Parallel(n_jobs=-1)]: Done  25 tasks      | elapsed:   26.9s\n",
      "[Parallel(n_jobs=-1)]: Done  34 tasks      | elapsed:   31.7s\n",
      "[Parallel(n_jobs=-1)]: Done  41 out of  50 | elapsed:   40.2s remaining:    8.8s\n",
      "[Parallel(n_jobs=-1)]: Done  47 out of  50 | elapsed:   46.0s remaining:    2.8s\n",
      "[Parallel(n_jobs=-1)]: Done  50 out of  50 | elapsed:   48.6s finished\n"
     ]
    },
    {
     "name": "stdout",
     "output_type": "stream",
     "text": [
      "Tuned LightGBM Binary Classification Model\n",
      "Beginning Feature Selection Using Built-In Tree Model Feature Importances\n"
     ]
    },
    {
     "data": {
      "application/vnd.plotly.v1+json": {
       "config": {
        "plotlyServerURL": "https://plot.ly"
       },
       "data": [
        {
         "alignmentgroup": "True",
         "hovertemplate": "Importance=%{x}<br>Feature=%{y}<extra></extra>",
         "legendgroup": "",
         "marker": {
          "color": "#636efa"
         },
         "name": "",
         "offsetgroup": "",
         "orientation": "h",
         "showlegend": false,
         "textposition": "auto",
         "type": "bar",
         "x": [
          628,
          275,
          102,
          79,
          51
         ],
         "xaxis": "x",
         "y": [
          "Feedback_ID",
          "Feedback_DateTime",
          "Feedback_Rating",
          "Feedback_TenantId",
          "User_Commercial_TotalEnabledUsers"
         ],
         "yaxis": "y"
        }
       ],
       "layout": {
        "barmode": "relative",
        "height": 600,
        "legend": {
         "tracegroupgap": 0
        },
        "template": {
         "data": {
          "bar": [
           {
            "error_x": {
             "color": "#2a3f5f"
            },
            "error_y": {
             "color": "#2a3f5f"
            },
            "marker": {
             "line": {
              "color": "#E5ECF6",
              "width": 0.5
             }
            },
            "type": "bar"
           }
          ],
          "barpolar": [
           {
            "marker": {
             "line": {
              "color": "#E5ECF6",
              "width": 0.5
             }
            },
            "type": "barpolar"
           }
          ],
          "carpet": [
           {
            "aaxis": {
             "endlinecolor": "#2a3f5f",
             "gridcolor": "white",
             "linecolor": "white",
             "minorgridcolor": "white",
             "startlinecolor": "#2a3f5f"
            },
            "baxis": {
             "endlinecolor": "#2a3f5f",
             "gridcolor": "white",
             "linecolor": "white",
             "minorgridcolor": "white",
             "startlinecolor": "#2a3f5f"
            },
            "type": "carpet"
           }
          ],
          "choropleth": [
           {
            "colorbar": {
             "outlinewidth": 0,
             "ticks": ""
            },
            "type": "choropleth"
           }
          ],
          "contour": [
           {
            "colorbar": {
             "outlinewidth": 0,
             "ticks": ""
            },
            "colorscale": [
             [
              0,
              "#0d0887"
             ],
             [
              0.1111111111111111,
              "#46039f"
             ],
             [
              0.2222222222222222,
              "#7201a8"
             ],
             [
              0.3333333333333333,
              "#9c179e"
             ],
             [
              0.4444444444444444,
              "#bd3786"
             ],
             [
              0.5555555555555556,
              "#d8576b"
             ],
             [
              0.6666666666666666,
              "#ed7953"
             ],
             [
              0.7777777777777778,
              "#fb9f3a"
             ],
             [
              0.8888888888888888,
              "#fdca26"
             ],
             [
              1,
              "#f0f921"
             ]
            ],
            "type": "contour"
           }
          ],
          "contourcarpet": [
           {
            "colorbar": {
             "outlinewidth": 0,
             "ticks": ""
            },
            "type": "contourcarpet"
           }
          ],
          "heatmap": [
           {
            "colorbar": {
             "outlinewidth": 0,
             "ticks": ""
            },
            "colorscale": [
             [
              0,
              "#0d0887"
             ],
             [
              0.1111111111111111,
              "#46039f"
             ],
             [
              0.2222222222222222,
              "#7201a8"
             ],
             [
              0.3333333333333333,
              "#9c179e"
             ],
             [
              0.4444444444444444,
              "#bd3786"
             ],
             [
              0.5555555555555556,
              "#d8576b"
             ],
             [
              0.6666666666666666,
              "#ed7953"
             ],
             [
              0.7777777777777778,
              "#fb9f3a"
             ],
             [
              0.8888888888888888,
              "#fdca26"
             ],
             [
              1,
              "#f0f921"
             ]
            ],
            "type": "heatmap"
           }
          ],
          "heatmapgl": [
           {
            "colorbar": {
             "outlinewidth": 0,
             "ticks": ""
            },
            "colorscale": [
             [
              0,
              "#0d0887"
             ],
             [
              0.1111111111111111,
              "#46039f"
             ],
             [
              0.2222222222222222,
              "#7201a8"
             ],
             [
              0.3333333333333333,
              "#9c179e"
             ],
             [
              0.4444444444444444,
              "#bd3786"
             ],
             [
              0.5555555555555556,
              "#d8576b"
             ],
             [
              0.6666666666666666,
              "#ed7953"
             ],
             [
              0.7777777777777778,
              "#fb9f3a"
             ],
             [
              0.8888888888888888,
              "#fdca26"
             ],
             [
              1,
              "#f0f921"
             ]
            ],
            "type": "heatmapgl"
           }
          ],
          "histogram": [
           {
            "marker": {
             "colorbar": {
              "outlinewidth": 0,
              "ticks": ""
             }
            },
            "type": "histogram"
           }
          ],
          "histogram2d": [
           {
            "colorbar": {
             "outlinewidth": 0,
             "ticks": ""
            },
            "colorscale": [
             [
              0,
              "#0d0887"
             ],
             [
              0.1111111111111111,
              "#46039f"
             ],
             [
              0.2222222222222222,
              "#7201a8"
             ],
             [
              0.3333333333333333,
              "#9c179e"
             ],
             [
              0.4444444444444444,
              "#bd3786"
             ],
             [
              0.5555555555555556,
              "#d8576b"
             ],
             [
              0.6666666666666666,
              "#ed7953"
             ],
             [
              0.7777777777777778,
              "#fb9f3a"
             ],
             [
              0.8888888888888888,
              "#fdca26"
             ],
             [
              1,
              "#f0f921"
             ]
            ],
            "type": "histogram2d"
           }
          ],
          "histogram2dcontour": [
           {
            "colorbar": {
             "outlinewidth": 0,
             "ticks": ""
            },
            "colorscale": [
             [
              0,
              "#0d0887"
             ],
             [
              0.1111111111111111,
              "#46039f"
             ],
             [
              0.2222222222222222,
              "#7201a8"
             ],
             [
              0.3333333333333333,
              "#9c179e"
             ],
             [
              0.4444444444444444,
              "#bd3786"
             ],
             [
              0.5555555555555556,
              "#d8576b"
             ],
             [
              0.6666666666666666,
              "#ed7953"
             ],
             [
              0.7777777777777778,
              "#fb9f3a"
             ],
             [
              0.8888888888888888,
              "#fdca26"
             ],
             [
              1,
              "#f0f921"
             ]
            ],
            "type": "histogram2dcontour"
           }
          ],
          "mesh3d": [
           {
            "colorbar": {
             "outlinewidth": 0,
             "ticks": ""
            },
            "type": "mesh3d"
           }
          ],
          "parcoords": [
           {
            "line": {
             "colorbar": {
              "outlinewidth": 0,
              "ticks": ""
             }
            },
            "type": "parcoords"
           }
          ],
          "pie": [
           {
            "automargin": true,
            "type": "pie"
           }
          ],
          "scatter": [
           {
            "marker": {
             "colorbar": {
              "outlinewidth": 0,
              "ticks": ""
             }
            },
            "type": "scatter"
           }
          ],
          "scatter3d": [
           {
            "line": {
             "colorbar": {
              "outlinewidth": 0,
              "ticks": ""
             }
            },
            "marker": {
             "colorbar": {
              "outlinewidth": 0,
              "ticks": ""
             }
            },
            "type": "scatter3d"
           }
          ],
          "scattercarpet": [
           {
            "marker": {
             "colorbar": {
              "outlinewidth": 0,
              "ticks": ""
             }
            },
            "type": "scattercarpet"
           }
          ],
          "scattergeo": [
           {
            "marker": {
             "colorbar": {
              "outlinewidth": 0,
              "ticks": ""
             }
            },
            "type": "scattergeo"
           }
          ],
          "scattergl": [
           {
            "marker": {
             "colorbar": {
              "outlinewidth": 0,
              "ticks": ""
             }
            },
            "type": "scattergl"
           }
          ],
          "scattermapbox": [
           {
            "marker": {
             "colorbar": {
              "outlinewidth": 0,
              "ticks": ""
             }
            },
            "type": "scattermapbox"
           }
          ],
          "scatterpolar": [
           {
            "marker": {
             "colorbar": {
              "outlinewidth": 0,
              "ticks": ""
             }
            },
            "type": "scatterpolar"
           }
          ],
          "scatterpolargl": [
           {
            "marker": {
             "colorbar": {
              "outlinewidth": 0,
              "ticks": ""
             }
            },
            "type": "scatterpolargl"
           }
          ],
          "scatterternary": [
           {
            "marker": {
             "colorbar": {
              "outlinewidth": 0,
              "ticks": ""
             }
            },
            "type": "scatterternary"
           }
          ],
          "surface": [
           {
            "colorbar": {
             "outlinewidth": 0,
             "ticks": ""
            },
            "colorscale": [
             [
              0,
              "#0d0887"
             ],
             [
              0.1111111111111111,
              "#46039f"
             ],
             [
              0.2222222222222222,
              "#7201a8"
             ],
             [
              0.3333333333333333,
              "#9c179e"
             ],
             [
              0.4444444444444444,
              "#bd3786"
             ],
             [
              0.5555555555555556,
              "#d8576b"
             ],
             [
              0.6666666666666666,
              "#ed7953"
             ],
             [
              0.7777777777777778,
              "#fb9f3a"
             ],
             [
              0.8888888888888888,
              "#fdca26"
             ],
             [
              1,
              "#f0f921"
             ]
            ],
            "type": "surface"
           }
          ],
          "table": [
           {
            "cells": {
             "fill": {
              "color": "#EBF0F8"
             },
             "line": {
              "color": "white"
             }
            },
            "header": {
             "fill": {
              "color": "#C8D4E3"
             },
             "line": {
              "color": "white"
             }
            },
            "type": "table"
           }
          ]
         },
         "layout": {
          "annotationdefaults": {
           "arrowcolor": "#2a3f5f",
           "arrowhead": 0,
           "arrowwidth": 1
          },
          "coloraxis": {
           "colorbar": {
            "outlinewidth": 0,
            "ticks": ""
           }
          },
          "colorscale": {
           "diverging": [
            [
             0,
             "#8e0152"
            ],
            [
             0.1,
             "#c51b7d"
            ],
            [
             0.2,
             "#de77ae"
            ],
            [
             0.3,
             "#f1b6da"
            ],
            [
             0.4,
             "#fde0ef"
            ],
            [
             0.5,
             "#f7f7f7"
            ],
            [
             0.6,
             "#e6f5d0"
            ],
            [
             0.7,
             "#b8e186"
            ],
            [
             0.8,
             "#7fbc41"
            ],
            [
             0.9,
             "#4d9221"
            ],
            [
             1,
             "#276419"
            ]
           ],
           "sequential": [
            [
             0,
             "#0d0887"
            ],
            [
             0.1111111111111111,
             "#46039f"
            ],
            [
             0.2222222222222222,
             "#7201a8"
            ],
            [
             0.3333333333333333,
             "#9c179e"
            ],
            [
             0.4444444444444444,
             "#bd3786"
            ],
            [
             0.5555555555555556,
             "#d8576b"
            ],
            [
             0.6666666666666666,
             "#ed7953"
            ],
            [
             0.7777777777777778,
             "#fb9f3a"
            ],
            [
             0.8888888888888888,
             "#fdca26"
            ],
            [
             1,
             "#f0f921"
            ]
           ],
           "sequentialminus": [
            [
             0,
             "#0d0887"
            ],
            [
             0.1111111111111111,
             "#46039f"
            ],
            [
             0.2222222222222222,
             "#7201a8"
            ],
            [
             0.3333333333333333,
             "#9c179e"
            ],
            [
             0.4444444444444444,
             "#bd3786"
            ],
            [
             0.5555555555555556,
             "#d8576b"
            ],
            [
             0.6666666666666666,
             "#ed7953"
            ],
            [
             0.7777777777777778,
             "#fb9f3a"
            ],
            [
             0.8888888888888888,
             "#fdca26"
            ],
            [
             1,
             "#f0f921"
            ]
           ]
          },
          "colorway": [
           "#636efa",
           "#EF553B",
           "#00cc96",
           "#ab63fa",
           "#FFA15A",
           "#19d3f3",
           "#FF6692",
           "#B6E880",
           "#FF97FF",
           "#FECB52"
          ],
          "font": {
           "color": "#2a3f5f"
          },
          "geo": {
           "bgcolor": "white",
           "lakecolor": "white",
           "landcolor": "#E5ECF6",
           "showlakes": true,
           "showland": true,
           "subunitcolor": "white"
          },
          "hoverlabel": {
           "align": "left"
          },
          "hovermode": "closest",
          "mapbox": {
           "style": "light"
          },
          "paper_bgcolor": "white",
          "plot_bgcolor": "#E5ECF6",
          "polar": {
           "angularaxis": {
            "gridcolor": "white",
            "linecolor": "white",
            "ticks": ""
           },
           "bgcolor": "#E5ECF6",
           "radialaxis": {
            "gridcolor": "white",
            "linecolor": "white",
            "ticks": ""
           }
          },
          "scene": {
           "xaxis": {
            "backgroundcolor": "#E5ECF6",
            "gridcolor": "white",
            "gridwidth": 2,
            "linecolor": "white",
            "showbackground": true,
            "ticks": "",
            "zerolinecolor": "white"
           },
           "yaxis": {
            "backgroundcolor": "#E5ECF6",
            "gridcolor": "white",
            "gridwidth": 2,
            "linecolor": "white",
            "showbackground": true,
            "ticks": "",
            "zerolinecolor": "white"
           },
           "zaxis": {
            "backgroundcolor": "#E5ECF6",
            "gridcolor": "white",
            "gridwidth": 2,
            "linecolor": "white",
            "showbackground": true,
            "ticks": "",
            "zerolinecolor": "white"
           }
          },
          "shapedefaults": {
           "line": {
            "color": "#2a3f5f"
           }
          },
          "ternary": {
           "aaxis": {
            "gridcolor": "white",
            "linecolor": "white",
            "ticks": ""
           },
           "baxis": {
            "gridcolor": "white",
            "linecolor": "white",
            "ticks": ""
           },
           "bgcolor": "#E5ECF6",
           "caxis": {
            "gridcolor": "white",
            "linecolor": "white",
            "ticks": ""
           }
          },
          "title": {
           "x": 0.05
          },
          "xaxis": {
           "automargin": true,
           "gridcolor": "white",
           "linecolor": "white",
           "ticks": "",
           "title": {
            "standoff": 15
           },
           "zerolinecolor": "white",
           "zerolinewidth": 2
          },
          "yaxis": {
           "automargin": true,
           "gridcolor": "white",
           "linecolor": "white",
           "ticks": "",
           "title": {
            "standoff": 15
           },
           "zerolinecolor": "white",
           "zerolinewidth": 2
          }
         }
        },
        "title": {
         "text": "Feature Importances (Larger Bar = More Important)"
        },
        "width": 1000,
        "xaxis": {
         "anchor": "y",
         "autorange": true,
         "domain": [
          0,
          1
         ],
         "range": [
          0,
          661.0526315789474
         ],
         "title": {
          "text": "Importance"
         },
         "type": "linear"
        },
        "yaxis": {
         "anchor": "x",
         "autorange": true,
         "domain": [
          0,
          1
         ],
         "range": [
          -0.5,
          4.5
         ],
         "title": {
          "text": "Feature"
         },
         "type": "category"
        }
       }
      },
      "image/png": "[encoded data removed]",
      "text/html": [
       "<div>\n",
       "        \n",
       "        \n",
       "            <div id=\"60060c7c-ef95-4d5b-b290-503da9fab2de\" class=\"plotly-graph-div\" style=\"height:600px; width:1000px;\"></div>\n",
       "            <script type=\"text/javascript\">\n",
       "                require([\"plotly\"], function(Plotly) {\n",
       "                    window.PLOTLYENV=window.PLOTLYENV || {};\n",
       "                    \n",
       "                if (document.getElementById(\"60060c7c-ef95-4d5b-b290-503da9fab2de\")) {\n",
       "                    Plotly.newPlot(\n",
       "                        '60060c7c-ef95-4d5b-b290-503da9fab2de',\n",
       "                        [{\"alignmentgroup\": \"True\", \"hovertemplate\": \"Importance=%{x}<br>Feature=%{y}<extra></extra>\", \"legendgroup\": \"\", \"marker\": {\"color\": \"#636efa\"}, \"name\": \"\", \"offsetgroup\": \"\", \"orientation\": \"h\", \"showlegend\": false, \"textposition\": \"auto\", \"type\": \"bar\", \"x\": [628, 275, 102, 79, 51], \"xaxis\": \"x\", \"y\": [\"Feedback_ID\", \"Feedback_DateTime\", \"Feedback_Rating\", \"Feedback_TenantId\", \"User_Commercial_TotalEnabledUsers\"], \"yaxis\": \"y\"}],\n",
       "                        {\"barmode\": \"relative\", \"height\": 600, \"legend\": {\"tracegroupgap\": 0}, \"template\": {\"data\": {\"bar\": [{\"error_x\": {\"color\": \"#2a3f5f\"}, \"error_y\": {\"color\": \"#2a3f5f\"}, \"marker\": {\"line\": {\"color\": \"#E5ECF6\", \"width\": 0.5}}, \"type\": \"bar\"}], \"barpolar\": [{\"marker\": {\"line\": {\"color\": \"#E5ECF6\", \"width\": 0.5}}, \"type\": \"barpolar\"}], \"carpet\": [{\"aaxis\": {\"endlinecolor\": \"#2a3f5f\", \"gridcolor\": \"white\", \"linecolor\": \"white\", \"minorgridcolor\": \"white\", \"startlinecolor\": \"#2a3f5f\"}, \"baxis\": {\"endlinecolor\": \"#2a3f5f\", \"gridcolor\": \"white\", \"linecolor\": \"white\", \"minorgridcolor\": \"white\", \"startlinecolor\": \"#2a3f5f\"}, \"type\": \"carpet\"}], \"choropleth\": [{\"colorbar\": {\"outlinewidth\": 0, \"ticks\": \"\"}, \"type\": \"choropleth\"}], \"contour\": [{\"colorbar\": {\"outlinewidth\": 0, \"ticks\": \"\"}, \"colorscale\": [[0.0, \"#0d0887\"], [0.1111111111111111, \"#46039f\"], [0.2222222222222222, \"#7201a8\"], [0.3333333333333333, \"#9c179e\"], [0.4444444444444444, \"#bd3786\"], [0.5555555555555556, \"#d8576b\"], [0.6666666666666666, \"#ed7953\"], [0.7777777777777778, \"#fb9f3a\"], [0.8888888888888888, \"#fdca26\"], [1.0, \"#f0f921\"]], \"type\": \"contour\"}], \"contourcarpet\": [{\"colorbar\": {\"outlinewidth\": 0, \"ticks\": \"\"}, \"type\": \"contourcarpet\"}], \"heatmap\": [{\"colorbar\": {\"outlinewidth\": 0, \"ticks\": \"\"}, \"colorscale\": [[0.0, \"#0d0887\"], [0.1111111111111111, \"#46039f\"], [0.2222222222222222, \"#7201a8\"], [0.3333333333333333, \"#9c179e\"], [0.4444444444444444, \"#bd3786\"], [0.5555555555555556, \"#d8576b\"], [0.6666666666666666, \"#ed7953\"], [0.7777777777777778, \"#fb9f3a\"], [0.8888888888888888, \"#fdca26\"], [1.0, \"#f0f921\"]], \"type\": \"heatmap\"}], \"heatmapgl\": [{\"colorbar\": {\"outlinewidth\": 0, \"ticks\": \"\"}, \"colorscale\": [[0.0, \"#0d0887\"], [0.1111111111111111, \"#46039f\"], [0.2222222222222222, \"#7201a8\"], [0.3333333333333333, \"#9c179e\"], [0.4444444444444444, \"#bd3786\"], [0.5555555555555556, \"#d8576b\"], [0.6666666666666666, \"#ed7953\"], [0.7777777777777778, \"#fb9f3a\"], [0.8888888888888888, \"#fdca26\"], [1.0, \"#f0f921\"]], \"type\": \"heatmapgl\"}], \"histogram\": [{\"marker\": {\"colorbar\": {\"outlinewidth\": 0, \"ticks\": \"\"}}, \"type\": \"histogram\"}], \"histogram2d\": [{\"colorbar\": {\"outlinewidth\": 0, \"ticks\": \"\"}, \"colorscale\": [[0.0, \"#0d0887\"], [0.1111111111111111, \"#46039f\"], [0.2222222222222222, \"#7201a8\"], [0.3333333333333333, \"#9c179e\"], [0.4444444444444444, \"#bd3786\"], [0.5555555555555556, \"#d8576b\"], [0.6666666666666666, \"#ed7953\"], [0.7777777777777778, \"#fb9f3a\"], [0.8888888888888888, \"#fdca26\"], [1.0, \"#f0f921\"]], \"type\": \"histogram2d\"}], \"histogram2dcontour\": [{\"colorbar\": {\"outlinewidth\": 0, \"ticks\": \"\"}, \"colorscale\": [[0.0, \"#0d0887\"], [0.1111111111111111, \"#46039f\"], [0.2222222222222222, \"#7201a8\"], [0.3333333333333333, \"#9c179e\"], [0.4444444444444444, \"#bd3786\"], [0.5555555555555556, \"#d8576b\"], [0.6666666666666666, \"#ed7953\"], [0.7777777777777778, \"#fb9f3a\"], [0.8888888888888888, \"#fdca26\"], [1.0, \"#f0f921\"]], \"type\": \"histogram2dcontour\"}], \"mesh3d\": [{\"colorbar\": {\"outlinewidth\": 0, \"ticks\": \"\"}, \"type\": \"mesh3d\"}], \"parcoords\": [{\"line\": {\"colorbar\": {\"outlinewidth\": 0, \"ticks\": \"\"}}, \"type\": \"parcoords\"}], \"pie\": [{\"automargin\": true, \"type\": \"pie\"}], \"scatter\": [{\"marker\": {\"colorbar\": {\"outlinewidth\": 0, \"ticks\": \"\"}}, \"type\": \"scatter\"}], \"scatter3d\": [{\"line\": {\"colorbar\": {\"outlinewidth\": 0, \"ticks\": \"\"}}, \"marker\": {\"colorbar\": {\"outlinewidth\": 0, \"ticks\": \"\"}}, \"type\": \"scatter3d\"}], \"scattercarpet\": [{\"marker\": {\"colorbar\": {\"outlinewidth\": 0, \"ticks\": \"\"}}, \"type\": \"scattercarpet\"}], \"scattergeo\": [{\"marker\": {\"colorbar\": {\"outlinewidth\": 0, \"ticks\": \"\"}}, \"type\": \"scattergeo\"}], \"scattergl\": [{\"marker\": {\"colorbar\": {\"outlinewidth\": 0, \"ticks\": \"\"}}, \"type\": \"scattergl\"}], \"scattermapbox\": [{\"marker\": {\"colorbar\": {\"outlinewidth\": 0, \"ticks\": \"\"}}, \"type\": \"scattermapbox\"}], \"scatterpolar\": [{\"marker\": {\"colorbar\": {\"outlinewidth\": 0, \"ticks\": \"\"}}, \"type\": \"scatterpolar\"}], \"scatterpolargl\": [{\"marker\": {\"colorbar\": {\"outlinewidth\": 0, \"ticks\": \"\"}}, \"type\": \"scatterpolargl\"}], \"scatterternary\": [{\"marker\": {\"colorbar\": {\"outlinewidth\": 0, \"ticks\": \"\"}}, \"type\": \"scatterternary\"}], \"surface\": [{\"colorbar\": {\"outlinewidth\": 0, \"ticks\": \"\"}, \"colorscale\": [[0.0, \"#0d0887\"], [0.1111111111111111, \"#46039f\"], [0.2222222222222222, \"#7201a8\"], [0.3333333333333333, \"#9c179e\"], [0.4444444444444444, \"#bd3786\"], [0.5555555555555556, \"#d8576b\"], [0.6666666666666666, \"#ed7953\"], [0.7777777777777778, \"#fb9f3a\"], [0.8888888888888888, \"#fdca26\"], [1.0, \"#f0f921\"]], \"type\": \"surface\"}], \"table\": [{\"cells\": {\"fill\": {\"color\": \"#EBF0F8\"}, \"line\": {\"color\": \"white\"}}, \"header\": {\"fill\": {\"color\": \"#C8D4E3\"}, \"line\": {\"color\": \"white\"}}, \"type\": \"table\"}]}, \"layout\": {\"annotationdefaults\": {\"arrowcolor\": \"#2a3f5f\", \"arrowhead\": 0, \"arrowwidth\": 1}, \"coloraxis\": {\"colorbar\": {\"outlinewidth\": 0, \"ticks\": \"\"}}, \"colorscale\": {\"diverging\": [[0, \"#8e0152\"], [0.1, \"#c51b7d\"], [0.2, \"#de77ae\"], [0.3, \"#f1b6da\"], [0.4, \"#fde0ef\"], [0.5, \"#f7f7f7\"], [0.6, \"#e6f5d0\"], [0.7, \"#b8e186\"], [0.8, \"#7fbc41\"], [0.9, \"#4d9221\"], [1, \"#276419\"]], \"sequential\": [[0.0, \"#0d0887\"], [0.1111111111111111, \"#46039f\"], [0.2222222222222222, \"#7201a8\"], [0.3333333333333333, \"#9c179e\"], [0.4444444444444444, \"#bd3786\"], [0.5555555555555556, \"#d8576b\"], [0.6666666666666666, \"#ed7953\"], [0.7777777777777778, \"#fb9f3a\"], [0.8888888888888888, \"#fdca26\"], [1.0, \"#f0f921\"]], \"sequentialminus\": [[0.0, \"#0d0887\"], [0.1111111111111111, \"#46039f\"], [0.2222222222222222, \"#7201a8\"], [0.3333333333333333, \"#9c179e\"], [0.4444444444444444, \"#bd3786\"], [0.5555555555555556, \"#d8576b\"], [0.6666666666666666, \"#ed7953\"], [0.7777777777777778, \"#fb9f3a\"], [0.8888888888888888, \"#fdca26\"], [1.0, \"#f0f921\"]]}, \"colorway\": [\"#636efa\", \"#EF553B\", \"#00cc96\", \"#ab63fa\", \"#FFA15A\", \"#19d3f3\", \"#FF6692\", \"#B6E880\", \"#FF97FF\", \"#FECB52\"], \"font\": {\"color\": \"#2a3f5f\"}, \"geo\": {\"bgcolor\": \"white\", \"lakecolor\": \"white\", \"landcolor\": \"#E5ECF6\", \"showlakes\": true, \"showland\": true, \"subunitcolor\": \"white\"}, \"hoverlabel\": {\"align\": \"left\"}, \"hovermode\": \"closest\", \"mapbox\": {\"style\": \"light\"}, \"paper_bgcolor\": \"white\", \"plot_bgcolor\": \"#E5ECF6\", \"polar\": {\"angularaxis\": {\"gridcolor\": \"white\", \"linecolor\": \"white\", \"ticks\": \"\"}, \"bgcolor\": \"#E5ECF6\", \"radialaxis\": {\"gridcolor\": \"white\", \"linecolor\": \"white\", \"ticks\": \"\"}}, \"scene\": {\"xaxis\": {\"backgroundcolor\": \"#E5ECF6\", \"gridcolor\": \"white\", \"gridwidth\": 2, \"linecolor\": \"white\", \"showbackground\": true, \"ticks\": \"\", \"zerolinecolor\": \"white\"}, \"yaxis\": {\"backgroundcolor\": \"#E5ECF6\", \"gridcolor\": \"white\", \"gridwidth\": 2, \"linecolor\": \"white\", \"showbackground\": true, \"ticks\": \"\", \"zerolinecolor\": \"white\"}, \"zaxis\": {\"backgroundcolor\": \"#E5ECF6\", \"gridcolor\": \"white\", \"gridwidth\": 2, \"linecolor\": \"white\", \"showbackground\": true, \"ticks\": \"\", \"zerolinecolor\": \"white\"}}, \"shapedefaults\": {\"line\": {\"color\": \"#2a3f5f\"}}, \"ternary\": {\"aaxis\": {\"gridcolor\": \"white\", \"linecolor\": \"white\", \"ticks\": \"\"}, \"baxis\": {\"gridcolor\": \"white\", \"linecolor\": \"white\", \"ticks\": \"\"}, \"bgcolor\": \"#E5ECF6\", \"caxis\": {\"gridcolor\": \"white\", \"linecolor\": \"white\", \"ticks\": \"\"}}, \"title\": {\"x\": 0.05}, \"xaxis\": {\"automargin\": true, \"gridcolor\": \"white\", \"linecolor\": \"white\", \"ticks\": \"\", \"title\": {\"standoff\": 15}, \"zerolinecolor\": \"white\", \"zerolinewidth\": 2}, \"yaxis\": {\"automargin\": true, \"gridcolor\": \"white\", \"linecolor\": \"white\", \"ticks\": \"\", \"title\": {\"standoff\": 15}, \"zerolinecolor\": \"white\", \"zerolinewidth\": 2}}}, \"title\": {\"text\": \"Feature Importances (Larger Bar = More Important)\"}, \"width\": 1000, \"xaxis\": {\"anchor\": \"y\", \"domain\": [0.0, 1.0], \"title\": {\"text\": \"Importance\"}}, \"yaxis\": {\"anchor\": \"x\", \"domain\": [0.0, 1.0], \"title\": {\"text\": \"Feature\"}}},\n",
       "                        {\"responsive\": true}\n",
       "                    ).then(function(){\n",
       "                            \n",
       "var gd = document.getElementById('60060c7c-ef95-4d5b-b290-503da9fab2de');\n",
       "var x = new MutationObserver(function (mutations, observer) {{\n",
       "        var display = window.getComputedStyle(gd).display;\n",
       "        if (!display || display === 'none') {{\n",
       "            console.log([gd, 'removed!']);\n",
       "            Plotly.purge(gd);\n",
       "            observer.disconnect();\n",
       "        }}\n",
       "}});\n",
       "\n",
       "// Listen for the removal of the full notebook cells\n",
       "var notebookContainer = gd.closest('#notebook-container');\n",
       "if (notebookContainer) {{\n",
       "    x.observe(notebookContainer, {childList: true});\n",
       "}}\n",
       "\n",
       "// Listen for the clearing of the current output cell\n",
       "var outputEl = gd.closest('.output');\n",
       "if (outputEl) {{\n",
       "    x.observe(outputEl, {childList: true});\n",
       "}}\n",
       "\n",
       "                        })\n",
       "                };\n",
       "                });\n",
       "            </script>\n",
       "        </div>"
      ]
     },
     "metadata": {},
     "output_type": "display_data"
    }
   ],
   "source": [
    "a, b = find_drivers(sample_df, 'Feedback_RatingValue', 'lgb', num_top_features = 5, tune_params = True, \n",
    "                 task = 'classification', binary_or_multiclass = 'binary', method = 'tree', big_data = True, plot = True)"
   ]
  },
  {
   "cell_type": "code",
   "execution_count": 45,
   "metadata": {},
   "outputs": [
    {
     "data": {
      "text/html": [
       "<div>\n",
       "<style scoped>\n",
       "    .dataframe tbody tr th:only-of-type {\n",
       "        vertical-align: middle;\n",
       "    }\n",
       "\n",
       "    .dataframe tbody tr th {\n",
       "        vertical-align: top;\n",
       "    }\n",
       "\n",
       "    .dataframe thead th {\n",
       "        text-align: right;\n",
       "    }\n",
       "</style>\n",
       "<table border=\"1\" class=\"dataframe\">\n",
       "  <thead>\n",
       "    <tr style=\"text-align: right;\">\n",
       "      <th></th>\n",
       "      <th>Importance</th>\n",
       "      <th>Feature</th>\n",
       "    </tr>\n",
       "  </thead>\n",
       "  <tbody>\n",
       "    <tr>\n",
       "      <th>0</th>\n",
       "      <td>0</td>\n",
       "      <td>Tenant_HasQuickStart</td>\n",
       "    </tr>\n",
       "    <tr>\n",
       "      <th>1</th>\n",
       "      <td>0</td>\n",
       "      <td>Tenant_HasExchange</td>\n",
       "    </tr>\n",
       "    <tr>\n",
       "      <th>2</th>\n",
       "      <td>0</td>\n",
       "      <td>Tenant_HasLync</td>\n",
       "    </tr>\n",
       "    <tr>\n",
       "      <th>3</th>\n",
       "      <td>0</td>\n",
       "      <td>Tenant_HasYammer</td>\n",
       "    </tr>\n",
       "    <tr>\n",
       "      <th>4</th>\n",
       "      <td>0</td>\n",
       "      <td>Device_OsCodeName</td>\n",
       "    </tr>\n",
       "  </tbody>\n",
       "</table>\n",
       "</div>"
      ],
      "text/plain": [
       "   Importance               Feature\n",
       "0           0  Tenant_HasQuickStart\n",
       "1           0    Tenant_HasExchange\n",
       "2           0        Tenant_HasLync\n",
       "3           0      Tenant_HasYammer\n",
       "4           0     Device_OsCodeName"
      ]
     },
     "execution_count": 45,
     "metadata": {},
     "output_type": "execute_result"
    }
   ],
   "source": [
    "a"
   ]
  },
  {
   "cell_type": "code",
   "execution_count": 46,
   "metadata": {},
   "outputs": [
    {
     "data": {
      "text/html": [
       "<div>\n",
       "<style scoped>\n",
       "    .dataframe tbody tr th:only-of-type {\n",
       "        vertical-align: middle;\n",
       "    }\n",
       "\n",
       "    .dataframe tbody tr th {\n",
       "        vertical-align: top;\n",
       "    }\n",
       "\n",
       "    .dataframe thead th {\n",
       "        text-align: right;\n",
       "    }\n",
       "</style>\n",
       "<table border=\"1\" class=\"dataframe\">\n",
       "  <thead>\n",
       "    <tr style=\"text-align: right;\">\n",
       "      <th></th>\n",
       "      <th>Device_OsCodeName</th>\n",
       "      <th>Tenant_HasYammer</th>\n",
       "      <th>Tenant_HasLync</th>\n",
       "      <th>Tenant_HasExchange</th>\n",
       "      <th>Tenant_HasQuickStart</th>\n",
       "      <th>Feedback_RatingValue</th>\n",
       "    </tr>\n",
       "  </thead>\n",
       "  <tbody>\n",
       "    <tr>\n",
       "      <th>0</th>\n",
       "      <td>0</td>\n",
       "      <td>1.0</td>\n",
       "      <td>1.0</td>\n",
       "      <td>1.0</td>\n",
       "      <td>0.0</td>\n",
       "      <td>0.0</td>\n",
       "    </tr>\n",
       "    <tr>\n",
       "      <th>1</th>\n",
       "      <td>0</td>\n",
       "      <td>0.0</td>\n",
       "      <td>0.0</td>\n",
       "      <td>0.0</td>\n",
       "      <td>0.0</td>\n",
       "      <td>0.0</td>\n",
       "    </tr>\n",
       "    <tr>\n",
       "      <th>2</th>\n",
       "      <td>1</td>\n",
       "      <td>0.0</td>\n",
       "      <td>0.0</td>\n",
       "      <td>0.0</td>\n",
       "      <td>0.0</td>\n",
       "      <td>0.0</td>\n",
       "    </tr>\n",
       "    <tr>\n",
       "      <th>3</th>\n",
       "      <td>2</td>\n",
       "      <td>0.0</td>\n",
       "      <td>0.0</td>\n",
       "      <td>0.0</td>\n",
       "      <td>0.0</td>\n",
       "      <td>0.0</td>\n",
       "    </tr>\n",
       "    <tr>\n",
       "      <th>4</th>\n",
       "      <td>2</td>\n",
       "      <td>1.0</td>\n",
       "      <td>1.0</td>\n",
       "      <td>1.0</td>\n",
       "      <td>0.0</td>\n",
       "      <td>0.0</td>\n",
       "    </tr>\n",
       "  </tbody>\n",
       "</table>\n",
       "</div>"
      ],
      "text/plain": [
       "   Device_OsCodeName  Tenant_HasYammer  Tenant_HasLync  Tenant_HasExchange  \\\n",
       "0                  0               1.0             1.0                 1.0   \n",
       "1                  0               0.0             0.0                 0.0   \n",
       "2                  1               0.0             0.0                 0.0   \n",
       "3                  2               0.0             0.0                 0.0   \n",
       "4                  2               1.0             1.0                 1.0   \n",
       "\n",
       "   Tenant_HasQuickStart  Feedback_RatingValue  \n",
       "0                   0.0                   0.0  \n",
       "1                   0.0                   0.0  \n",
       "2                   0.0                   0.0  \n",
       "3                   0.0                   0.0  \n",
       "4                   0.0                   0.0  "
      ]
     },
     "execution_count": 46,
     "metadata": {},
     "output_type": "execute_result"
    }
   ],
   "source": [
    "b.head()"
   ]
  },
  {
   "cell_type": "code",
   "execution_count": null,
   "metadata": {},
   "outputs": [],
   "source": []
  }
 ],
 "metadata": {
  "kernelspec": {
   "display_name": "Python 3",
   "language": "python",
   "name": "python3"
  },
  "language_info": {
   "codemirror_mode": {
    "name": "ipython",
    "version": 3
   },
   "file_extension": ".py",
   "mimetype": "text/x-python",
   "name": "python",
   "nbconvert_exporter": "python",
   "pygments_lexer": "ipython3",
   "version": "3.7.6"
  }
 },
 "nbformat": 4,
 "nbformat_minor": 4
}
