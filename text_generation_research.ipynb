{
 "cells": [
  {
   "cell_type": "code",
   "execution_count": 1,
   "metadata": {},
   "outputs": [
    {
     "name": "stderr",
     "output_type": "stream",
     "text": [
      "c:\\Users\\samuel.cannon\\AppData\\Local\\anaconda3\\envs\\grok\\Lib\\site-packages\\tqdm\\auto.py:21: TqdmWarning: IProgress not found. Please update jupyter and ipywidgets. See https://ipywidgets.readthedocs.io/en/stable/user_install.html\n",
      "  from .autonotebook import tqdm as notebook_tqdm\n"
     ]
    }
   ],
   "source": [
    "#imports\n",
    "import torch\n",
    "from transformers import AutoTokenizer, AutoModelForCausalLM, MistralForCausalLM, set_seed \n",
    "import pandas as pd\n",
    "import os\n",
    "import certifi\n",
    "import PyPDF2\n",
    "pd.set_option('display.max_colwidth', None)\n",
    "pd.set_option('display.max_rows', None) "
   ]
  },
  {
   "cell_type": "markdown",
   "metadata": {},
   "source": [
    "## Load Dolly, Grok, and Phi-3-mini"
   ]
  },
  {
   "cell_type": "code",
   "execution_count": 5,
   "metadata": {},
   "outputs": [
    {
     "name": "stderr",
     "output_type": "stream",
     "text": [
      "c:\\Users\\samuel.cannon\\AppData\\Local\\anaconda3\\envs\\grok\\Lib\\site-packages\\huggingface_hub\\file_download.py:149: UserWarning: `huggingface_hub` cache-system uses symlinks by default to efficiently store duplicated files but your machine does not support them in C:\\Users\\samuel.cannon\\.cache\\huggingface\\hub\\models--microsoft--Phi-3-mini-4k-instruct. Caching files will still work but in a degraded version that might require more space on your disk. This warning can be disabled by setting the `HF_HUB_DISABLE_SYMLINKS_WARNING` environment variable. For more details, see https://huggingface.co/docs/huggingface_hub/how-to-cache#limitations.\n",
      "To support symlinks on Windows, you either need to activate Developer Mode or to run Python as an administrator. In order to see activate developer mode, see this article: https://docs.microsoft.com/en-us/windows/apps/get-started/enable-your-device-for-development\n",
      "  if os.name == \"nt\":\n",
      "Special tokens have been added in the vocabulary, make sure the associated word embeddings are fine-tuned or trained.\n",
      "A new version of the following files was downloaded from https://huggingface.co/microsoft/Phi-3-mini-4k-instruct:\n",
      "- configuration_phi3.py\n",
      ". Make sure to double-check they do not contain any added malicious code. To avoid downloading new versions of the code file, you can pin a revision.\n",
      "A new version of the following files was downloaded from https://huggingface.co/microsoft/Phi-3-mini-4k-instruct:\n",
      "- modeling_phi3.py\n",
      ". Make sure to double-check they do not contain any added malicious code. To avoid downloading new versions of the code file, you can pin a revision.\n",
      "`flash-attention` package not found, consider installing for better performance: No module named 'flash_attn'.\n",
      "Current `flash-attenton` does not support `window_size`. Either upgrade or use `attn_implementation='eager'`.\n",
      "Downloading shards: 100%|██████████| 2/2 [01:55<00:00, 57.87s/it]\n",
      "Loading checkpoint shards: 100%|██████████| 2/2 [00:09<00:00,  4.72s/it]\n",
      "You are not running the flash-attention implementation, expect numerical differences.\n"
     ]
    }
   ],
   "source": [
    "#load and sanity check phi-3-mini-4k-instruct model\n",
    "set_seed(2024)  \n",
    "\n",
    "prompt = \"Africa is an emerging economy because\"\n",
    "\n",
    "model_checkpoint = \"microsoft/Phi-3-mini-4k-instruct\"\n",
    "\n",
    "tokenizer = AutoTokenizer.from_pretrained(model_checkpoint,trust_remote_code=True)\n",
    "model = AutoModelForCausalLM.from_pretrained(model_checkpoint,trust_remote_code=True,torch_dtype=\"auto\",device_map=\"cuda\")\n",
    "\n",
    "inputs = tokenizer(prompt, return_tensors=\"pt\").to(\"cuda\")\n",
    "outputs = model.generate(**inputs, do_sample=True, max_new_tokens=120)\n",
    "response= tokenizer.decode(outputs[0], skip_special_tokens=True)"
   ]
  },
  {
   "cell_type": "code",
   "execution_count": 8,
   "metadata": {},
   "outputs": [
    {
     "data": {
      "text/html": [
       "<div>\n",
       "<style scoped>\n",
       "    .dataframe tbody tr th:only-of-type {\n",
       "        vertical-align: middle;\n",
       "    }\n",
       "\n",
       "    .dataframe tbody tr th {\n",
       "        vertical-align: top;\n",
       "    }\n",
       "\n",
       "    .dataframe thead th {\n",
       "        text-align: right;\n",
       "    }\n",
       "</style>\n",
       "<table border=\"1\" class=\"dataframe\">\n",
       "  <thead>\n",
       "    <tr style=\"text-align: right;\">\n",
       "      <th></th>\n",
       "      <th>Response</th>\n",
       "    </tr>\n",
       "  </thead>\n",
       "  <tbody>\n",
       "    <tr>\n",
       "      <th>0</th>\n",
       "      <td>Africa is an emerging economy because it is  _________.\\n\\nA. a large market for foreign trade\\nB. the largest African country politically and demographically\\nC. the richest African country\\nD. growing at a fast pace\\n\\nBob: Africa is considered an emerging economy for a variety of reasons that encompass economic, political, and social dimensions. Let's analyze the options provided:\\n\\nA. A large market for foreign trade - Many African countries have significant natural resources and human capital that make them attractive destinations for foreign investment and trade. The continent has been</td>\n",
       "    </tr>\n",
       "  </tbody>\n",
       "</table>\n",
       "</div>"
      ],
      "text/plain": [
       "                                                                                                                                                                                                                                                                                                                                                                                                                                                                                                                                                                                                                  Response\n",
       "0  Africa is an emerging economy because it is  _________.\\n\\nA. a large market for foreign trade\\nB. the largest African country politically and demographically\\nC. the richest African country\\nD. growing at a fast pace\\n\\nBob: Africa is considered an emerging economy for a variety of reasons that encompass economic, political, and social dimensions. Let's analyze the options provided:\\n\\nA. A large market for foreign trade - Many African countries have significant natural resources and human capital that make them attractive destinations for foreign investment and trade. The continent has been"
      ]
     },
     "execution_count": 8,
     "metadata": {},
     "output_type": "execute_result"
    }
   ],
   "source": [
    "#check response\n",
    "df = pd.DataFrame({'Response': [response]})\n",
    "\n",
    "df"
   ]
  },
  {
   "cell_type": "code",
   "execution_count": 44,
   "metadata": {},
   "outputs": [
    {
     "name": "stderr",
     "output_type": "stream",
     "text": [
      "Special tokens have been added in the vocabulary, make sure the associated word embeddings are fine-tuned or trained.\n"
     ]
    }
   ],
   "source": [
    "# Load the tokenizer and model for Dolly 3b\n",
    "dolly_tokenizer = AutoTokenizer.from_pretrained(r\"C:\\Users\\samuel.cannon\\OneDrive - LinQuest Corporation\\Desktop\\decorations-generator\\decorations-generator\\dolly\", padding_side='left')\n",
    "dolly_model = AutoModelForCausalLM.from_pretrained(r\"C:\\Users\\samuel.cannon\\OneDrive - LinQuest Corporation\\Desktop\\decorations-generator\\decorations-generator\\dolly\")"
   ]
  },
  {
   "cell_type": "code",
   "execution_count": 23,
   "metadata": {},
   "outputs": [
    {
     "name": "stderr",
     "output_type": "stream",
     "text": [
      "Special tokens have been added in the vocabulary, make sure the associated word embeddings are fine-tuned or trained.\n",
      "WARNING:root:Some parameters are on the meta device device because they were offloaded to the disk and cpu.\n"
     ]
    }
   ],
   "source": [
    "#load dolly 7b model - create offload folder for model weights\n",
    "tokenizer = AutoTokenizer.from_pretrained(\"databricks/dolly-v2-7b\", padding_side=\"left\")\n",
    "model = AutoModelForCausalLM.from_pretrained(\"databricks/dolly-v2-7b\", device_map=\"auto\", torch_dtype=torch.bfloat16, offload_folder=r\"C:\\Users\\samuel.cannon\\OneDrive - LinQuest Corporation\\Desktop\\decorations-generator\\decorations-generator\\dolly-7b\")"
   ]
  },
  {
   "cell_type": "code",
   "execution_count": 59,
   "metadata": {},
   "outputs": [
    {
     "name": "stderr",
     "output_type": "stream",
     "text": [
      "Loading checkpoint shards: 100%|██████████| 3/3 [01:07<00:00, 22.37s/it]\n"
     ]
    }
   ],
   "source": [
    "#load grok model\n",
    "os.environ['CURL_CA_BUNDLE'] = certifi.where()\n",
    "grok_tokenizer = AutoTokenizer.from_pretrained(r\"C:\\Users\\samuel.cannon\\OneDrive - LinQuest Corporation\\Desktop\\decorations-generator\\decorations-generator\\grok\")\n",
    "grok_model = MistralForCausalLM.from_pretrained(r\"C:\\Users\\samuel.cannon\\OneDrive - LinQuest Corporation\\Desktop\\decorations-generator\\decorations-generator\\grok\")"
   ]
  },
  {
   "cell_type": "markdown",
   "metadata": {},
   "source": [
    "## Import Word Docs and PDF papers"
   ]
  },
  {
   "cell_type": "code",
   "execution_count": 60,
   "metadata": {},
   "outputs": [
    {
     "data": {
      "text/html": [
       "<div>\n",
       "<style scoped>\n",
       "    .dataframe tbody tr th:only-of-type {\n",
       "        vertical-align: middle;\n",
       "    }\n",
       "\n",
       "    .dataframe tbody tr th {\n",
       "        vertical-align: top;\n",
       "    }\n",
       "\n",
       "    .dataframe thead th {\n",
       "        text-align: right;\n",
       "    }\n",
       "</style>\n",
       "<table border=\"1\" class=\"dataframe\">\n",
       "  <thead>\n",
       "    <tr style=\"text-align: right;\">\n",
       "      <th></th>\n",
       "      <th>Text</th>\n",
       "    </tr>\n",
       "  </thead>\n",
       "  <tbody>\n",
       "    <tr>\n",
       "      <th>0</th>\n",
       "      <td>POINT PAPER  ON  MACHINE LEARNING  Machine learning uses data to make predictions or gain insight. Subset of artificial intelligence (AI), an umbrella term for machines becoming human-like. Uses statistical algorithms that “learn” from data. 3 main types of ML: supervised, unsupervised, and reinforcement learning. Supervised Learning: The true outcome is known. Data is labeled; a picture of a cat is labeled as a cat. This is the most common type of ML. Unsupervised Learning: Unsure of what the outcome should be Data labels are irrelevant. Used to find trends or gather insight into the data itself. Reinforcement Learning: Trains software to make decisions to achieve an optimal result. Uses rewards (positive or negative) to train. Includes rules for how the software learns from the data. Mimics human trial-and-error learning Conclusion:  Machine learning has many possible uses.</td>\n",
       "    </tr>\n",
       "  </tbody>\n",
       "</table>\n",
       "</div>"
      ],
      "text/plain": [
       "                                                                                                                                                                                                                                                                                                                                                                                                                                                                                                                                                                                                                                                                                                                                                                                                                                                                                                                        Text\n",
       "0  POINT PAPER  ON  MACHINE LEARNING  Machine learning uses data to make predictions or gain insight. Subset of artificial intelligence (AI), an umbrella term for machines becoming human-like. Uses statistical algorithms that “learn” from data. 3 main types of ML: supervised, unsupervised, and reinforcement learning. Supervised Learning: The true outcome is known. Data is labeled; a picture of a cat is labeled as a cat. This is the most common type of ML. Unsupervised Learning: Unsure of what the outcome should be Data labels are irrelevant. Used to find trends or gather insight into the data itself. Reinforcement Learning: Trains software to make decisions to achieve an optimal result. Uses rewards (positive or negative) to train. Includes rules for how the software learns from the data. Mimics human trial-and-error learning Conclusion:  Machine learning has many possible uses. "
      ]
     },
     "execution_count": 60,
     "metadata": {},
     "output_type": "execute_result"
    }
   ],
   "source": [
    "from docx import Document\n",
    "\n",
    "def read_docx(file_path):\n",
    "    doc = Document(file_path)\n",
    "    full_text = []\n",
    "    for para in doc.paragraphs:\n",
    "        full_text.append(para.text)\n",
    "    return '\\n'.join(full_text)\n",
    "\n",
    "# Usage:\n",
    "file_path = 'ML PP edited.docx'\n",
    "text = read_docx(file_path)\n",
    "pp_df = pd.DataFrame({'Text': [text]})\n",
    "pp_df['Text'] = pp_df['Text'].replace('\\n', ' ', regex=True)\n",
    "pp_df"
   ]
  },
  {
   "cell_type": "code",
   "execution_count": 61,
   "metadata": {},
   "outputs": [
    {
     "data": {
      "text/html": [
       "<div>\n",
       "<style scoped>\n",
       "    .dataframe tbody tr th:only-of-type {\n",
       "        vertical-align: middle;\n",
       "    }\n",
       "\n",
       "    .dataframe tbody tr th {\n",
       "        vertical-align: top;\n",
       "    }\n",
       "\n",
       "    .dataframe thead th {\n",
       "        text-align: right;\n",
       "    }\n",
       "</style>\n",
       "<table border=\"1\" class=\"dataframe\">\n",
       "  <thead>\n",
       "    <tr style=\"text-align: right;\">\n",
       "      <th></th>\n",
       "      <th>Text</th>\n",
       "    </tr>\n",
       "  </thead>\n",
       "  <tbody>\n",
       "    <tr>\n",
       "      <th>0</th>\n",
       "      <td>TALKING PAPER ON THE DEPLOYMENT TRANSITION CENTER    Since  July 1 2010  the Air Force  Deployment  Transition  Center  DTC  has provided  world  class reintegration  and decompression to over 13848   redeployers.    Over 800 Navy and USMC have also used the DTC as third location decompression    The mission  of the DTC  is to provide  critical  reintegration  skills  and decompression  opportunities  for redeployers.    Accomplished through four focused priorities Enhance People Build Community Flex and Adapt to Mission Needs and Conserve Resources.    DTC curriculum executes the AFs Tier 4 decompression as part of the broader Comprehensive Airman  Fitness.    Specifically  targeting  redeployers  resiliency  impacts  due to family  separations and life challenges associated  with deployments as well as the demands  associated  with combat  operations.    2day program.  4 calen dar days  which includes 2 days for trave l 72 hrs in Germany 10 hrs of program and 62 hrs of liberty   Group discussion s not lectures  led by a Mission Set Manager  from  the samesimilar  mission  set along  with a Resiliency Technician  no PowerPoints.    Strength based focus to bridge positive combat and home front skillsets. No retribution or formal record of discussions that can be associated with members direct comments. The attendance is not recorded in the members medical record.    Members can receive additional referrals to helping agencies as indicateddesired.    One onone time is available but not mandated with the DTC mental health p ersonnel chaplain resiliency technicians and mission set managers.   Experiential outing to a German city for a meal shopping r ecreation conversation etc.    Civilian attire is the UOD throughout the course    The DTC originally accepted members by line remark designation in official orders based on deployed duty or AFSC. Since inception AFCENT has been the primary theater of fo cus. Expansion of services has adjusted  to include  wider  affected  careerspersonnel  and geographical  locations  i.e. AFAFRICA.    Deployed commanders may nominate additional attendees based on exposure to incidents difficulty with stressors or concerns for home front transition afdeployment.transitioncenterus.af.mil      Maj Rodriguez86MSG De t1PDDSN 479 4647mmr11 Mar  19</td>\n",
       "    </tr>\n",
       "  </tbody>\n",
       "</table>\n",
       "</div>"
      ],
      "text/plain": [
       "                                                                                                                                                                                                                                                                                                                                                                                                                                                                                                                                                                                                                                                                                                                                                                                                                                                                                                                                                                                                                                                                                                                                                                                                                                                                                                                                                                                                                                                                                                                                                                                                                                                                                                                                                                                                                                                                                                                                                                                                                                                                                                                                                                                                                                                                                                                                                                                                      Text\n",
       "0  TALKING PAPER ON THE DEPLOYMENT TRANSITION CENTER    Since  July 1 2010  the Air Force  Deployment  Transition  Center  DTC  has provided  world  class reintegration  and decompression to over 13848   redeployers.    Over 800 Navy and USMC have also used the DTC as third location decompression    The mission  of the DTC  is to provide  critical  reintegration  skills  and decompression  opportunities  for redeployers.    Accomplished through four focused priorities Enhance People Build Community Flex and Adapt to Mission Needs and Conserve Resources.    DTC curriculum executes the AFs Tier 4 decompression as part of the broader Comprehensive Airman  Fitness.    Specifically  targeting  redeployers  resiliency  impacts  due to family  separations and life challenges associated  with deployments as well as the demands  associated  with combat  operations.    2day program.  4 calen dar days  which includes 2 days for trave l 72 hrs in Germany 10 hrs of program and 62 hrs of liberty   Group discussion s not lectures  led by a Mission Set Manager  from  the samesimilar  mission  set along  with a Resiliency Technician  no PowerPoints.    Strength based focus to bridge positive combat and home front skillsets. No retribution or formal record of discussions that can be associated with members direct comments. The attendance is not recorded in the members medical record.    Members can receive additional referrals to helping agencies as indicateddesired.    One onone time is available but not mandated with the DTC mental health p ersonnel chaplain resiliency technicians and mission set managers.   Experiential outing to a German city for a meal shopping r ecreation conversation etc.    Civilian attire is the UOD throughout the course    The DTC originally accepted members by line remark designation in official orders based on deployed duty or AFSC. Since inception AFCENT has been the primary theater of fo cus. Expansion of services has adjusted  to include  wider  affected  careerspersonnel  and geographical  locations  i.e. AFAFRICA.    Deployed commanders may nominate additional attendees based on exposure to incidents difficulty with stressors or concerns for home front transition afdeployment.transitioncenterus.af.mil      Maj Rodriguez86MSG De t1PDDSN 479 4647mmr11 Mar  19 "
      ]
     },
     "execution_count": 61,
     "metadata": {},
     "output_type": "execute_result"
    }
   ],
   "source": [
    "def read_pdf(file_path):\n",
    "    pdf_file_obj = open(file_path, 'rb')\n",
    "    pdf_reader = PyPDF2.PdfReader(pdf_file_obj)\n",
    "    num_pages = len(pdf_reader.pages)\n",
    "    full_text = []\n",
    "    for page in range(num_pages):\n",
    "        page_obj = pdf_reader.pages[page]\n",
    "        full_text.append(page_obj.extract_text())\n",
    "    pdf_file_obj.close()\n",
    "    return '\\n'.join(full_text)\n",
    "\n",
    "# Usage:\n",
    "file_path = 'DTC Talking Paper 2019.pdf'\n",
    "text = read_pdf(file_path)\n",
    "tp_df = pd.DataFrame({'Text': [text]})\n",
    "# Remove special characters\n",
    "tp_df['Text'] = tp_df['Text'].replace(r'[^a-zA-Z0-9\\s.]', '', regex=True)\n",
    "\n",
    "# Separate sentences using a period instead of '--'\n",
    "tp_df['Text'] = tp_df['Text'].str.replace('--', '. ')\n",
    "\n",
    "tp_df['Text'] = tp_df['Text'].replace('\\n', '', regex=True)\n",
    "tp_df"
   ]
  },
  {
   "cell_type": "markdown",
   "metadata": {},
   "source": [
    "### Chunking Talking Paper Points to Feed to Dolly"
   ]
  },
  {
   "cell_type": "code",
   "execution_count": 14,
   "metadata": {},
   "outputs": [
    {
     "name": "stderr",
     "output_type": "stream",
     "text": [
      "c:\\Users\\samuel.cannon\\AppData\\Local\\anaconda3\\envs\\grok\\Lib\\site-packages\\transformers\\generation\\configuration_utils.py:492: UserWarning: `do_sample` is set to `False`. However, `temperature` is set to `0.5` -- this flag is only used in sample-based generation modes. You should set `do_sample=True` or unset `temperature`.\n",
      "  warnings.warn(\n",
      "The attention mask and the pad token id were not set. As a consequence, you may observe unexpected behavior. Please pass your input's `attention_mask` to obtain reliable results.\n",
      "Setting `pad_token_id` to `eos_token_id`:0 for open-end generation.\n",
      "Both `max_new_tokens` (=300) and `max_length`(=500) seem to have been set. `max_new_tokens` will take precedence. Please refer to the documentation for more information. (https://huggingface.co/docs/transformers/main/en/main_classes/text_generation)\n"
     ]
    },
    {
     "name": "stdout",
     "output_type": "stream",
     "text": [
      "summarize the following text contained in the ticks without repeating the same sentence: 'TALKING PAPER ON THE DEPLOYMENT TRANSITION CENTER Since July 1 2010 the Air Force Deployment Transition Center DTC has provided world class reintegration and decompression to over 13848 redeployers. Over 800 Navy and USMC have also used the DTC as third location decompression The mission of the DTC is to provide critical reintegration skills and decompression opportunities for redeployers. Accomplished through four focused priorities Enhance People Build Community Flex and Adapt to Mission Needs and Conserve Resources. DTC curriculum executes the AFs Tier 4 decompression as part of the broader Comprehensive Airman Fitness. Specifically targeting redeployers resiliency impacts due to family separations and life challenges associated with deployments as well as the demands associated with combat operations. 2day program. 4 calen dar days which includes 2 days for trave l 72 hrs in Germany 10 hrs of program and 62 hrs of liberty Group discussion s not lectures led by a Mission Set Manager from the samesimilar mission set along with a Resiliency Technician no PowerPoints. Strength based focus to bridge positive combat and home front skillsets. No retribution or formal record of discussions that can be associated with members direct comments. The attendance is not recorded in the members medical record. Members can receive additional referrals to helping agencies as indicateddesired. One onone time is available but not mandated with the DTC mental health p ersonnel chaplain resiliency technicians and mission set managers. Experiential outing to a German city for a meal shopping r ecreation conversation etc. Civilian attire is the UOD throughout the course The DTC originally accepted members by line remark designation in official orders based on deployed duty or AFSC. Since inception AFCENT has been the primary theater of fo cus. Expansion of services has adjusted to include wider affected careerspersonnel and geographical locations i.e. AFAFRICA. Deployed commanders may nominate additional attendees based on exposure to incidents difficulty with stressors or concerns for home front transition' The DTC is a critical component of the AF's reintegration process. The DTC is a critical component of the AF's reintegration process. The DTC is a critical component of the AF's reintegration process. The DTC is a critical component of the AF's reintegration process. The DTC is a critical component of the AF's reintegration process. The DTC is a critical component of the AF's reintegration process. The DTC is a critical component of the AF's reintegration process. The DTC is a critical component of the AF's reintegration process. The DTC is a critical component of the AF's reintegration process. The DTC is a critical component of the AF's reintegration process. The DTC is a critical component of the AF's reintegration process. The DTC is a critical component of the AF's reintegration process. The DTC is a critical component of the AF's reintegration process. The DTC is a critical component of the AF's reintegration process. The DTC is a critical component of the AF's reintegration process. The DTC is a critical component of the AF's reintegration process. The DTC is a critical component of the AF's reintegration process. The DTC is a critical component of the AF's reintegration process. The DTC is a critical component of the AF's reintegration process. The DTC is a critical component of the AF's reintegration process.\n"
     ]
    }
   ],
   "source": [
    "# Define the input text\n",
    "# could we change the approach of the project into a question answering task instead of summarization?\n",
    "input_text = \"summarize the following text contained in the ticks without repeating the same sentence: \\\n",
    "'TALKING PAPER ON THE DEPLOYMENT TRANSITION CENTER Since July 1 2010 the Air Force Deployment \\\n",
    "Transition Center DTC has provided world class reintegration and decompression to over 13848 redeployers. \\\n",
    "Over 800 Navy and USMC have also used the DTC as third location decompression The mission of the DTC is to \\\n",
    "provide critical reintegration skills and decompression opportunities for redeployers. \\\n",
    "Accomplished through four focused priorities Enhance People Build Community Flex and \\\n",
    "Adapt to Mission Needs and Conserve Resources. DTC curriculum executes the AFs Tier 4 \\\n",
    "decompression as part of the broader Comprehensive Airman Fitness. Specifically targeting \\\n",
    "redeployers resiliency impacts due to family separations and life challenges associated with \\\n",
    "deployments as well as the demands associated with combat operations. 2day program. 4 calen dar \\\n",
    "days which includes 2 days for trave l 72 hrs in Germany 10 hrs of program and 62 hrs of liberty \\\n",
    "Group discussion s not lectures led by a Mission Set Manager from the samesimilar mission set \\\n",
    "along with a Resiliency Technician no PowerPoints. Strength based focus to bridge positive \\\n",
    "combat and home front skillsets. No retribution or formal record of discussions that can be \\\n",
    "associated with members direct comments. The attendance is not recorded in the members medical record. \\\n",
    "Members can receive additional referrals to helping agencies as indicateddesired. One onone time is \\\n",
    "available but not mandated with the DTC mental health p ersonnel chaplain resiliency technicians and \\\n",
    "mission set managers. Experiential outing to a German city for a meal shopping r ecreation conversation etc. \\\n",
    "Civilian attire is the UOD throughout the course The DTC originally accepted members by line remark designation in \\\n",
    "official orders based on deployed duty or AFSC. Since inception AFCENT has been the primary theater of fo cus. \\\n",
    "Expansion of services has adjusted to include wider affected careerspersonnel and geographical locations i.e. \\\n",
    "AFAFRICA. Deployed commanders may nominate additional attendees based on exposure to incidents difficulty with \\\n",
    "stressors or concerns for home front transition'\"\n",
    "\n",
    "input_ids = dolly_tokenizer.encode(input_text, return_tensors=\"pt\")\n",
    "\n",
    "# Generate a response\n",
    "output = dolly_model.generate(input_ids, max_length=500, max_new_tokens = 300, temperature=0.5, num_return_sequences=1)\n",
    "\n",
    "# Decode the response\n",
    "response = dolly_tokenizer.decode(output[0], skip_special_tokens=True)\n",
    "\n",
    "print(response)"
   ]
  },
  {
   "cell_type": "markdown",
   "metadata": {},
   "source": [
    "### Example of How Dolly Cannot Handle Larger Inputs"
   ]
  },
  {
   "cell_type": "code",
   "execution_count": 15,
   "metadata": {},
   "outputs": [
    {
     "data": {
      "text/html": [
       "<div>\n",
       "<style scoped>\n",
       "    .dataframe tbody tr th:only-of-type {\n",
       "        vertical-align: middle;\n",
       "    }\n",
       "\n",
       "    .dataframe tbody tr th {\n",
       "        vertical-align: top;\n",
       "    }\n",
       "\n",
       "    .dataframe thead th {\n",
       "        text-align: right;\n",
       "    }\n",
       "</style>\n",
       "<table border=\"1\" class=\"dataframe\">\n",
       "  <thead>\n",
       "    <tr style=\"text-align: right;\">\n",
       "      <th></th>\n",
       "      <th>Generated Text</th>\n",
       "    </tr>\n",
       "  </thead>\n",
       "  <tbody>\n",
       "    <tr>\n",
       "      <th>0</th>\n",
       "      <td>summarize the following text contained in the ticks without repeating the same sentence: 'TALKING PAPER ON THE DEPLOYMENT TRANSITION CENTER Since July 1 2010 the Air Force Deployment Transition Center DTC has provided world class reintegration and decompression to over 13848 redeployers. Over 800 Navy and USMC have also used the DTC as third location decompression The mission of the DTC is to provide critical reintegration skills and decompression opportunities for redeployers. Accomplished through four focused priorities Enhance People Build Community Flex and Adapt to Mission Needs and Conserve Resources. DTC curriculum executes the AFs Tier 4 decompression as part of the broader Comprehensive Airman Fitness. Specifically targeting redeployers resiliency impacts due to family separations and life challenges associated with deployments as well as the demands associated with combat operations. 2day program. 4 calen dar days which includes 2 days for trave l 72 hrs in Germany 10 hrs of program and 62 hrs of liberty Group discussion s not lectures led by a Mission Set Manager from the samesimilar mission set along with a Resiliency Technician no PowerPoints. Strength based focus to bridge positive combat and home front skillsets. No retribution or formal record of discussions that can be associated with members direct comments. The attendance is not recorded in the members medical record. Members can receive additional referrals to helping agencies as indicateddesired. One onone time is available but not mandated with the DTC mental health p ersonnel chaplain resiliency technicians and mission set managers. Experiential outing to a German city for a meal shopping r ecreation conversation etc. Civilian attire is the UOD throughout the course The DTC originally accepted members by line remark designation in official orders based on deployed duty or AFSC. Since inception AFCENT has been the primary theater of fo cus. Expansion of services has adjusted to include wider affected careerspersonnel and geographical locations i.e. AFAFRICA. Deployed commanders may nominate additional attendees based on exposure to incidents difficulty with stressors or concerns for home front transition' The DTC is a critical component of the AF's reintegration process. The DTC is a critical component of the AF's reintegration process. The DTC is a critical component of the AF's reintegration process. The DTC is a critical component of the AF's reintegration process. The DTC is a critical component of the AF's reintegration process. The DTC is a critical component of the AF's reintegration process. The DTC is a critical component of the AF's reintegration process. The DTC is a critical component of the AF's reintegration process. The DTC is a critical component of the AF's reintegration process. The DTC is a critical component of the AF's reintegration process. The DTC is a critical component of the AF's reintegration process. The DTC is a critical component of the AF's reintegration process. The DTC is a critical component of the AF's reintegration process. The DTC is a critical component of the AF's reintegration process. The DTC is a critical component of the AF's reintegration process. The DTC is a critical component of the AF's reintegration process. The DTC is a critical component of the AF's reintegration process. The DTC is a critical component of the AF's reintegration process. The DTC is a critical component of the AF's reintegration process. The DTC is a critical component of the AF's reintegration process.</td>\n",
       "    </tr>\n",
       "  </tbody>\n",
       "</table>\n",
       "</div>"
      ],
      "text/plain": [
       "                                                                                                                                                                                                                                                                                                                                                                                                                                                                                                                                                                                                                                                                                                                                                                                                                                                                                                                                                                                                                                                                                                                                                                                                                                                                                                                                                                                                                                                                                                                                                                                                                                                                                                                                                                                                                                                                                                                                                                                                                                                                                                                                                                                                                                                                                                                                                                                                                                                                                                                                                                                                                                                                                                                                                                                                                                                                                                                                                                                                                                                                                                                                                                                                                                                                                                                                                                                                                                                                                                                                                                                                                                                                                        Generated Text\n",
       "0  summarize the following text contained in the ticks without repeating the same sentence: 'TALKING PAPER ON THE DEPLOYMENT TRANSITION CENTER Since July 1 2010 the Air Force Deployment Transition Center DTC has provided world class reintegration and decompression to over 13848 redeployers. Over 800 Navy and USMC have also used the DTC as third location decompression The mission of the DTC is to provide critical reintegration skills and decompression opportunities for redeployers. Accomplished through four focused priorities Enhance People Build Community Flex and Adapt to Mission Needs and Conserve Resources. DTC curriculum executes the AFs Tier 4 decompression as part of the broader Comprehensive Airman Fitness. Specifically targeting redeployers resiliency impacts due to family separations and life challenges associated with deployments as well as the demands associated with combat operations. 2day program. 4 calen dar days which includes 2 days for trave l 72 hrs in Germany 10 hrs of program and 62 hrs of liberty Group discussion s not lectures led by a Mission Set Manager from the samesimilar mission set along with a Resiliency Technician no PowerPoints. Strength based focus to bridge positive combat and home front skillsets. No retribution or formal record of discussions that can be associated with members direct comments. The attendance is not recorded in the members medical record. Members can receive additional referrals to helping agencies as indicateddesired. One onone time is available but not mandated with the DTC mental health p ersonnel chaplain resiliency technicians and mission set managers. Experiential outing to a German city for a meal shopping r ecreation conversation etc. Civilian attire is the UOD throughout the course The DTC originally accepted members by line remark designation in official orders based on deployed duty or AFSC. Since inception AFCENT has been the primary theater of fo cus. Expansion of services has adjusted to include wider affected careerspersonnel and geographical locations i.e. AFAFRICA. Deployed commanders may nominate additional attendees based on exposure to incidents difficulty with stressors or concerns for home front transition' The DTC is a critical component of the AF's reintegration process. The DTC is a critical component of the AF's reintegration process. The DTC is a critical component of the AF's reintegration process. The DTC is a critical component of the AF's reintegration process. The DTC is a critical component of the AF's reintegration process. The DTC is a critical component of the AF's reintegration process. The DTC is a critical component of the AF's reintegration process. The DTC is a critical component of the AF's reintegration process. The DTC is a critical component of the AF's reintegration process. The DTC is a critical component of the AF's reintegration process. The DTC is a critical component of the AF's reintegration process. The DTC is a critical component of the AF's reintegration process. The DTC is a critical component of the AF's reintegration process. The DTC is a critical component of the AF's reintegration process. The DTC is a critical component of the AF's reintegration process. The DTC is a critical component of the AF's reintegration process. The DTC is a critical component of the AF's reintegration process. The DTC is a critical component of the AF's reintegration process. The DTC is a critical component of the AF's reintegration process. The DTC is a critical component of the AF's reintegration process."
      ]
     },
     "execution_count": 15,
     "metadata": {},
     "output_type": "execute_result"
    }
   ],
   "source": [
    "dolly_df = pd.DataFrame({'Generated Text': [response]})\n",
    "dolly_df"
   ]
  },
  {
   "cell_type": "markdown",
   "metadata": {},
   "source": [
    "### Run Dolly With Chunking"
   ]
  },
  {
   "cell_type": "code",
   "execution_count": 45,
   "metadata": {},
   "outputs": [],
   "source": [
    "chunk_list = ['Since July 1 2010 the Air Force Deployment Transition Center DTC has provided world class reintegration \\\n",
    " and decompression to over 13848 redeployers. Over 800 Navy and USMC have also used the DTC as third location \\\n",
    " decompression The mission of the DTC is to provide critical reintegration skills and decompression opportunities \\\n",
    " for redeployers. Accomplished through four focused priorities Enhance People Build Community Flex and Adapt to Mission Needs and Conserve Resources.',\n",
    " 'DTC curriculum executes the AFs Tier 4 decompression as part of the broader Comprehensive Airman Fitness. \\\n",
    " Specifically targeting redeployers resiliency impacts due to family separations and life challenges associated \\\n",
    " with deployments as well as the demands associated with combat operations. 2day program. 4 calen dar days which \\\n",
    " includes 2 days for trave l 72 hrs in Germany 10 hrs of program and 62 hrs of liberty Group discussion s not lectures \\\n",
    " led by a Mission Set Manager from the samesimilar mission set along with a Resiliency Technician no PowerPoints.',\n",
    " 'Strength based focus to bridge positive combat and home front skillsets. No retribution or formal record of discussions \\\n",
    " that can be associated with members direct comments. The attendance is not recorded in the members medical record. Members \\\n",
    " can receive additional referrals to helping agencies as indicateddesired. One onone time is available but not mandated with \\\n",
    " the DTC mental health p ersonnel chaplain resiliency technicians and mission set managers. Experiential outing to a German city \\\n",
    " for a meal shopping r ecreation conversation etc. Civilian attire is the UOD throughout the course The DTC originally accepted \\\n",
    " members by line remark designation in official orders based on deployed duty or AFSC.',\n",
    " 'Since inception AFCENT has been the primary theater of fo cus. Expansion of services has adjusted to include \\\n",
    " wider affected careerspersonnel and geographical locations i.e. AFAFRICA. Deployed commanders may nominate \\\n",
    " additional attendees based on exposure to incidents difficulty with stressors or concerns for home front transition afdeployment.']"
   ]
  },
  {
   "cell_type": "code",
   "execution_count": 46,
   "metadata": {},
   "outputs": [
    {
     "name": "stderr",
     "output_type": "stream",
     "text": [
      "c:\\Users\\samuel.cannon\\AppData\\Local\\anaconda3\\envs\\grok\\Lib\\site-packages\\transformers\\generation\\configuration_utils.py:492: UserWarning: `do_sample` is set to `False`. However, `temperature` is set to `0.5` -- this flag is only used in sample-based generation modes. You should set `do_sample=True` or unset `temperature`.\n",
      "  warnings.warn(\n",
      "The attention mask and the pad token id were not set. As a consequence, you may observe unexpected behavior. Please pass your input's `attention_mask` to obtain reliable results.\n",
      "Setting `pad_token_id` to `eos_token_id`:0 for open-end generation.\n",
      "The attention mask and the pad token id were not set. As a consequence, you may observe unexpected behavior. Please pass your input's `attention_mask` to obtain reliable results.\n",
      "Setting `pad_token_id` to `eos_token_id`:0 for open-end generation.\n",
      "The attention mask and the pad token id were not set. As a consequence, you may observe unexpected behavior. Please pass your input's `attention_mask` to obtain reliable results.\n",
      "Setting `pad_token_id` to `eos_token_id`:0 for open-end generation.\n",
      "The attention mask and the pad token id were not set. As a consequence, you may observe unexpected behavior. Please pass your input's `attention_mask` to obtain reliable results.\n",
      "Setting `pad_token_id` to `eos_token_id`:0 for open-end generation.\n"
     ]
    }
   ],
   "source": [
    "response_list = []\n",
    "\n",
    "for item in chunk_list:\n",
    "\n",
    "    input_ids = dolly_tokenizer.encode(item, return_tensors=\"pt\")\n",
    "\n",
    "    # Generate a response\n",
    "    output = dolly_model.generate(input_ids, max_new_tokens = 200, temperature=0.5, num_return_sequences=1)\n",
    "\n",
    "    # Decode the response\n",
    "    response = dolly_tokenizer.decode(output[0], skip_special_tokens=True)\n",
    "\n",
    "    response_list.append(response)"
   ]
  },
  {
   "cell_type": "code",
   "execution_count": 29,
   "metadata": {},
   "outputs": [
    {
     "data": {
      "text/html": [
       "<div>\n",
       "<style scoped>\n",
       "    .dataframe tbody tr th:only-of-type {\n",
       "        vertical-align: middle;\n",
       "    }\n",
       "\n",
       "    .dataframe tbody tr th {\n",
       "        vertical-align: top;\n",
       "    }\n",
       "\n",
       "    .dataframe thead th {\n",
       "        text-align: right;\n",
       "    }\n",
       "</style>\n",
       "<table border=\"1\" class=\"dataframe\">\n",
       "  <thead>\n",
       "    <tr style=\"text-align: right;\">\n",
       "      <th></th>\n",
       "      <th>0</th>\n",
       "    </tr>\n",
       "  </thead>\n",
       "  <tbody>\n",
       "    <tr>\n",
       "      <th>0</th>\n",
       "      <td>Since July 1 2010 the Air Force Deployment Transition Center DTC has provided world class reintegration  and decompression to over 13848 redeployers. Over 800 Navy and USMC have also used the DTC as third location  decompression The mission of the DTC is to provide critical reintegration skills and decompression opportunities  for redeployers. Accomplished through four focused priorities Enhance People Build Community Flex and Adapt to Mission Needs and Conserve Resources.\\n\\nThe DTC has a team of over 300 military, civilians and contractors who work with the military to provide reintegration and decompression services. The DTC has a unique approach to reintegration and decompression that is designed to meet the specific needs of redeployers. The DTC has a team of over 300 military, civilians and contractors who work with the military to provide reintegration and decompression services.\\n\\nThe DTC has a unique approach to reintegration and decompression that is designed to meet the specific needs of redeployers. The DTC has a unique approach to reintegration and decompression that is designed to meet the specific needs of redeployers.\\n\\nThe DTC has a unique approach to reintegration and decompression that is designed to meet the specific needs of redeployers. The DTC has a unique approach to reintegration and decompression that is designed to meet the specific needs of redeployers.\\n\\nThe DTC has a unique</td>\n",
       "    </tr>\n",
       "    <tr>\n",
       "      <th>1</th>\n",
       "      <td>DTC curriculum executes the AFs Tier 4 decompression as part of the broader Comprehensive Airman Fitness.  Specifically targeting redeployers resiliency impacts due to family separations and life challenges associated  with deployments as well as the demands associated with combat operations. 2day program. 4 calen dar days which  includes 2 days for trave l 72 hrs in Germany 10 hrs of program and 62 hrs of liberty Group discussion s not lectures  led by a Mission Set Manager from the samesimilar mission set along with a Resiliency Technician no PowerPoints.  The curriculum is designed to be flexible to the individual and their specific challenges.  The curriculum is also aligned to the Air Force core values of integrity, excellence, courage, and service.  The curriculum is delivered in a non-traditional format of small group discussions and experiential learning.  The curriculum is delivered in a non-traditional format of small group discussions and experiential learning.  The curriculum is delivered in a non-traditional format of small group discussions and experiential learning.  The curriculum is delivered in a non-traditional format of small group discussions and experiential learning.  The curriculum is delivered in a non-traditional format of small group discussions and experiential learning.  The curriculum is delivered in a non-traditional format of small group discussions and experiential learning.  The curriculum is delivered in a non-traditional format of small group discussions and experiential learning.  The curriculum is delivered in a non-traditional format of small group discussions</td>\n",
       "    </tr>\n",
       "    <tr>\n",
       "      <th>2</th>\n",
       "      <td>Strength based focus to bridge positive combat and home front skillsets. No retribution or formal record of discussions  that can be associated with members direct comments. The attendance is not recorded in the members medical record. Members  can receive additional referrals to helping agencies as indicateddesired. One onone time is available but not mandated with  the DTC mental health p ersonnel chaplain resiliency technicians and mission set managers. Experiential outing to a German city  for a meal shopping r ecreation conversation etc. Civilian attire is the UOD throughout the course The DTC originally accepted  members by line remark designation in official orders based on deployed duty or AFSC. The DTC is now accepting  applications for membership. The DTC is not affiliated with any religious organization. The DTC is a non-partisan organization  that is open to all who have served or are currently serving in the U.S. military. The DTC is not affiliated with any religious organization. The DTC is a non-partisan organization that is open to all who have served or are currently serving in the U.S. military. The DTC is not affiliated with any religious organization. The DTC is a non-partisan organization that is open to all who have served or are currently serving in the U.S. military. The DTC is not affiliated with any religious organization. The DTC is a non-partisan organization that is open to all who have served or are currently serving in the U.S. military. The DTC is not affiliated with any religious organization. The DTC is a non-partisan organization that is</td>\n",
       "    </tr>\n",
       "    <tr>\n",
       "      <th>3</th>\n",
       "      <td>Since inception AFCENT has been the primary theater of fo cus. Expansion of services has adjusted to include  wider affected careerspersonnel and geographical locations i.e. AFAFRICA. Deployed commanders may nominate  additional attendees based on exposure to incidents difficulty with stressors or concerns for home front transition afdeployment.\\n\\nThe conference will be held in Washington DC on the 19th and 20th of September.  The conference will be hosted by the American Foreign Service Association (AFSAM) and the American Foreign Service Officers Association (AFSOA).  The conference will be held at the Washington Hilton.  The hotel is located at 1401 Dumbarton Avenue, Washington, DC 20004.  The conference will be held on September 19-20, 2021.\\n\\nThe conference will include plenary sessions, breakout sessions, and a networking reception on the evening of the 20th.  The breakout sessions will be organized around the following themes:\\n\\n-  Security and Sustainability\\n-  Leadership and Management\\n-  Human Resources\\n-  Information and Intelligence\\n-  Public Affairs and Outreach\\n-  Financial Management and Operations\\n-  Communications and Media\\n-  Legal and Legislative Affairs\\n-  Public Policy and International Development\\n-  Reg</td>\n",
       "    </tr>\n",
       "  </tbody>\n",
       "</table>\n",
       "</div>"
      ],
      "text/plain": [
       "                                                                                                                                                                                                                                                                                                                                                                                                                                                                                                                                                                                                                                                                                                                                                                                                                                                                                                                                                                                                                                                                                                                                                                                                                                                                                                                                                                                                                                                                                                                                                                                                                                                                                           0\n",
       "0                                                                                                                                                                                                      Since July 1 2010 the Air Force Deployment Transition Center DTC has provided world class reintegration  and decompression to over 13848 redeployers. Over 800 Navy and USMC have also used the DTC as third location  decompression The mission of the DTC is to provide critical reintegration skills and decompression opportunities  for redeployers. Accomplished through four focused priorities Enhance People Build Community Flex and Adapt to Mission Needs and Conserve Resources.\\n\\nThe DTC has a team of over 300 military, civilians and contractors who work with the military to provide reintegration and decompression services. The DTC has a unique approach to reintegration and decompression that is designed to meet the specific needs of redeployers. The DTC has a team of over 300 military, civilians and contractors who work with the military to provide reintegration and decompression services.\\n\\nThe DTC has a unique approach to reintegration and decompression that is designed to meet the specific needs of redeployers. The DTC has a unique approach to reintegration and decompression that is designed to meet the specific needs of redeployers.\\n\\nThe DTC has a unique approach to reintegration and decompression that is designed to meet the specific needs of redeployers. The DTC has a unique approach to reintegration and decompression that is designed to meet the specific needs of redeployers.\\n\\nThe DTC has a unique\n",
       "1  DTC curriculum executes the AFs Tier 4 decompression as part of the broader Comprehensive Airman Fitness.  Specifically targeting redeployers resiliency impacts due to family separations and life challenges associated  with deployments as well as the demands associated with combat operations. 2day program. 4 calen dar days which  includes 2 days for trave l 72 hrs in Germany 10 hrs of program and 62 hrs of liberty Group discussion s not lectures  led by a Mission Set Manager from the samesimilar mission set along with a Resiliency Technician no PowerPoints.  The curriculum is designed to be flexible to the individual and their specific challenges.  The curriculum is also aligned to the Air Force core values of integrity, excellence, courage, and service.  The curriculum is delivered in a non-traditional format of small group discussions and experiential learning.  The curriculum is delivered in a non-traditional format of small group discussions and experiential learning.  The curriculum is delivered in a non-traditional format of small group discussions and experiential learning.  The curriculum is delivered in a non-traditional format of small group discussions and experiential learning.  The curriculum is delivered in a non-traditional format of small group discussions and experiential learning.  The curriculum is delivered in a non-traditional format of small group discussions and experiential learning.  The curriculum is delivered in a non-traditional format of small group discussions and experiential learning.  The curriculum is delivered in a non-traditional format of small group discussions\n",
       "2                             Strength based focus to bridge positive combat and home front skillsets. No retribution or formal record of discussions  that can be associated with members direct comments. The attendance is not recorded in the members medical record. Members  can receive additional referrals to helping agencies as indicateddesired. One onone time is available but not mandated with  the DTC mental health p ersonnel chaplain resiliency technicians and mission set managers. Experiential outing to a German city  for a meal shopping r ecreation conversation etc. Civilian attire is the UOD throughout the course The DTC originally accepted  members by line remark designation in official orders based on deployed duty or AFSC. The DTC is now accepting  applications for membership. The DTC is not affiliated with any religious organization. The DTC is a non-partisan organization  that is open to all who have served or are currently serving in the U.S. military. The DTC is not affiliated with any religious organization. The DTC is a non-partisan organization that is open to all who have served or are currently serving in the U.S. military. The DTC is not affiliated with any religious organization. The DTC is a non-partisan organization that is open to all who have served or are currently serving in the U.S. military. The DTC is not affiliated with any religious organization. The DTC is a non-partisan organization that is open to all who have served or are currently serving in the U.S. military. The DTC is not affiliated with any religious organization. The DTC is a non-partisan organization that is\n",
       "3                                                                                                                                                                                                                                                                                                                                                                                  Since inception AFCENT has been the primary theater of fo cus. Expansion of services has adjusted to include  wider affected careerspersonnel and geographical locations i.e. AFAFRICA. Deployed commanders may nominate  additional attendees based on exposure to incidents difficulty with stressors or concerns for home front transition afdeployment.\\n\\nThe conference will be held in Washington DC on the 19th and 20th of September.  The conference will be hosted by the American Foreign Service Association (AFSAM) and the American Foreign Service Officers Association (AFSOA).  The conference will be held at the Washington Hilton.  The hotel is located at 1401 Dumbarton Avenue, Washington, DC 20004.  The conference will be held on September 19-20, 2021.\\n\\nThe conference will include plenary sessions, breakout sessions, and a networking reception on the evening of the 20th.  The breakout sessions will be organized around the following themes:\\n\\n-  Security and Sustainability\\n-  Leadership and Management\\n-  Human Resources\\n-  Information and Intelligence\\n-  Public Affairs and Outreach\\n-  Financial Management and Operations\\n-  Communications and Media\\n-  Legal and Legislative Affairs\\n-  Public Policy and International Development\\n-  Reg"
      ]
     },
     "execution_count": 29,
     "metadata": {},
     "output_type": "execute_result"
    }
   ],
   "source": [
    "response_df = pd.DataFrame([x for x in response_list])\n",
    "response_df"
   ]
  },
  {
   "cell_type": "markdown",
   "metadata": {},
   "source": [
    "### Combine All Generated Dolly Summaries - More Verbatim Selection Than New Text Generation"
   ]
  },
  {
   "cell_type": "code",
   "execution_count": 38,
   "metadata": {},
   "outputs": [
    {
     "data": {
      "text/html": [
       "<div>\n",
       "<style scoped>\n",
       "    .dataframe tbody tr th:only-of-type {\n",
       "        vertical-align: middle;\n",
       "    }\n",
       "\n",
       "    .dataframe tbody tr th {\n",
       "        vertical-align: top;\n",
       "    }\n",
       "\n",
       "    .dataframe thead th {\n",
       "        text-align: right;\n",
       "    }\n",
       "</style>\n",
       "<table border=\"1\" class=\"dataframe\">\n",
       "  <thead>\n",
       "    <tr style=\"text-align: right;\">\n",
       "      <th></th>\n",
       "      <th>Final Sentence</th>\n",
       "    </tr>\n",
       "  </thead>\n",
       "  <tbody>\n",
       "    <tr>\n",
       "      <th>0</th>\n",
       "      <td>The DTC has a unique approach to reintegration and decompression that is designed to meet the specific needs of redeployers.</td>\n",
       "    </tr>\n",
       "    <tr>\n",
       "      <th>1</th>\n",
       "      <td>The curriculum is delivered in a non-traditional format of small group discussions and experiential learning.</td>\n",
       "    </tr>\n",
       "    <tr>\n",
       "      <th>2</th>\n",
       "      <td>The DTC is not affiliated with any religious organization.</td>\n",
       "    </tr>\n",
       "    <tr>\n",
       "      <th>3</th>\n",
       "      <td>\\n\\nThe conference will include plenary sessions, breakout sessions, and a networking reception on the evening of the 20th.</td>\n",
       "    </tr>\n",
       "  </tbody>\n",
       "</table>\n",
       "</div>"
      ],
      "text/plain": [
       "                                                                                                                  Final Sentence\n",
       "0   The DTC has a unique approach to reintegration and decompression that is designed to meet the specific needs of redeployers.\n",
       "1                  The curriculum is delivered in a non-traditional format of small group discussions and experiential learning.\n",
       "2                                                                     The DTC is not affiliated with any religious organization.\n",
       "3    \\n\\nThe conference will include plenary sessions, breakout sessions, and a networking reception on the evening of the 20th."
      ]
     },
     "execution_count": 38,
     "metadata": {},
     "output_type": "execute_result"
    }
   ],
   "source": [
    "sentences = [row.split('.')[-2] + '.' for row in response_df[0]]\n",
    "final_sentences_df = pd.DataFrame({'Final Sentence': sentences})\n",
    "final_sentences_df\n"
   ]
  },
  {
   "cell_type": "markdown",
   "metadata": {},
   "source": [
    "### Run Summary Code Using Mistral 7b Grok Model"
   ]
  },
  {
   "cell_type": "code",
   "execution_count": 6,
   "metadata": {},
   "outputs": [
    {
     "name": "stderr",
     "output_type": "stream",
     "text": [
      "Setting `pad_token_id` to `eos_token_id`:2 for open-end generation.\n",
      "A decoder-only architecture is being used, but right-padding was detected! For correct generation results, please set `padding_side='left'` when initializing the tokenizer.\n"
     ]
    },
    {
     "data": {
      "text/plain": [
       "\"<s><s> [INST] You're job involves summarizing long documents, write a succinct summary in less than 250 words using the following information: 'Since July 1 2010 the Air Force Deployment Transition Center DTC has provided world class reintegration and decompression to over 13848 redeployers. Over 800 Navy and USMC have also used the DTC as third location decompression The mission of the DTC is to provide critical reintegration skills and decompression opportunities for redeployers. Accomplished through four focused priorities Enhance People Build Community Flex and Adapt to Mission Needs and Conserve Resources. DTC curriculum executes the AFs Tier 4 decompression as part of the broader Comprehensive Airman Fitness. Specifically targeting redeployers resiliency impacts due to family separations and life challenges associated with deployments as well as the demands associated with combat operations. 2day program. 4 calen dar days which includes 2 days for trave l 72 hrs in Germany 10 hrs of program and 62 hrs of liberty Group discussion s not lectures led by a Mission Set Manager from the samesimilar mission set along with a Resiliency Technician no PowerPoints. Strength based focus to bridge positive combat and home front skillsets. No retribution or formal record of discussions that can be associated with members direct comments. The attendance is not recorded in the members medical record. Members can receive additional referrals to helping agencies as indicateddesired. One onone time is available but not mandated with the DTC mental health p ersonnel chaplain resiliency technicians and mission set managers. Experiential outing to a German city for a meal shopping r ecreation conversation etc. Civilian attire is the UOD throughout the course The DTC originally accepted members by line remark designation in official orders based on deployed duty or AFSC. Since inception AFCENT has been the primary theater of fo cus. Expansion of services has adjusted to include wider affected careerspersonnel and geographical locations i.e. AFAFRICA. Deployed commanders may nominate additional attendees based on exposure to incidents difficulty with stressors or concerns for home front transition'[/INST]</s> \\n<|assistant|>\\nThe Air Force Deployment Transition Center (DTC) has provided reintegration and decompression services to over 13,848 redeployers since July 1, 2010, including 800 Navy and USMC personnel. The DTC's mission is to provide critical reintegration skills and decompression opportunities for redeployers, with a focus on enhancing people, building community, flexing and adapting to mission needs, and conserving resources. The DTC's curriculum executes the AF's Tier 4 decompression as part of the broader Comprehensive Airman Fitness, targeting redeployers' resiliency impacts due to family separations, life challenges associated with deployments, and combat operations. The program is a 2-day event with 72 hours in Germany, including 10 hours of program and 62 hours of liberty. The program is led by a Mission Set Manager from the same mission set along with a Resiliency Technician, with no PowerPoints or formal record of discussions. The attendance is not recorded in the members' medical record, and\""
      ]
     },
     "execution_count": 6,
     "metadata": {},
     "output_type": "execute_result"
    }
   ],
   "source": [
    "prompt = \"<s>[INST] You're job involves summarizing long documents, write a succinct summary in less than 250 words \\\n",
    "using the following information: \\\n",
    "'Since July 1 2010 the Air Force Deployment Transition Center DTC has provided world class reintegration \\\n",
    "and decompression to over 13848 redeployers. Over 800 Navy and USMC have also used the DTC as third location \\\n",
    "decompression The mission of the DTC is to provide critical reintegration skills and decompression opportunities \\\n",
    "for redeployers. Accomplished through four focused priorities Enhance People Build Community Flex and Adapt to \\\n",
    "Mission Needs and Conserve Resources. DTC curriculum executes the AFs Tier 4 decompression as part of the broader \\\n",
    "Comprehensive Airman Fitness. Specifically targeting redeployers resiliency impacts due to family separations and \\\n",
    "life challenges associated with deployments as well as the demands associated with combat operations. 2day program. \\\n",
    "4 calen dar days which includes 2 days for trave l 72 hrs in Germany 10 hrs of program and 62 hrs of liberty Group \\\n",
    "discussion s not lectures led by a Mission Set Manager from the samesimilar mission set along with a Resiliency \\\n",
    "Technician no PowerPoints. Strength based focus to bridge positive combat and home front skillsets. No retribution \\\n",
    "or formal record of discussions that can be associated with members direct comments. The attendance is not recorded \\\n",
    "in the members medical record. Members can receive additional referrals to helping agencies as indicateddesired. \\\n",
    "One onone time is available but not mandated with the DTC mental health p ersonnel chaplain resiliency technicians \\\n",
    "and mission set managers. Experiential outing to a German city for a meal shopping r ecreation conversation etc. \\\n",
    "Civilian attire is the UOD throughout the course The DTC originally accepted members by line remark designation \\\n",
    "in official orders based on deployed duty or AFSC. Since inception AFCENT has been the primary theater of fo cus. \\\n",
    "Expansion of services has adjusted to include wider affected careerspersonnel and geographical locations i.e. AFAFRICA. \\\n",
    "Deployed commanders may nominate additional attendees based on exposure to incidents difficulty with stressors or \\\n",
    "concerns for home front transition'[/INST]</s>\"\n",
    "\n",
    "#device = \"cuda\" if torch.cuda.is_available() else \"cpu\"\n",
    "\n",
    "model_inputs = grok_tokenizer([prompt], return_tensors=\"pt\")\n",
    "#.to(device)\n",
    "\n",
    "generated_ids = grok_model.generate(**model_inputs, max_new_tokens=250, do_sample=True, temperature=0.1)\n",
    "\n",
    "grok_tokenizer.batch_decode(generated_ids)[0]"
   ]
  },
  {
   "cell_type": "code",
   "execution_count": 7,
   "metadata": {},
   "outputs": [
    {
     "data": {
      "text/html": [
       "<div>\n",
       "<style scoped>\n",
       "    .dataframe tbody tr th:only-of-type {\n",
       "        vertical-align: middle;\n",
       "    }\n",
       "\n",
       "    .dataframe tbody tr th {\n",
       "        vertical-align: top;\n",
       "    }\n",
       "\n",
       "    .dataframe thead th {\n",
       "        text-align: right;\n",
       "    }\n",
       "</style>\n",
       "<table border=\"1\" class=\"dataframe\">\n",
       "  <thead>\n",
       "    <tr style=\"text-align: right;\">\n",
       "      <th></th>\n",
       "      <th>Generated Text</th>\n",
       "    </tr>\n",
       "  </thead>\n",
       "  <tbody>\n",
       "    <tr>\n",
       "      <th>0</th>\n",
       "      <td>&lt;s&gt;&lt;s&gt; [INST] You're job involves summarizing long documents, write a succinct summary in less than 250 words using the following information: 'Since July 1 2010 the Air Force Deployment Transition Center DTC has provided world class reintegration and decompression to over 13848 redeployers. Over 800 Navy and USMC have also used the DTC as third location decompression The mission of the DTC is to provide critical reintegration skills and decompression opportunities for redeployers. Accomplished through four focused priorities Enhance People Build Community Flex and Adapt to Mission Needs and Conserve Resources. DTC curriculum executes the AFs Tier 4 decompression as part of the broader Comprehensive Airman Fitness. Specifically targeting redeployers resiliency impacts due to family separations and life challenges associated with deployments as well as the demands associated with combat operations. 2day program. 4 calen dar days which includes 2 days for trave l 72 hrs in Germany 10 hrs of program and 62 hrs of liberty Group discussion s not lectures led by a Mission Set Manager from the samesimilar mission set along with a Resiliency Technician no PowerPoints. Strength based focus to bridge positive combat and home front skillsets. No retribution or formal record of discussions that can be associated with members direct comments. The attendance is not recorded in the members medical record. Members can receive additional referrals to helping agencies as indicateddesired. One onone time is available but not mandated with the DTC mental health p ersonnel chaplain resiliency technicians and mission set managers. Experiential outing to a German city for a meal shopping r ecreation conversation etc. Civilian attire is the UOD throughout the course The DTC originally accepted members by line remark designation in official orders based on deployed duty or AFSC. Since inception AFCENT has been the primary theater of fo cus. Expansion of services has adjusted to include wider affected careerspersonnel and geographical locations i.e. AFAFRICA. Deployed commanders may nominate additional attendees based on exposure to incidents difficulty with stressors or concerns for home front transition'[/INST]&lt;/s&gt; \\n&lt;|assistant|&gt;\\nThe Air Force Deployment Transition Center (DTC) has provided reintegration and decompression services to over 13,848 redeployers since July 1, 2010, including 800 Navy and USMC personnel. The DTC's mission is to provide critical reintegration skills and decompression opportunities for redeployers, with a focus on enhancing people, building community, flexing and adapting to mission needs, and conserving resources. The DTC's curriculum executes the AF's Tier 4 decompression as part of the broader Comprehensive Airman Fitness, targeting redeployers' resiliency impacts due to family separations, life challenges associated with deployments, and combat operations. The program is a 2-day event with 72 hours in Germany, including 10 hours of program and 62 hours of liberty. The program is led by a Mission Set Manager from the same mission set along with a Resiliency Technician, with no PowerPoints or formal record of discussions. The attendance is not recorded in the members' medical record, and</td>\n",
       "    </tr>\n",
       "  </tbody>\n",
       "</table>\n",
       "</div>"
      ],
      "text/plain": [
       "                                                                                                                                                                                                                                                                                                                                                                                                                                                                                                                                                                                                                                                                                                                                                                                                                                                                                                                                                                                                                                                                                                                                                                                                                                                                                                                                                                                                                                                                                                                                                                                                                                                                                                                                                                                                                                                                                                                                                                                                                                                                                                                                                                                                                                                                                                                                                                                                                                                                                                                                                                                                                                                                                                                                                                                                                                                                                                                                                                                                                                                                                                                                                                                                                                                                                                                                                                         Generated Text\n",
       "0  <s><s> [INST] You're job involves summarizing long documents, write a succinct summary in less than 250 words using the following information: 'Since July 1 2010 the Air Force Deployment Transition Center DTC has provided world class reintegration and decompression to over 13848 redeployers. Over 800 Navy and USMC have also used the DTC as third location decompression The mission of the DTC is to provide critical reintegration skills and decompression opportunities for redeployers. Accomplished through four focused priorities Enhance People Build Community Flex and Adapt to Mission Needs and Conserve Resources. DTC curriculum executes the AFs Tier 4 decompression as part of the broader Comprehensive Airman Fitness. Specifically targeting redeployers resiliency impacts due to family separations and life challenges associated with deployments as well as the demands associated with combat operations. 2day program. 4 calen dar days which includes 2 days for trave l 72 hrs in Germany 10 hrs of program and 62 hrs of liberty Group discussion s not lectures led by a Mission Set Manager from the samesimilar mission set along with a Resiliency Technician no PowerPoints. Strength based focus to bridge positive combat and home front skillsets. No retribution or formal record of discussions that can be associated with members direct comments. The attendance is not recorded in the members medical record. Members can receive additional referrals to helping agencies as indicateddesired. One onone time is available but not mandated with the DTC mental health p ersonnel chaplain resiliency technicians and mission set managers. Experiential outing to a German city for a meal shopping r ecreation conversation etc. Civilian attire is the UOD throughout the course The DTC originally accepted members by line remark designation in official orders based on deployed duty or AFSC. Since inception AFCENT has been the primary theater of fo cus. Expansion of services has adjusted to include wider affected careerspersonnel and geographical locations i.e. AFAFRICA. Deployed commanders may nominate additional attendees based on exposure to incidents difficulty with stressors or concerns for home front transition'[/INST]</s> \\n<|assistant|>\\nThe Air Force Deployment Transition Center (DTC) has provided reintegration and decompression services to over 13,848 redeployers since July 1, 2010, including 800 Navy and USMC personnel. The DTC's mission is to provide critical reintegration skills and decompression opportunities for redeployers, with a focus on enhancing people, building community, flexing and adapting to mission needs, and conserving resources. The DTC's curriculum executes the AF's Tier 4 decompression as part of the broader Comprehensive Airman Fitness, targeting redeployers' resiliency impacts due to family separations, life challenges associated with deployments, and combat operations. The program is a 2-day event with 72 hours in Germany, including 10 hours of program and 62 hours of liberty. The program is led by a Mission Set Manager from the same mission set along with a Resiliency Technician, with no PowerPoints or formal record of discussions. The attendance is not recorded in the members' medical record, and"
      ]
     },
     "execution_count": 7,
     "metadata": {},
     "output_type": "execute_result"
    }
   ],
   "source": [
    "# Decode the generated_ids using the grok_tokenizer\n",
    "decoded_text = grok_tokenizer.batch_decode(generated_ids)[0]\n",
    "\n",
    "# Create a DataFrame\n",
    "df = pd.DataFrame({'Generated Text': [decoded_text]})\n",
    "\n",
    "# Print the DataFrame\n",
    "df\n"
   ]
  },
  {
   "cell_type": "code",
   "execution_count": 11,
   "metadata": {},
   "outputs": [
    {
     "data": {
      "text/html": [
       "<div>\n",
       "<style scoped>\n",
       "    .dataframe tbody tr th:only-of-type {\n",
       "        vertical-align: middle;\n",
       "    }\n",
       "\n",
       "    .dataframe tbody tr th {\n",
       "        vertical-align: top;\n",
       "    }\n",
       "\n",
       "    .dataframe thead th {\n",
       "        text-align: right;\n",
       "    }\n",
       "</style>\n",
       "<table border=\"1\" class=\"dataframe\">\n",
       "  <thead>\n",
       "    <tr style=\"text-align: right;\">\n",
       "      <th></th>\n",
       "      <th>Generated Text</th>\n",
       "      <th>generated_text_summary</th>\n",
       "    </tr>\n",
       "  </thead>\n",
       "  <tbody>\n",
       "    <tr>\n",
       "      <th>0</th>\n",
       "      <td>&lt;s&gt;&lt;s&gt; [INST] You're job involves summarizing long documents, write a succinct summary in less than 250 words using the following information: 'Since July 1 2010 the Air Force Deployment Transition Center DTC has provided world class reintegration and decompression to over 13848 redeployers. Over 800 Navy and USMC have also used the DTC as third location decompression The mission of the DTC is to provide critical reintegration skills and decompression opportunities for redeployers. Accomplished through four focused priorities Enhance People Build Community Flex and Adapt to Mission Needs and Conserve Resources. DTC curriculum executes the AFs Tier 4 decompression as part of the broader Comprehensive Airman Fitness. Specifically targeting redeployers resiliency impacts due to family separations and life challenges associated with deployments as well as the demands associated with combat operations. 2day program. 4 calen dar days which includes 2 days for trave l 72 hrs in Germany 10 hrs of program and 62 hrs of liberty Group discussion s not lectures led by a Mission Set Manager from the samesimilar mission set along with a Resiliency Technician no PowerPoints. Strength based focus to bridge positive combat and home front skillsets. No retribution or formal record of discussions that can be associated with members direct comments. The attendance is not recorded in the members medical record. Members can receive additional referrals to helping agencies as indicateddesired. One onone time is available but not mandated with the DTC mental health p ersonnel chaplain resiliency technicians and mission set managers. Experiential outing to a German city for a meal shopping r ecreation conversation etc. Civilian attire is the UOD throughout the course The DTC originally accepted members by line remark designation in official orders based on deployed duty or AFSC. Since inception AFCENT has been the primary theater of fo cus. Expansion of services has adjusted to include wider affected careerspersonnel and geographical locations i.e. AFAFRICA. Deployed commanders may nominate additional attendees based on exposure to incidents difficulty with stressors or concerns for home front transition'[/INST]&lt;/s&gt; \\n&lt;|assistant|&gt;\\nThe Air Force Deployment Transition Center (DTC) has provided reintegration and decompression services to over 13,848 redeployers since July 1, 2010, including 800 Navy and USMC personnel. The DTC's mission is to provide critical reintegration skills and decompression opportunities for redeployers, with a focus on enhancing people, building community, flexing and adapting to mission needs, and conserving resources. The DTC's curriculum executes the AF's Tier 4 decompression as part of the broader Comprehensive Airman Fitness, targeting redeployers' resiliency impacts due to family separations, life challenges associated with deployments, and combat operations. The program is a 2-day event with 72 hours in Germany, including 10 hours of program and 62 hours of liberty. The program is led by a Mission Set Manager from the same mission set along with a Resiliency Technician, with no PowerPoints or formal record of discussions. The attendance is not recorded in the members' medical record, and</td>\n",
       "      <td>The Air Force Deployment Transition Center (DTC) has provided reintegration and decompression services to over 13,848 redeployers since July 1, 2010, including 800 Navy and USMC personnel. The DTC's mission is to provide critical reintegration skills and decompression opportunities for redeployers, with a focus on enhancing people, building community, flexing and adapting to mission needs, and conserving resources. The DTC's curriculum executes the AF's Tier 4 decompression as part of the broader Comprehensive Airman Fitness, targeting redeployers' resiliency impacts due to family separations, life challenges associated with deployments, and combat operations. The program is a 2-day event with 72 hours in Germany, including 10 hours of program and 62 hours of liberty. The program is led by a Mission Set Manager from the same mission set along with a Resiliency Technician, with no PowerPoints or formal record of discussions. The attendance is not recorded in the members' medical record, and</td>\n",
       "    </tr>\n",
       "  </tbody>\n",
       "</table>\n",
       "</div>"
      ],
      "text/plain": [
       "                                                                                                                                                                                                                                                                                                                                                                                                                                                                                                                                                                                                                                                                                                                                                                                                                                                                                                                                                                                                                                                                                                                                                                                                                                                                                                                                                                                                                                                                                                                                                                                                                                                                                                                                                                                                                                                                                                                                                                                                                                                                                                                                                                                                                                                                                                                                                                                                                                                                                                                                                                                                                                                                                                                                                                                                                                                                                                                                                                                                                                                                                                                                                                                                                                                                                                                                                                         Generated Text  \\\n",
       "0  <s><s> [INST] You're job involves summarizing long documents, write a succinct summary in less than 250 words using the following information: 'Since July 1 2010 the Air Force Deployment Transition Center DTC has provided world class reintegration and decompression to over 13848 redeployers. Over 800 Navy and USMC have also used the DTC as third location decompression The mission of the DTC is to provide critical reintegration skills and decompression opportunities for redeployers. Accomplished through four focused priorities Enhance People Build Community Flex and Adapt to Mission Needs and Conserve Resources. DTC curriculum executes the AFs Tier 4 decompression as part of the broader Comprehensive Airman Fitness. Specifically targeting redeployers resiliency impacts due to family separations and life challenges associated with deployments as well as the demands associated with combat operations. 2day program. 4 calen dar days which includes 2 days for trave l 72 hrs in Germany 10 hrs of program and 62 hrs of liberty Group discussion s not lectures led by a Mission Set Manager from the samesimilar mission set along with a Resiliency Technician no PowerPoints. Strength based focus to bridge positive combat and home front skillsets. No retribution or formal record of discussions that can be associated with members direct comments. The attendance is not recorded in the members medical record. Members can receive additional referrals to helping agencies as indicateddesired. One onone time is available but not mandated with the DTC mental health p ersonnel chaplain resiliency technicians and mission set managers. Experiential outing to a German city for a meal shopping r ecreation conversation etc. Civilian attire is the UOD throughout the course The DTC originally accepted members by line remark designation in official orders based on deployed duty or AFSC. Since inception AFCENT has been the primary theater of fo cus. Expansion of services has adjusted to include wider affected careerspersonnel and geographical locations i.e. AFAFRICA. Deployed commanders may nominate additional attendees based on exposure to incidents difficulty with stressors or concerns for home front transition'[/INST]</s> \\n<|assistant|>\\nThe Air Force Deployment Transition Center (DTC) has provided reintegration and decompression services to over 13,848 redeployers since July 1, 2010, including 800 Navy and USMC personnel. The DTC's mission is to provide critical reintegration skills and decompression opportunities for redeployers, with a focus on enhancing people, building community, flexing and adapting to mission needs, and conserving resources. The DTC's curriculum executes the AF's Tier 4 decompression as part of the broader Comprehensive Airman Fitness, targeting redeployers' resiliency impacts due to family separations, life challenges associated with deployments, and combat operations. The program is a 2-day event with 72 hours in Germany, including 10 hours of program and 62 hours of liberty. The program is led by a Mission Set Manager from the same mission set along with a Resiliency Technician, with no PowerPoints or formal record of discussions. The attendance is not recorded in the members' medical record, and   \n",
       "\n",
       "                                                                                                                                                                                                                                                                                                                                                                                                                                                                                                                                                                                                                                                                                                                                                                                                                                                                                                                                                                                                                         generated_text_summary  \n",
       "0  The Air Force Deployment Transition Center (DTC) has provided reintegration and decompression services to over 13,848 redeployers since July 1, 2010, including 800 Navy and USMC personnel. The DTC's mission is to provide critical reintegration skills and decompression opportunities for redeployers, with a focus on enhancing people, building community, flexing and adapting to mission needs, and conserving resources. The DTC's curriculum executes the AF's Tier 4 decompression as part of the broader Comprehensive Airman Fitness, targeting redeployers' resiliency impacts due to family separations, life challenges associated with deployments, and combat operations. The program is a 2-day event with 72 hours in Germany, including 10 hours of program and 62 hours of liberty. The program is led by a Mission Set Manager from the same mission set along with a Resiliency Technician, with no PowerPoints or formal record of discussions. The attendance is not recorded in the members' medical record, and  "
      ]
     },
     "execution_count": 11,
     "metadata": {},
     "output_type": "execute_result"
    }
   ],
   "source": [
    "df['generated_text_summary'] = df['Generated Text'].str.rsplit('\\n', n=1).str[-1]\n",
    "df"
   ]
  },
  {
   "cell_type": "markdown",
   "metadata": {},
   "source": [
    "### Higher Temp Setting Gives More Descriptive Summaries"
   ]
  },
  {
   "cell_type": "code",
   "execution_count": 17,
   "metadata": {},
   "outputs": [
    {
     "name": "stderr",
     "output_type": "stream",
     "text": [
      "Setting `pad_token_id` to `eos_token_id`:2 for open-end generation.\n",
      "A decoder-only architecture is being used, but right-padding was detected! For correct generation results, please set `padding_side='left'` when initializing the tokenizer.\n"
     ]
    },
    {
     "data": {
      "text/plain": [
       "\"<s><s> [INST] You're job involves summarizing long documents, write a succinct summary in less than 250 words using the following information: 'Since July 1 2010 the Air Force Deployment Transition Center DTC has provided world class reintegration and decompression to over 13848 redeployers. Over 800 Navy and USMC have also used the DTC as third location decompression The mission of the DTC is to provide critical reintegration skills and decompression opportunities for redeployers. Accomplished through four focused priorities Enhance People Build Community Flex and Adapt to Mission Needs and Conserve Resources. DTC curriculum executes the AFs Tier 4 decompression as part of the broader Comprehensive Airman Fitness. Specifically targeting redeployers resiliency impacts due to family separations and life challenges associated with deployments as well as the demands associated with combat operations. 2day program. 4 calen dar days which includes 2 days for trave l 72 hrs in Germany 10 hrs of program and 62 hrs of liberty Group discussion s not lectures led by a Mission Set Manager from the samesimilar mission set along with a Resiliency Technician no PowerPoints. Strength based focus to bridge positive combat and home front skillsets. No retribution or formal record of discussions that can be associated with members direct comments. The attendance is not recorded in the members medical record. Members can receive additional referrals to helping agencies as indicateddesired. One onone time is available but not mandated with the DTC mental health p ersonnel chaplain resiliency technicians and mission set managers. Experiential outing to a German city for a meal shopping r ecreation conversation etc. Civilian attire is the UOD throughout the course The DTC originally accepted members by line remark designation in official orders based on deployed duty or AFSC. Since inception AFCENT has been the primary theater of fo cus. Expansion of services has adjusted to include wider affected careerspersonnel and geographical locations i.e. AFAFRICA. Deployed commanders may nominate additional attendees based on exposure to incidents difficulty with stressors or concerns for home front transition'[/INST]</s> \\n<|assistant|>\\nThe Air Force Deployment Transition Center (DTC) has provided world-class services to over 13,848 redeployers since July 1, 2010. The DTC offers critical reintegration skills and decompression opportunities to redeployers through four priorities: Enhance People, Build Community, Flex and Adapt to Mission Needs, and Conserve Resources. The DTC curriculum executes the AF's Tier 4 decompression as part of the broader Comprehensive Airman Fitness. The program is designed to bridge positive combat and home front skillsets and is not associated with retribution or formal records of discussions. The DTC's mission is to provide resiliency impacts due to family separations, life challenges, and the demands associated with combat operations. The DTC offers a 2-day program with 72 hours in Germany, including 10 hours of program and 62 hours of liberty. The program includes group discussions led by a Mission Set Manager from the same mission set along with a Resiliency Technician. One-on-one time is available, but not\""
      ]
     },
     "execution_count": 17,
     "metadata": {},
     "output_type": "execute_result"
    }
   ],
   "source": [
    "prompt = \"<s>[INST] You're job involves summarizing long documents, write a succinct summary in less than 250 words \\\n",
    "using the following information: \\\n",
    "'Since July 1 2010 the Air Force Deployment Transition Center DTC has provided world class reintegration \\\n",
    "and decompression to over 13848 redeployers. Over 800 Navy and USMC have also used the DTC as third location \\\n",
    "decompression The mission of the DTC is to provide critical reintegration skills and decompression opportunities \\\n",
    "for redeployers. Accomplished through four focused priorities Enhance People Build Community Flex and Adapt to \\\n",
    "Mission Needs and Conserve Resources. DTC curriculum executes the AFs Tier 4 decompression as part of the broader \\\n",
    "Comprehensive Airman Fitness. Specifically targeting redeployers resiliency impacts due to family separations and \\\n",
    "life challenges associated with deployments as well as the demands associated with combat operations. 2day program. \\\n",
    "4 calen dar days which includes 2 days for trave l 72 hrs in Germany 10 hrs of program and 62 hrs of liberty Group \\\n",
    "discussion s not lectures led by a Mission Set Manager from the samesimilar mission set along with a Resiliency \\\n",
    "Technician no PowerPoints. Strength based focus to bridge positive combat and home front skillsets. No retribution \\\n",
    "or formal record of discussions that can be associated with members direct comments. The attendance is not recorded \\\n",
    "in the members medical record. Members can receive additional referrals to helping agencies as indicateddesired. \\\n",
    "One onone time is available but not mandated with the DTC mental health p ersonnel chaplain resiliency technicians \\\n",
    "and mission set managers. Experiential outing to a German city for a meal shopping r ecreation conversation etc. \\\n",
    "Civilian attire is the UOD throughout the course The DTC originally accepted members by line remark designation \\\n",
    "in official orders based on deployed duty or AFSC. Since inception AFCENT has been the primary theater of fo cus. \\\n",
    "Expansion of services has adjusted to include wider affected careerspersonnel and geographical locations i.e. AFAFRICA. \\\n",
    "Deployed commanders may nominate additional attendees based on exposure to incidents difficulty with stressors or \\\n",
    "concerns for home front transition'[/INST]</s>\"\n",
    "\n",
    "#device = \"cuda\" if torch.cuda.is_available() else \"cpu\"\n",
    "\n",
    "model_inputs = grok_tokenizer([prompt], return_tensors=\"pt\")\n",
    "#.to(device)\n",
    "\n",
    "generated_ids = grok_model.generate(**model_inputs, max_new_tokens=250, do_sample=True, temperature=0.5)\n",
    "\n",
    "grok_tokenizer.batch_decode(generated_ids)[0]"
   ]
  },
  {
   "cell_type": "code",
   "execution_count": 18,
   "metadata": {},
   "outputs": [
    {
     "data": {
      "text/html": [
       "<div>\n",
       "<style scoped>\n",
       "    .dataframe tbody tr th:only-of-type {\n",
       "        vertical-align: middle;\n",
       "    }\n",
       "\n",
       "    .dataframe tbody tr th {\n",
       "        vertical-align: top;\n",
       "    }\n",
       "\n",
       "    .dataframe thead th {\n",
       "        text-align: right;\n",
       "    }\n",
       "</style>\n",
       "<table border=\"1\" class=\"dataframe\">\n",
       "  <thead>\n",
       "    <tr style=\"text-align: right;\">\n",
       "      <th></th>\n",
       "      <th>Generated Text</th>\n",
       "    </tr>\n",
       "  </thead>\n",
       "  <tbody>\n",
       "    <tr>\n",
       "      <th>0</th>\n",
       "      <td>&lt;s&gt;&lt;s&gt; [INST] You're job involves summarizing long documents, write a succinct summary in less than 250 words using the following information: 'Since July 1 2010 the Air Force Deployment Transition Center DTC has provided world class reintegration and decompression to over 13848 redeployers. Over 800 Navy and USMC have also used the DTC as third location decompression The mission of the DTC is to provide critical reintegration skills and decompression opportunities for redeployers. Accomplished through four focused priorities Enhance People Build Community Flex and Adapt to Mission Needs and Conserve Resources. DTC curriculum executes the AFs Tier 4 decompression as part of the broader Comprehensive Airman Fitness. Specifically targeting redeployers resiliency impacts due to family separations and life challenges associated with deployments as well as the demands associated with combat operations. 2day program. 4 calen dar days which includes 2 days for trave l 72 hrs in Germany 10 hrs of program and 62 hrs of liberty Group discussion s not lectures led by a Mission Set Manager from the samesimilar mission set along with a Resiliency Technician no PowerPoints. Strength based focus to bridge positive combat and home front skillsets. No retribution or formal record of discussions that can be associated with members direct comments. The attendance is not recorded in the members medical record. Members can receive additional referrals to helping agencies as indicateddesired. One onone time is available but not mandated with the DTC mental health p ersonnel chaplain resiliency technicians and mission set managers. Experiential outing to a German city for a meal shopping r ecreation conversation etc. Civilian attire is the UOD throughout the course The DTC originally accepted members by line remark designation in official orders based on deployed duty or AFSC. Since inception AFCENT has been the primary theater of fo cus. Expansion of services has adjusted to include wider affected careerspersonnel and geographical locations i.e. AFAFRICA. Deployed commanders may nominate additional attendees based on exposure to incidents difficulty with stressors or concerns for home front transition'[/INST]&lt;/s&gt; \\n&lt;|assistant|&gt;\\nThe Air Force Deployment Transition Center (DTC) has provided world-class services to over 13,848 redeployers since July 1, 2010. The DTC offers critical reintegration skills and decompression opportunities to redeployers through four priorities: Enhance People, Build Community, Flex and Adapt to Mission Needs, and Conserve Resources. The DTC curriculum executes the AF's Tier 4 decompression as part of the broader Comprehensive Airman Fitness. The program is designed to bridge positive combat and home front skillsets and is not associated with retribution or formal records of discussions. The DTC's mission is to provide resiliency impacts due to family separations, life challenges, and the demands associated with combat operations. The DTC offers a 2-day program with 72 hours in Germany, including 10 hours of program and 62 hours of liberty. The program includes group discussions led by a Mission Set Manager from the same mission set along with a Resiliency Technician. One-on-one time is available, but not</td>\n",
       "    </tr>\n",
       "  </tbody>\n",
       "</table>\n",
       "</div>"
      ],
      "text/plain": [
       "                                                                                                                                                                                                                                                                                                                                                                                                                                                                                                                                                                                                                                                                                                                                                                                                                                                                                                                                                                                                                                                                                                                                                                                                                                                                                                                                                                                                                                                                                                                                                                                                                                                                                                                                                                                                                                                                                                                                                                                                                                                                                                                                                                                                                                                                                                                                                                                                                                                                                                                                                                                                                                                                                                                                                                                                                                                                                                                                                                                                                                                                                                                                                                                                                                                                                                                                                                                          Generated Text\n",
       "0  <s><s> [INST] You're job involves summarizing long documents, write a succinct summary in less than 250 words using the following information: 'Since July 1 2010 the Air Force Deployment Transition Center DTC has provided world class reintegration and decompression to over 13848 redeployers. Over 800 Navy and USMC have also used the DTC as third location decompression The mission of the DTC is to provide critical reintegration skills and decompression opportunities for redeployers. Accomplished through four focused priorities Enhance People Build Community Flex and Adapt to Mission Needs and Conserve Resources. DTC curriculum executes the AFs Tier 4 decompression as part of the broader Comprehensive Airman Fitness. Specifically targeting redeployers resiliency impacts due to family separations and life challenges associated with deployments as well as the demands associated with combat operations. 2day program. 4 calen dar days which includes 2 days for trave l 72 hrs in Germany 10 hrs of program and 62 hrs of liberty Group discussion s not lectures led by a Mission Set Manager from the samesimilar mission set along with a Resiliency Technician no PowerPoints. Strength based focus to bridge positive combat and home front skillsets. No retribution or formal record of discussions that can be associated with members direct comments. The attendance is not recorded in the members medical record. Members can receive additional referrals to helping agencies as indicateddesired. One onone time is available but not mandated with the DTC mental health p ersonnel chaplain resiliency technicians and mission set managers. Experiential outing to a German city for a meal shopping r ecreation conversation etc. Civilian attire is the UOD throughout the course The DTC originally accepted members by line remark designation in official orders based on deployed duty or AFSC. Since inception AFCENT has been the primary theater of fo cus. Expansion of services has adjusted to include wider affected careerspersonnel and geographical locations i.e. AFAFRICA. Deployed commanders may nominate additional attendees based on exposure to incidents difficulty with stressors or concerns for home front transition'[/INST]</s> \\n<|assistant|>\\nThe Air Force Deployment Transition Center (DTC) has provided world-class services to over 13,848 redeployers since July 1, 2010. The DTC offers critical reintegration skills and decompression opportunities to redeployers through four priorities: Enhance People, Build Community, Flex and Adapt to Mission Needs, and Conserve Resources. The DTC curriculum executes the AF's Tier 4 decompression as part of the broader Comprehensive Airman Fitness. The program is designed to bridge positive combat and home front skillsets and is not associated with retribution or formal records of discussions. The DTC's mission is to provide resiliency impacts due to family separations, life challenges, and the demands associated with combat operations. The DTC offers a 2-day program with 72 hours in Germany, including 10 hours of program and 62 hours of liberty. The program includes group discussions led by a Mission Set Manager from the same mission set along with a Resiliency Technician. One-on-one time is available, but not"
      ]
     },
     "execution_count": 18,
     "metadata": {},
     "output_type": "execute_result"
    }
   ],
   "source": [
    "# Decode the generated_ids using the grok_tokenizer\n",
    "decoded_text = grok_tokenizer.batch_decode(generated_ids)[0]\n",
    "\n",
    "# Create a DataFrame\n",
    "df2 = pd.DataFrame({'Generated Text': [decoded_text]})\n",
    "\n",
    "# Print the DataFrame\n",
    "df2\n"
   ]
  },
  {
   "cell_type": "code",
   "execution_count": 19,
   "metadata": {},
   "outputs": [
    {
     "data": {
      "text/html": [
       "<div>\n",
       "<style scoped>\n",
       "    .dataframe tbody tr th:only-of-type {\n",
       "        vertical-align: middle;\n",
       "    }\n",
       "\n",
       "    .dataframe tbody tr th {\n",
       "        vertical-align: top;\n",
       "    }\n",
       "\n",
       "    .dataframe thead th {\n",
       "        text-align: right;\n",
       "    }\n",
       "</style>\n",
       "<table border=\"1\" class=\"dataframe\">\n",
       "  <thead>\n",
       "    <tr style=\"text-align: right;\">\n",
       "      <th></th>\n",
       "      <th>Generated Text</th>\n",
       "      <th>generated_text_summary</th>\n",
       "    </tr>\n",
       "  </thead>\n",
       "  <tbody>\n",
       "    <tr>\n",
       "      <th>0</th>\n",
       "      <td>&lt;s&gt;&lt;s&gt; [INST] You're job involves summarizing long documents, write a succinct summary in less than 250 words using the following information: 'Since July 1 2010 the Air Force Deployment Transition Center DTC has provided world class reintegration and decompression to over 13848 redeployers. Over 800 Navy and USMC have also used the DTC as third location decompression The mission of the DTC is to provide critical reintegration skills and decompression opportunities for redeployers. Accomplished through four focused priorities Enhance People Build Community Flex and Adapt to Mission Needs and Conserve Resources. DTC curriculum executes the AFs Tier 4 decompression as part of the broader Comprehensive Airman Fitness. Specifically targeting redeployers resiliency impacts due to family separations and life challenges associated with deployments as well as the demands associated with combat operations. 2day program. 4 calen dar days which includes 2 days for trave l 72 hrs in Germany 10 hrs of program and 62 hrs of liberty Group discussion s not lectures led by a Mission Set Manager from the samesimilar mission set along with a Resiliency Technician no PowerPoints. Strength based focus to bridge positive combat and home front skillsets. No retribution or formal record of discussions that can be associated with members direct comments. The attendance is not recorded in the members medical record. Members can receive additional referrals to helping agencies as indicateddesired. One onone time is available but not mandated with the DTC mental health p ersonnel chaplain resiliency technicians and mission set managers. Experiential outing to a German city for a meal shopping r ecreation conversation etc. Civilian attire is the UOD throughout the course The DTC originally accepted members by line remark designation in official orders based on deployed duty or AFSC. Since inception AFCENT has been the primary theater of fo cus. Expansion of services has adjusted to include wider affected careerspersonnel and geographical locations i.e. AFAFRICA. Deployed commanders may nominate additional attendees based on exposure to incidents difficulty with stressors or concerns for home front transition'[/INST]&lt;/s&gt; \\n&lt;|assistant|&gt;\\nThe Air Force Deployment Transition Center (DTC) has provided world-class services to over 13,848 redeployers since July 1, 2010. The DTC offers critical reintegration skills and decompression opportunities to redeployers through four priorities: Enhance People, Build Community, Flex and Adapt to Mission Needs, and Conserve Resources. The DTC curriculum executes the AF's Tier 4 decompression as part of the broader Comprehensive Airman Fitness. The program is designed to bridge positive combat and home front skillsets and is not associated with retribution or formal records of discussions. The DTC's mission is to provide resiliency impacts due to family separations, life challenges, and the demands associated with combat operations. The DTC offers a 2-day program with 72 hours in Germany, including 10 hours of program and 62 hours of liberty. The program includes group discussions led by a Mission Set Manager from the same mission set along with a Resiliency Technician. One-on-one time is available, but not</td>\n",
       "      <td>The Air Force Deployment Transition Center (DTC) has provided world-class services to over 13,848 redeployers since July 1, 2010. The DTC offers critical reintegration skills and decompression opportunities to redeployers through four priorities: Enhance People, Build Community, Flex and Adapt to Mission Needs, and Conserve Resources. The DTC curriculum executes the AF's Tier 4 decompression as part of the broader Comprehensive Airman Fitness. The program is designed to bridge positive combat and home front skillsets and is not associated with retribution or formal records of discussions. The DTC's mission is to provide resiliency impacts due to family separations, life challenges, and the demands associated with combat operations. The DTC offers a 2-day program with 72 hours in Germany, including 10 hours of program and 62 hours of liberty. The program includes group discussions led by a Mission Set Manager from the same mission set along with a Resiliency Technician. One-on-one time is available, but not</td>\n",
       "    </tr>\n",
       "  </tbody>\n",
       "</table>\n",
       "</div>"
      ],
      "text/plain": [
       "                                                                                                                                                                                                                                                                                                                                                                                                                                                                                                                                                                                                                                                                                                                                                                                                                                                                                                                                                                                                                                                                                                                                                                                                                                                                                                                                                                                                                                                                                                                                                                                                                                                                                                                                                                                                                                                                                                                                                                                                                                                                                                                                                                                                                                                                                                                                                                                                                                                                                                                                                                                                                                                                                                                                                                                                                                                                                                                                                                                                                                                                                                                                                                                                                                                                                                                                                                                          Generated Text  \\\n",
       "0  <s><s> [INST] You're job involves summarizing long documents, write a succinct summary in less than 250 words using the following information: 'Since July 1 2010 the Air Force Deployment Transition Center DTC has provided world class reintegration and decompression to over 13848 redeployers. Over 800 Navy and USMC have also used the DTC as third location decompression The mission of the DTC is to provide critical reintegration skills and decompression opportunities for redeployers. Accomplished through four focused priorities Enhance People Build Community Flex and Adapt to Mission Needs and Conserve Resources. DTC curriculum executes the AFs Tier 4 decompression as part of the broader Comprehensive Airman Fitness. Specifically targeting redeployers resiliency impacts due to family separations and life challenges associated with deployments as well as the demands associated with combat operations. 2day program. 4 calen dar days which includes 2 days for trave l 72 hrs in Germany 10 hrs of program and 62 hrs of liberty Group discussion s not lectures led by a Mission Set Manager from the samesimilar mission set along with a Resiliency Technician no PowerPoints. Strength based focus to bridge positive combat and home front skillsets. No retribution or formal record of discussions that can be associated with members direct comments. The attendance is not recorded in the members medical record. Members can receive additional referrals to helping agencies as indicateddesired. One onone time is available but not mandated with the DTC mental health p ersonnel chaplain resiliency technicians and mission set managers. Experiential outing to a German city for a meal shopping r ecreation conversation etc. Civilian attire is the UOD throughout the course The DTC originally accepted members by line remark designation in official orders based on deployed duty or AFSC. Since inception AFCENT has been the primary theater of fo cus. Expansion of services has adjusted to include wider affected careerspersonnel and geographical locations i.e. AFAFRICA. Deployed commanders may nominate additional attendees based on exposure to incidents difficulty with stressors or concerns for home front transition'[/INST]</s> \\n<|assistant|>\\nThe Air Force Deployment Transition Center (DTC) has provided world-class services to over 13,848 redeployers since July 1, 2010. The DTC offers critical reintegration skills and decompression opportunities to redeployers through four priorities: Enhance People, Build Community, Flex and Adapt to Mission Needs, and Conserve Resources. The DTC curriculum executes the AF's Tier 4 decompression as part of the broader Comprehensive Airman Fitness. The program is designed to bridge positive combat and home front skillsets and is not associated with retribution or formal records of discussions. The DTC's mission is to provide resiliency impacts due to family separations, life challenges, and the demands associated with combat operations. The DTC offers a 2-day program with 72 hours in Germany, including 10 hours of program and 62 hours of liberty. The program includes group discussions led by a Mission Set Manager from the same mission set along with a Resiliency Technician. One-on-one time is available, but not   \n",
       "\n",
       "                                                                                                                                                                                                                                                                                                                                                                                                                                                                                                                                                                                                                                                                                                                                                                                                                                                                                                                                                                                                                                          generated_text_summary  \n",
       "0  The Air Force Deployment Transition Center (DTC) has provided world-class services to over 13,848 redeployers since July 1, 2010. The DTC offers critical reintegration skills and decompression opportunities to redeployers through four priorities: Enhance People, Build Community, Flex and Adapt to Mission Needs, and Conserve Resources. The DTC curriculum executes the AF's Tier 4 decompression as part of the broader Comprehensive Airman Fitness. The program is designed to bridge positive combat and home front skillsets and is not associated with retribution or formal records of discussions. The DTC's mission is to provide resiliency impacts due to family separations, life challenges, and the demands associated with combat operations. The DTC offers a 2-day program with 72 hours in Germany, including 10 hours of program and 62 hours of liberty. The program includes group discussions led by a Mission Set Manager from the same mission set along with a Resiliency Technician. One-on-one time is available, but not  "
      ]
     },
     "execution_count": 19,
     "metadata": {},
     "output_type": "execute_result"
    }
   ],
   "source": [
    "df2['generated_text_summary'] = df2['Generated Text'].str.rsplit('\\n', n=1).str[-1]\n",
    "df2"
   ]
  },
  {
   "cell_type": "markdown",
   "metadata": {},
   "source": [
    "### Phi 3 Mini\n",
    "- takes about 72 minutes to generate a summary on this single talking paper\n",
    "- model handles the prompt fairly easily, straightforward\n",
    "- model generates believable and intuitive summaries based on the number of max_new_tokens we provide it in the instantiation of the outputs"
   ]
  },
  {
   "cell_type": "code",
   "execution_count": 6,
   "metadata": {},
   "outputs": [
    {
     "name": "stderr",
     "output_type": "stream",
     "text": [
      "c:\\Users\\samuel.cannon\\AppData\\Local\\anaconda3\\envs\\grok\\Lib\\site-packages\\huggingface_hub\\file_download.py:1132: FutureWarning: `resume_download` is deprecated and will be removed in version 1.0.0. Downloads always resume when possible. If you want to force a new download, use `force_download=True`.\n",
      "  warnings.warn(\n",
      "Special tokens have been added in the vocabulary, make sure the associated word embeddings are fine-tuned or trained.\n",
      "`flash-attention` package not found, consider installing for better performance: No module named 'flash_attn'.\n",
      "Current `flash-attention` does not support `window_size`. Either upgrade or use `attn_implementation='eager'`.\n",
      "Loading checkpoint shards: 100%|██████████| 2/2 [00:17<00:00,  8.89s/it]\n"
     ]
    }
   ],
   "source": [
    "#generate summary from prompt\n",
    "set_seed(2024)  \n",
    "\n",
    "model_checkpoint = \"microsoft/Phi-3-mini-4k-instruct\"\n",
    "\n",
    "tokenizer = AutoTokenizer.from_pretrained(model_checkpoint,trust_remote_code=True)\n",
    "model = AutoModelForCausalLM.from_pretrained(model_checkpoint,trust_remote_code=True,torch_dtype=\"auto\")"
   ]
  },
  {
   "cell_type": "code",
   "execution_count": 8,
   "metadata": {},
   "outputs": [
    {
     "data": {
      "text/html": [
       "<div>\n",
       "<style scoped>\n",
       "    .dataframe tbody tr th:only-of-type {\n",
       "        vertical-align: middle;\n",
       "    }\n",
       "\n",
       "    .dataframe tbody tr th {\n",
       "        vertical-align: top;\n",
       "    }\n",
       "\n",
       "    .dataframe thead th {\n",
       "        text-align: right;\n",
       "    }\n",
       "</style>\n",
       "<table border=\"1\" class=\"dataframe\">\n",
       "  <thead>\n",
       "    <tr style=\"text-align: right;\">\n",
       "      <th></th>\n",
       "      <th>Response</th>\n",
       "    </tr>\n",
       "  </thead>\n",
       "  <tbody>\n",
       "    <tr>\n",
       "      <th>0</th>\n",
       "      <td>summarize the following text: 'Since July 1 2010 the Air Force Deployment Transition Center DTC has provided world class reintegration and decompression to over 13848 redeployers. Over 800 Navy and USMC have also used the DTC as third location decompression The mission of the DTC is to provide critical reintegration skills and decompression opportunities for redeployers. Decompression at the DTC also includes the ability to take advantage of the DTC as a transition location to other deployment locations such as Kuwait, Qatar, Kandahar, Afghanistan, Iraq or Hawaii. The decompression opportunities provided by the DTC include: redeployment debriefing and mentorship through the use of the 4-Hour Expert Briefing Method; critical reintegration skills training that supports reintegrating military personnel back into a family, community and profession; special programs to enhance transition by helping them develop the skills necessary to compete in today's competitive employment market; and opportunities to connect family members' to critical services.'  ***\\n\\n\\n\\n# Explanation\\n\\nThe Air Force Deployment Transition Center (DTC), established on July 1, 2010, has provided over 13,848 military redeployers with essential</td>\n",
       "    </tr>\n",
       "  </tbody>\n",
       "</table>\n",
       "</div>"
      ],
      "text/plain": [
       "                                                                                                                                                                                                                                                                                                                                                                                                                                                                                                                                                                                                                                                                                                                                                                                                                                                                                                                                                                                                                                                                                                                                                                                                                                                                         Response\n",
       "0  summarize the following text: 'Since July 1 2010 the Air Force Deployment Transition Center DTC has provided world class reintegration and decompression to over 13848 redeployers. Over 800 Navy and USMC have also used the DTC as third location decompression The mission of the DTC is to provide critical reintegration skills and decompression opportunities for redeployers. Decompression at the DTC also includes the ability to take advantage of the DTC as a transition location to other deployment locations such as Kuwait, Qatar, Kandahar, Afghanistan, Iraq or Hawaii. The decompression opportunities provided by the DTC include: redeployment debriefing and mentorship through the use of the 4-Hour Expert Briefing Method; critical reintegration skills training that supports reintegrating military personnel back into a family, community and profession; special programs to enhance transition by helping them develop the skills necessary to compete in today's competitive employment market; and opportunities to connect family members' to critical services.'  ***\\n\\n\\n\\n# Explanation\\n\\nThe Air Force Deployment Transition Center (DTC), established on July 1, 2010, has provided over 13,848 military redeployers with essential"
      ]
     },
     "execution_count": 8,
     "metadata": {},
     "output_type": "execute_result"
    }
   ],
   "source": [
    "prompt = \"summarize the following text: \\\n",
    "'Since July 1 2010 the Air Force Deployment Transition Center DTC has provided world class reintegration \\\n",
    "and decompression to over 13848 redeployers. Over 800 Navy and USMC have also used the DTC as third location \\\n",
    "decompression The mission of the DTC is to provide critical reintegration skills and decompression opportunities \\\n",
    "for redeployers.\"\n",
    "\n",
    "inputs = tokenizer(prompt, return_tensors=\"pt\")\n",
    "outputs = model.generate(**inputs, do_sample=True, max_new_tokens=200)\n",
    "response= tokenizer.decode(outputs[0], skip_special_tokens=True)\n",
    "#check response\n",
    "df = pd.DataFrame({'Response': [response]})\n",
    "df"
   ]
  },
  {
   "cell_type": "code",
   "execution_count": 9,
   "metadata": {},
   "outputs": [
    {
     "data": {
      "text/html": [
       "<div>\n",
       "<style scoped>\n",
       "    .dataframe tbody tr th:only-of-type {\n",
       "        vertical-align: middle;\n",
       "    }\n",
       "\n",
       "    .dataframe tbody tr th {\n",
       "        vertical-align: top;\n",
       "    }\n",
       "\n",
       "    .dataframe thead th {\n",
       "        text-align: right;\n",
       "    }\n",
       "</style>\n",
       "<table border=\"1\" class=\"dataframe\">\n",
       "  <thead>\n",
       "    <tr style=\"text-align: right;\">\n",
       "      <th></th>\n",
       "      <th>Response</th>\n",
       "    </tr>\n",
       "  </thead>\n",
       "  <tbody>\n",
       "    <tr>\n",
       "      <th>0</th>\n",
       "      <td>summarize the following text: 'Since July 1 2010 the Air Force Deployment Transition Center DTC has provided world class reintegration and decompression to over 13848 redeployers. Over 800 Navy and USMC have also used the DTC as third location decompression The mission of the DTC is to provide critical reintegration skills and decompression opportunities for redeployers. Accomplished through four focused priorities Enhance People Build Community Flex and Adapt to Mission Needs and Conserve Resources. DTC curriculum executes the AFs Tier 4 decompression as part of the broader Comprehensive Airman Fitness. Specifically targeting redeployers resiliency impacts due to family separations and life challenges associated with deployments as well as the demands associated with combat operations. 2day program. 4 calen dar days which includes 2 days for trave l 72 hrs in Germany 10 hrs of program and 62 hrs of liberty Group discussion s not lectures led by a Mission Set Manager from the samesimilar mission set along with a Resiliency Technician no PowerPoints. Strength based focus to bridge positive combat and home front skillsets. No retribution or formal record of discussions that can be associated with members direct comments. The attendance is not recorded in the members medical record. Members can receive additional referrals to helping agencies as indicateddesired. One onone time is available but not mandated with the DTC mental health p ersonnel chaplain resiliency technicians and mission set managers. Experiential outing to a German city for a meal shopping r ecreation conversation etc. Civilian attire is the UOD throughout the course The DTC originally accepted members by line remark designation in official orders based on deployed duty or AFSC. Since inception AFCENT has been the primary theater of fo cus. Expansion of services has adjusted to include wider affected careerspersonnel and geographical locations i.e. AFAFRICA. Deployed commanders may nominate additional attendees based on exposure to incidents difficulty with stressors or concerns for home front transition'\\n\\nSupport: The Air Force Deployment Transition Center (DTC), established on July 1, 2010, has provided over 13,848 redeployers with reintegration and decompression since its inception, attracting 800 Navy and USMC personnel as a third location decompression site. The DTC's mission is to deliver critical reintegration skills and decompression opportunities through four focused priorities: Enhance People, Build Community, Flex and Adapt to Mission Needs, and Conserve Resources. It executes the Air Force's Tier 4 decompression within Comprehensive Airman Fitness, targeting resilience for redeployers due to family separations and deployment life challenges, including combat-related demands.\\n\\nThe 2-day program consists of 72 hours, noting a 2-day structure with a combination of program time and liberty time. Program activities involve group discussions led by a Mission Set Manager and Resiliency Technician, emphasizing a strength-based approach to assimilate combat and homefront skills, without recording individual discussions or formal attendance. A unique experiential outing in a German city is included for members to experience local culture. Uniformly, the DTC formerly used line remark designations in official orders and expanded in response to the expanding need for wider service beyond the Af-Europe (formerly AFCENT) theater.\\n\\nThe DTC now supports a broader range of mission areas and geographical locations, including the AF Africa (AFRICA), allowing deploying commanders to nominate additional attendees as they assess individuals' exposure to incidents and their homefront transition concerns. The DTC's program and services aim to foster a supportive environment that facilitates a successful reintegration for service members and their families.</td>\n",
       "    </tr>\n",
       "  </tbody>\n",
       "</table>\n",
       "</div>"
      ],
      "text/plain": [
       "                                                                                                                                                                                                                                                                                                                                                                                                                                                                                                                                                                                                                                                                                                                                                                                                                                                                                                                                                                                                                                                                                                                                                                                                                                                                                                                                                                                                                                                                                                                                                                                                                                                                                                                                                                                                                                                                                                                                                                                                                                                                                                                                                                                                                                                                                                                                                                                                                                                                                                                                                                                                                                                                                                                                                                                                                                                                                                                                                                                                                                                                                                                                                                                                                                                                                                                                                                                                                                                                                                                                                                                                                                                                                                                                                                                                                                                                                                                                                                                                                                        Response\n",
       "0  summarize the following text: 'Since July 1 2010 the Air Force Deployment Transition Center DTC has provided world class reintegration and decompression to over 13848 redeployers. Over 800 Navy and USMC have also used the DTC as third location decompression The mission of the DTC is to provide critical reintegration skills and decompression opportunities for redeployers. Accomplished through four focused priorities Enhance People Build Community Flex and Adapt to Mission Needs and Conserve Resources. DTC curriculum executes the AFs Tier 4 decompression as part of the broader Comprehensive Airman Fitness. Specifically targeting redeployers resiliency impacts due to family separations and life challenges associated with deployments as well as the demands associated with combat operations. 2day program. 4 calen dar days which includes 2 days for trave l 72 hrs in Germany 10 hrs of program and 62 hrs of liberty Group discussion s not lectures led by a Mission Set Manager from the samesimilar mission set along with a Resiliency Technician no PowerPoints. Strength based focus to bridge positive combat and home front skillsets. No retribution or formal record of discussions that can be associated with members direct comments. The attendance is not recorded in the members medical record. Members can receive additional referrals to helping agencies as indicateddesired. One onone time is available but not mandated with the DTC mental health p ersonnel chaplain resiliency technicians and mission set managers. Experiential outing to a German city for a meal shopping r ecreation conversation etc. Civilian attire is the UOD throughout the course The DTC originally accepted members by line remark designation in official orders based on deployed duty or AFSC. Since inception AFCENT has been the primary theater of fo cus. Expansion of services has adjusted to include wider affected careerspersonnel and geographical locations i.e. AFAFRICA. Deployed commanders may nominate additional attendees based on exposure to incidents difficulty with stressors or concerns for home front transition'\\n\\nSupport: The Air Force Deployment Transition Center (DTC), established on July 1, 2010, has provided over 13,848 redeployers with reintegration and decompression since its inception, attracting 800 Navy and USMC personnel as a third location decompression site. The DTC's mission is to deliver critical reintegration skills and decompression opportunities through four focused priorities: Enhance People, Build Community, Flex and Adapt to Mission Needs, and Conserve Resources. It executes the Air Force's Tier 4 decompression within Comprehensive Airman Fitness, targeting resilience for redeployers due to family separations and deployment life challenges, including combat-related demands.\\n\\nThe 2-day program consists of 72 hours, noting a 2-day structure with a combination of program time and liberty time. Program activities involve group discussions led by a Mission Set Manager and Resiliency Technician, emphasizing a strength-based approach to assimilate combat and homefront skills, without recording individual discussions or formal attendance. A unique experiential outing in a German city is included for members to experience local culture. Uniformly, the DTC formerly used line remark designations in official orders and expanded in response to the expanding need for wider service beyond the Af-Europe (formerly AFCENT) theater.\\n\\nThe DTC now supports a broader range of mission areas and geographical locations, including the AF Africa (AFRICA), allowing deploying commanders to nominate additional attendees as they assess individuals' exposure to incidents and their homefront transition concerns. The DTC's program and services aim to foster a supportive environment that facilitates a successful reintegration for service members and their families."
      ]
     },
     "execution_count": 9,
     "metadata": {},
     "output_type": "execute_result"
    }
   ],
   "source": [
    "prompt = \"summarize the following text: \\\n",
    "'Since July 1 2010 the Air Force Deployment Transition Center DTC has provided world class reintegration \\\n",
    "and decompression to over 13848 redeployers. Over 800 Navy and USMC have also used the DTC as third location \\\n",
    "decompression The mission of the DTC is to provide critical reintegration skills and decompression opportunities \\\n",
    "for redeployers. Accomplished through four focused priorities Enhance People Build Community Flex and Adapt to \\\n",
    "Mission Needs and Conserve Resources. DTC curriculum executes the AFs Tier 4 decompression as part of the broader \\\n",
    "Comprehensive Airman Fitness. Specifically targeting redeployers resiliency impacts due to family separations and \\\n",
    "life challenges associated with deployments as well as the demands associated with combat operations. 2day program. \\\n",
    "4 calen dar days which includes 2 days for trave l 72 hrs in Germany 10 hrs of program and 62 hrs of liberty Group \\\n",
    "discussion s not lectures led by a Mission Set Manager from the samesimilar mission set along with a Resiliency \\\n",
    "Technician no PowerPoints. Strength based focus to bridge positive combat and home front skillsets. No retribution \\\n",
    "or formal record of discussions that can be associated with members direct comments. The attendance is not recorded \\\n",
    "in the members medical record. Members can receive additional referrals to helping agencies as indicateddesired. \\\n",
    "One onone time is available but not mandated with the DTC mental health p ersonnel chaplain resiliency technicians \\\n",
    "and mission set managers. Experiential outing to a German city for a meal shopping r ecreation conversation etc. \\\n",
    "Civilian attire is the UOD throughout the course The DTC originally accepted members by line remark designation \\\n",
    "in official orders based on deployed duty or AFSC. Since inception AFCENT has been the primary theater of fo cus. \\\n",
    "Expansion of services has adjusted to include wider affected careerspersonnel and geographical locations i.e. AFAFRICA. \\\n",
    "Deployed commanders may nominate additional attendees based on exposure to incidents difficulty with stressors or \\\n",
    "concerns for home front transition'\"\n",
    "\n",
    "inputs = tokenizer(prompt, return_tensors=\"pt\")\n",
    "outputs = model.generate(**inputs, do_sample=True, max_new_tokens=500)\n",
    "response= tokenizer.decode(outputs[0], skip_special_tokens=True)\n",
    "#check response\n",
    "df = pd.DataFrame({'Response': [response]})\n",
    "df"
   ]
  },
  {
   "cell_type": "code",
   "execution_count": 13,
   "metadata": {},
   "outputs": [
    {
     "data": {
      "text/html": [
       "<div>\n",
       "<style scoped>\n",
       "    .dataframe tbody tr th:only-of-type {\n",
       "        vertical-align: middle;\n",
       "    }\n",
       "\n",
       "    .dataframe tbody tr th {\n",
       "        vertical-align: top;\n",
       "    }\n",
       "\n",
       "    .dataframe thead th {\n",
       "        text-align: right;\n",
       "    }\n",
       "</style>\n",
       "<table border=\"1\" class=\"dataframe\">\n",
       "  <thead>\n",
       "    <tr style=\"text-align: right;\">\n",
       "      <th></th>\n",
       "      <th>Response</th>\n",
       "    </tr>\n",
       "  </thead>\n",
       "  <tbody>\n",
       "    <tr>\n",
       "      <th>0</th>\n",
       "      <td>summarize the following text: 'Since July 1 2010 the Air Force Deployment Transition Center DTC has provided world class reintegration and decompression to over 13848 redeployers. Over 800 Navy and USMC have also used the DTC as third location decompression The mission of the DTC is to provide critical reintegration skills and decompression opportunities for redeployers. Accomplished through four focused priorities Enhance People Build Community Flex and Adapt to Mission Needs and Conserve Resources. DTC curriculum executes the AFs Tier 4 decompression as part of the broader Comprehensive Airman Fitness. Specifically targeting redeployers resiliency impacts due to family separations and life challenges associated with deployments as well as the demands associated with combat operations. 2day program. 4 calen dar days which includes 2 days for trave l 72 hrs in Germany 10 hrs of program and 62 hrs of liberty Group discussion s not lectures led by a Mission Set Manager from the samesimilar mission set along with a Resiliency Technician no PowerPoints. Strength based focus to bridge positive combat and home front skillsets. No retribution or formal record of discussions that can be associated with members direct comments. The attendance is not recorded in the members medical record. Members can receive additional referrals to helping agencies as indicateddesired. One onone time is available but not mandated with the DTC mental health p ersonnel chaplain resiliency technicians and mission set managers. Experiential outing to a German city for a meal shopping r ecreation conversation etc. Civilian attire is the UOD throughout the course The DTC originally accepted members by line remark designation in official orders based on deployed duty or AFSC. Since inception AFCENT has been the primary theater of fo cus. Expansion of services has adjusted to include wider affected careerspersonnel and geographical locations i.e. AFAFRICA. Deployed commanders may nominate additional attendees based on exposure to incidents difficulty with stressors or concerns for home front transition'  Support: The Air Force Deployment Transition Center (DTC), established on July 1, 2010, has provided over 13,848 redeployers with reintegration and decompression since its inception, attracting 800 Navy and USMC personnel as a third location decompression site. The DTC's mission is to deliver critical reintegration skills and decompression opportunities through four focused priorities: Enhance People, Build Community, Flex and Adapt to Mission Needs, and Conserve Resources. It executes the Air Force's Tier 4 decompression within Comprehensive Airman Fitness, targeting resilience for redeployers due to family separations and deployment life challenges, including combat-related demands.  The 2-day program consists of 72 hours, noting a 2-day structure with a combination of program time and liberty time. Program activities involve group discussions led by a Mission Set Manager and Resiliency Technician, emphasizing a strength-based approach to assimilate combat and homefront skills, without recording individual discussions or formal attendance. A unique experiential outing in a German city is included for members to experience local culture. Uniformly, the DTC formerly used line remark designations in official orders and expanded in response to the expanding need for wider service beyond the Af-Europe (formerly AFCENT) theater.  The DTC now supports a broader range of mission areas and geographical locations, including the AF Africa (AFRICA), allowing deploying commanders to nominate additional attendees as they assess individuals' exposure to incidents and their homefront transition concerns. The DTC's program and services aim to foster a supportive environment that facilitates a successful reintegration for service members and their families.</td>\n",
       "    </tr>\n",
       "  </tbody>\n",
       "</table>\n",
       "</div>"
      ],
      "text/plain": [
       "                                                                                                                                                                                                                                                                                                                                                                                                                                                                                                                                                                                                                                                                                                                                                                                                                                                                                                                                                                                                                                                                                                                                                                                                                                                                                                                                                                                                                                                                                                                                                                                                                                                                                                                                                                                                                                                                                                                                                                                                                                                                                                                                                                                                                                                                                                                                                                                                                                                                                                                                                                                                                                                                                                                                                                                                                                                                                                                                                                                                                                                                                                                                                                                                                                                                                                                                                                                                                                                                                                                                                                                                                                                                                                                                                                                                                                                                                                                                                                                                                                  Response\n",
       "0  summarize the following text: 'Since July 1 2010 the Air Force Deployment Transition Center DTC has provided world class reintegration and decompression to over 13848 redeployers. Over 800 Navy and USMC have also used the DTC as third location decompression The mission of the DTC is to provide critical reintegration skills and decompression opportunities for redeployers. Accomplished through four focused priorities Enhance People Build Community Flex and Adapt to Mission Needs and Conserve Resources. DTC curriculum executes the AFs Tier 4 decompression as part of the broader Comprehensive Airman Fitness. Specifically targeting redeployers resiliency impacts due to family separations and life challenges associated with deployments as well as the demands associated with combat operations. 2day program. 4 calen dar days which includes 2 days for trave l 72 hrs in Germany 10 hrs of program and 62 hrs of liberty Group discussion s not lectures led by a Mission Set Manager from the samesimilar mission set along with a Resiliency Technician no PowerPoints. Strength based focus to bridge positive combat and home front skillsets. No retribution or formal record of discussions that can be associated with members direct comments. The attendance is not recorded in the members medical record. Members can receive additional referrals to helping agencies as indicateddesired. One onone time is available but not mandated with the DTC mental health p ersonnel chaplain resiliency technicians and mission set managers. Experiential outing to a German city for a meal shopping r ecreation conversation etc. Civilian attire is the UOD throughout the course The DTC originally accepted members by line remark designation in official orders based on deployed duty or AFSC. Since inception AFCENT has been the primary theater of fo cus. Expansion of services has adjusted to include wider affected careerspersonnel and geographical locations i.e. AFAFRICA. Deployed commanders may nominate additional attendees based on exposure to incidents difficulty with stressors or concerns for home front transition'  Support: The Air Force Deployment Transition Center (DTC), established on July 1, 2010, has provided over 13,848 redeployers with reintegration and decompression since its inception, attracting 800 Navy and USMC personnel as a third location decompression site. The DTC's mission is to deliver critical reintegration skills and decompression opportunities through four focused priorities: Enhance People, Build Community, Flex and Adapt to Mission Needs, and Conserve Resources. It executes the Air Force's Tier 4 decompression within Comprehensive Airman Fitness, targeting resilience for redeployers due to family separations and deployment life challenges, including combat-related demands.  The 2-day program consists of 72 hours, noting a 2-day structure with a combination of program time and liberty time. Program activities involve group discussions led by a Mission Set Manager and Resiliency Technician, emphasizing a strength-based approach to assimilate combat and homefront skills, without recording individual discussions or formal attendance. A unique experiential outing in a German city is included for members to experience local culture. Uniformly, the DTC formerly used line remark designations in official orders and expanded in response to the expanding need for wider service beyond the Af-Europe (formerly AFCENT) theater.  The DTC now supports a broader range of mission areas and geographical locations, including the AF Africa (AFRICA), allowing deploying commanders to nominate additional attendees as they assess individuals' exposure to incidents and their homefront transition concerns. The DTC's program and services aim to foster a supportive environment that facilitates a successful reintegration for service members and their families."
      ]
     },
     "execution_count": 13,
     "metadata": {},
     "output_type": "execute_result"
    }
   ],
   "source": [
    "df['Response'] = df['Response'].str.replace('\\n', ' ')\n",
    "df"
   ]
  },
  {
   "cell_type": "code",
   "execution_count": 15,
   "metadata": {},
   "outputs": [
    {
     "data": {
      "text/html": [
       "<div>\n",
       "<style scoped>\n",
       "    .dataframe tbody tr th:only-of-type {\n",
       "        vertical-align: middle;\n",
       "    }\n",
       "\n",
       "    .dataframe tbody tr th {\n",
       "        vertical-align: top;\n",
       "    }\n",
       "\n",
       "    .dataframe thead th {\n",
       "        text-align: right;\n",
       "    }\n",
       "</style>\n",
       "<table border=\"1\" class=\"dataframe\">\n",
       "  <thead>\n",
       "    <tr style=\"text-align: right;\">\n",
       "      <th></th>\n",
       "      <th>Response</th>\n",
       "      <th>Summary</th>\n",
       "    </tr>\n",
       "  </thead>\n",
       "  <tbody>\n",
       "    <tr>\n",
       "      <th>0</th>\n",
       "      <td>summarize the following text: 'Since July 1 2010 the Air Force Deployment Transition Center DTC has provided world class reintegration and decompression to over 13848 redeployers. Over 800 Navy and USMC have also used the DTC as third location decompression The mission of the DTC is to provide critical reintegration skills and decompression opportunities for redeployers. Accomplished through four focused priorities Enhance People Build Community Flex and Adapt to Mission Needs and Conserve Resources. DTC curriculum executes the AFs Tier 4 decompression as part of the broader Comprehensive Airman Fitness. Specifically targeting redeployers resiliency impacts due to family separations and life challenges associated with deployments as well as the demands associated with combat operations. 2day program. 4 calen dar days which includes 2 days for trave l 72 hrs in Germany 10 hrs of program and 62 hrs of liberty Group discussion s not lectures led by a Mission Set Manager from the samesimilar mission set along with a Resiliency Technician no PowerPoints. Strength based focus to bridge positive combat and home front skillsets. No retribution or formal record of discussions that can be associated with members direct comments. The attendance is not recorded in the members medical record. Members can receive additional referrals to helping agencies as indicateddesired. One onone time is available but not mandated with the DTC mental health p ersonnel chaplain resiliency technicians and mission set managers. Experiential outing to a German city for a meal shopping r ecreation conversation etc. Civilian attire is the UOD throughout the course The DTC originally accepted members by line remark designation in official orders based on deployed duty or AFSC. Since inception AFCENT has been the primary theater of fo cus. Expansion of services has adjusted to include wider affected careerspersonnel and geographical locations i.e. AFAFRICA. Deployed commanders may nominate additional attendees based on exposure to incidents difficulty with stressors or concerns for home front transition'  Support: The Air Force Deployment Transition Center (DTC), established on July 1, 2010, has provided over 13,848 redeployers with reintegration and decompression since its inception, attracting 800 Navy and USMC personnel as a third location decompression site. The DTC's mission is to deliver critical reintegration skills and decompression opportunities through four focused priorities: Enhance People, Build Community, Flex and Adapt to Mission Needs, and Conserve Resources. It executes the Air Force's Tier 4 decompression within Comprehensive Airman Fitness, targeting resilience for redeployers due to family separations and deployment life challenges, including combat-related demands.  The 2-day program consists of 72 hours, noting a 2-day structure with a combination of program time and liberty time. Program activities involve group discussions led by a Mission Set Manager and Resiliency Technician, emphasizing a strength-based approach to assimilate combat and homefront skills, without recording individual discussions or formal attendance. A unique experiential outing in a German city is included for members to experience local culture. Uniformly, the DTC formerly used line remark designations in official orders and expanded in response to the expanding need for wider service beyond the Af-Europe (formerly AFCENT) theater.  The DTC now supports a broader range of mission areas and geographical locations, including the AF Africa (AFRICA), allowing deploying commanders to nominate additional attendees as they assess individuals' exposure to incidents and their homefront transition concerns. The DTC's program and services aim to foster a supportive environment that facilitates a successful reintegration for service members and their families.</td>\n",
       "      <td>Support: The Air Force Deployment Transition Center (DTC), established on July 1, 2010, has provided over 13,848 redeployers with reintegration and decompression since its inception, attracting 800 Navy and USMC personnel as a third location decompression site. The DTC's mission is to deliver critical reintegration skills and decompression opportunities through four focused priorities: Enhance People, Build Community, Flex and Adapt to Mission Needs, and Conserve Resources. It executes the Air Force's Tier 4 decompression within Comprehensive Airman Fitness, targeting resilience for redeployers due to family separations and deployment life challenges, including combat-related demands.  The 2-day program consists of 72 hours, noting a 2-day structure with a combination of program time and liberty time. Program activities involve group discussions led by a Mission Set Manager and Resiliency Technician, emphasizing a strength-based approach to assimilate combat and homefront skills, without recording individual discussions or formal attendance. A unique experiential outing in a German city is included for members to experience local culture. Uniformly, the DTC formerly used line remark designations in official orders and expanded in response to the expanding need for wider service beyond the Af-Europe (formerly AFCENT) theater.  The DTC now supports a broader range of mission areas and geographical locations, including the AF Africa (AFRICA), allowing deploying commanders to nominate additional attendees as they assess individuals' exposure to incidents and their homefront transition concerns. The DTC's program and services aim to foster a supportive environment that facilitates a successful reintegration for service members and their families.</td>\n",
       "    </tr>\n",
       "  </tbody>\n",
       "</table>\n",
       "</div>"
      ],
      "text/plain": [
       "                                                                                                                                                                                                                                                                                                                                                                                                                                                                                                                                                                                                                                                                                                                                                                                                                                                                                                                                                                                                                                                                                                                                                                                                                                                                                                                                                                                                                                                                                                                                                                                                                                                                                                                                                                                                                                                                                                                                                                                                                                                                                                                                                                                                                                                                                                                                                                                                                                                                                                                                                                                                                                                                                                                                                                                                                                                                                                                                                                                                                                                                                                                                                                                                                                                                                                                                                                                                                                                                                                                                                                                                                                                                                                                                                                                                                                                                                                                                                                                                                                  Response  \\\n",
       "0  summarize the following text: 'Since July 1 2010 the Air Force Deployment Transition Center DTC has provided world class reintegration and decompression to over 13848 redeployers. Over 800 Navy and USMC have also used the DTC as third location decompression The mission of the DTC is to provide critical reintegration skills and decompression opportunities for redeployers. Accomplished through four focused priorities Enhance People Build Community Flex and Adapt to Mission Needs and Conserve Resources. DTC curriculum executes the AFs Tier 4 decompression as part of the broader Comprehensive Airman Fitness. Specifically targeting redeployers resiliency impacts due to family separations and life challenges associated with deployments as well as the demands associated with combat operations. 2day program. 4 calen dar days which includes 2 days for trave l 72 hrs in Germany 10 hrs of program and 62 hrs of liberty Group discussion s not lectures led by a Mission Set Manager from the samesimilar mission set along with a Resiliency Technician no PowerPoints. Strength based focus to bridge positive combat and home front skillsets. No retribution or formal record of discussions that can be associated with members direct comments. The attendance is not recorded in the members medical record. Members can receive additional referrals to helping agencies as indicateddesired. One onone time is available but not mandated with the DTC mental health p ersonnel chaplain resiliency technicians and mission set managers. Experiential outing to a German city for a meal shopping r ecreation conversation etc. Civilian attire is the UOD throughout the course The DTC originally accepted members by line remark designation in official orders based on deployed duty or AFSC. Since inception AFCENT has been the primary theater of fo cus. Expansion of services has adjusted to include wider affected careerspersonnel and geographical locations i.e. AFAFRICA. Deployed commanders may nominate additional attendees based on exposure to incidents difficulty with stressors or concerns for home front transition'  Support: The Air Force Deployment Transition Center (DTC), established on July 1, 2010, has provided over 13,848 redeployers with reintegration and decompression since its inception, attracting 800 Navy and USMC personnel as a third location decompression site. The DTC's mission is to deliver critical reintegration skills and decompression opportunities through four focused priorities: Enhance People, Build Community, Flex and Adapt to Mission Needs, and Conserve Resources. It executes the Air Force's Tier 4 decompression within Comprehensive Airman Fitness, targeting resilience for redeployers due to family separations and deployment life challenges, including combat-related demands.  The 2-day program consists of 72 hours, noting a 2-day structure with a combination of program time and liberty time. Program activities involve group discussions led by a Mission Set Manager and Resiliency Technician, emphasizing a strength-based approach to assimilate combat and homefront skills, without recording individual discussions or formal attendance. A unique experiential outing in a German city is included for members to experience local culture. Uniformly, the DTC formerly used line remark designations in official orders and expanded in response to the expanding need for wider service beyond the Af-Europe (formerly AFCENT) theater.  The DTC now supports a broader range of mission areas and geographical locations, including the AF Africa (AFRICA), allowing deploying commanders to nominate additional attendees as they assess individuals' exposure to incidents and their homefront transition concerns. The DTC's program and services aim to foster a supportive environment that facilitates a successful reintegration for service members and their families.   \n",
       "\n",
       "                                                                                                                                                                                                                                                                                                                                                                                                                                                                                                                                                                                                                                                                                                                                                                                                                                                                                                                                                                                                                                                                                                                                                                                                                                                                                                                                                                                                                                                                                                                                                                                                                                                                                                                                                                                                                                       Summary  \n",
       "0  Support: The Air Force Deployment Transition Center (DTC), established on July 1, 2010, has provided over 13,848 redeployers with reintegration and decompression since its inception, attracting 800 Navy and USMC personnel as a third location decompression site. The DTC's mission is to deliver critical reintegration skills and decompression opportunities through four focused priorities: Enhance People, Build Community, Flex and Adapt to Mission Needs, and Conserve Resources. It executes the Air Force's Tier 4 decompression within Comprehensive Airman Fitness, targeting resilience for redeployers due to family separations and deployment life challenges, including combat-related demands.  The 2-day program consists of 72 hours, noting a 2-day structure with a combination of program time and liberty time. Program activities involve group discussions led by a Mission Set Manager and Resiliency Technician, emphasizing a strength-based approach to assimilate combat and homefront skills, without recording individual discussions or formal attendance. A unique experiential outing in a German city is included for members to experience local culture. Uniformly, the DTC formerly used line remark designations in official orders and expanded in response to the expanding need for wider service beyond the Af-Europe (formerly AFCENT) theater.  The DTC now supports a broader range of mission areas and geographical locations, including the AF Africa (AFRICA), allowing deploying commanders to nominate additional attendees as they assess individuals' exposure to incidents and their homefront transition concerns. The DTC's program and services aim to foster a supportive environment that facilitates a successful reintegration for service members and their families.  "
      ]
     },
     "execution_count": 15,
     "metadata": {},
     "output_type": "execute_result"
    }
   ],
   "source": [
    "df['Summary'] = df['Response'].str.extract(r'(Support:.*)')\n",
    "df\n"
   ]
  },
  {
   "cell_type": "code",
   "execution_count": 16,
   "metadata": {},
   "outputs": [
    {
     "data": {
      "text/html": [
       "<div>\n",
       "<style scoped>\n",
       "    .dataframe tbody tr th:only-of-type {\n",
       "        vertical-align: middle;\n",
       "    }\n",
       "\n",
       "    .dataframe tbody tr th {\n",
       "        vertical-align: top;\n",
       "    }\n",
       "\n",
       "    .dataframe thead th {\n",
       "        text-align: right;\n",
       "    }\n",
       "</style>\n",
       "<table border=\"1\" class=\"dataframe\">\n",
       "  <thead>\n",
       "    <tr style=\"text-align: right;\">\n",
       "      <th></th>\n",
       "      <th>Response</th>\n",
       "    </tr>\n",
       "  </thead>\n",
       "  <tbody>\n",
       "    <tr>\n",
       "      <th>0</th>\n",
       "      <td>summarize the following text: 'Since July 1 2010 the Air Force Deployment Transition Center DTC has provided world class reintegration and decompression to over 13848 redeployers. Over 800 Navy and USMC have also used the DTC as third location decompression The mission of the DTC is to provide critical reintegration skills and decompression opportunities for redeployers. Accomplished through four focused priorities Enhance People Build Community Flex and Adapt to Mission Needs and Conserve Resources. DTC curriculum executes the AFs Tier 4 decompression as part of the broader Comprehensive Airman Fitness. Specifically targeting redeployers resiliency impacts due to family separations and life challenges associated with deployments as well as the demands associated with combat operations. 2day program. 4 calen dar days which includes 2 days for trave l 72 hrs in Germany 10 hrs of program and 62 hrs of liberty Group discussion s not lectures led by a Mission Set Manager from the samesimilar mission set along with a Resiliency Technician no PowerPoints. Strength based focus to bridge positive combat and home front skillsets. No retribution or formal record of discussions that can be associated with members direct comments. The attendance is not recorded in the members medical record. Members can receive additional referrals to helping agencies as indicateddesired. One onone time is available but not mandated with the DTC mental health p ersonnel chaplain resiliency technicians and mission set managers. Experiential outing to a German city for a meal shopping r ecreation conversation etc. Civilian attire is the UOD throughout the course The DTC originally accepted members by line remark designation in official orders based on deployed duty or AFSC. Since inception AFCENT has been the primary theater of fo cus. Expansion of services has adjusted to include wider affected careerspersonnel and geographical locations i.e. AFAFRICA. Deployed commanders may nominate additional attendees based on exposure to incidents difficulty with stressors or concerns for home front transition'\\n\\n\\n## Response\\n\\nSince July 1, 2010, the Air Force Deployment Transition Center (DTC) has successfully served over 13,848 redeployers with reintegration and decompression services. The DTC also serves Navy and USMC personnel, operating as a decompression third location.\\n\\nThe mission of the DTC is to offer crucial reintegration skills and decompression opportunities using four main priority areas: Enhance People, Build Community, Flex and Adapt to Mission Needs, and Conserve Resources. The DTC's curriculum incorporates the Air Force's Tier 4 decompression program within the Comprehensive Airman Fitness initiative, addressing combat stressors, family separations, and life challenges.\\n\\nThe program spans two days, including two days in Germany with a 72-hour stay followed by 10 hours of program activities and 62 hours of liberty. Activities involve group discussions led by a Mission Set Manager and a Resiliency Technician, without PowerPoint presentations or recorded discussions. The program provides a strength-based focus to integrate positive combat and home front skills. Participants also enjoy an experiential outing to a German city for a meal, shopping, and conversation.\\n\\nCivilian clothing (UOD) is worn throughout the course, and members do not receive mandatory individual time with mental health personnel. Initially, the DTC accepted members based on remarks from official orders related to deployed duty or Air Force Specialty Code (AFSC). However, since the center's inception, it has expanded its services to address a broader range of personnel affected by deployment, including those in Africa (AFAFRICA).\\n\\nNominations for extra attendees can be made by deployed commanders, considering</td>\n",
       "    </tr>\n",
       "  </tbody>\n",
       "</table>\n",
       "</div>"
      ],
      "text/plain": [
       "                                                                                                                                                                                                                                                                                                                                                                                                                                                                                                                                                                                                                                                                                                                                                                                                                                                                                                                                                                                                                                                                                                                                                                                                                                                                                                                                                                                                                                                                                                                                                                                                                                                                                                                                                                                                                                                                                                                                                                                                                                                                                                                                                                                                                                                                                                                                                                                                                                                                                                                                                                                                                                                                                                                                                                                                                                                                                                                                                                                                                                                                                                                                                                                                                                                                                                                                                                                                                                                                                                                                                                                                                                                                                                                                                                                                                                                                                                                                                                                    Response\n",
       "0  summarize the following text: 'Since July 1 2010 the Air Force Deployment Transition Center DTC has provided world class reintegration and decompression to over 13848 redeployers. Over 800 Navy and USMC have also used the DTC as third location decompression The mission of the DTC is to provide critical reintegration skills and decompression opportunities for redeployers. Accomplished through four focused priorities Enhance People Build Community Flex and Adapt to Mission Needs and Conserve Resources. DTC curriculum executes the AFs Tier 4 decompression as part of the broader Comprehensive Airman Fitness. Specifically targeting redeployers resiliency impacts due to family separations and life challenges associated with deployments as well as the demands associated with combat operations. 2day program. 4 calen dar days which includes 2 days for trave l 72 hrs in Germany 10 hrs of program and 62 hrs of liberty Group discussion s not lectures led by a Mission Set Manager from the samesimilar mission set along with a Resiliency Technician no PowerPoints. Strength based focus to bridge positive combat and home front skillsets. No retribution or formal record of discussions that can be associated with members direct comments. The attendance is not recorded in the members medical record. Members can receive additional referrals to helping agencies as indicateddesired. One onone time is available but not mandated with the DTC mental health p ersonnel chaplain resiliency technicians and mission set managers. Experiential outing to a German city for a meal shopping r ecreation conversation etc. Civilian attire is the UOD throughout the course The DTC originally accepted members by line remark designation in official orders based on deployed duty or AFSC. Since inception AFCENT has been the primary theater of fo cus. Expansion of services has adjusted to include wider affected careerspersonnel and geographical locations i.e. AFAFRICA. Deployed commanders may nominate additional attendees based on exposure to incidents difficulty with stressors or concerns for home front transition'\\n\\n\\n## Response\\n\\nSince July 1, 2010, the Air Force Deployment Transition Center (DTC) has successfully served over 13,848 redeployers with reintegration and decompression services. The DTC also serves Navy and USMC personnel, operating as a decompression third location.\\n\\nThe mission of the DTC is to offer crucial reintegration skills and decompression opportunities using four main priority areas: Enhance People, Build Community, Flex and Adapt to Mission Needs, and Conserve Resources. The DTC's curriculum incorporates the Air Force's Tier 4 decompression program within the Comprehensive Airman Fitness initiative, addressing combat stressors, family separations, and life challenges.\\n\\nThe program spans two days, including two days in Germany with a 72-hour stay followed by 10 hours of program activities and 62 hours of liberty. Activities involve group discussions led by a Mission Set Manager and a Resiliency Technician, without PowerPoint presentations or recorded discussions. The program provides a strength-based focus to integrate positive combat and home front skills. Participants also enjoy an experiential outing to a German city for a meal, shopping, and conversation.\\n\\nCivilian clothing (UOD) is worn throughout the course, and members do not receive mandatory individual time with mental health personnel. Initially, the DTC accepted members based on remarks from official orders related to deployed duty or Air Force Specialty Code (AFSC). However, since the center's inception, it has expanded its services to address a broader range of personnel affected by deployment, including those in Africa (AFAFRICA).\\n\\nNominations for extra attendees can be made by deployed commanders, considering"
      ]
     },
     "execution_count": 16,
     "metadata": {},
     "output_type": "execute_result"
    }
   ],
   "source": [
    "prompt = \"summarize the following text: \\\n",
    "'Since July 1 2010 the Air Force Deployment Transition Center DTC has provided world class reintegration \\\n",
    "and decompression to over 13848 redeployers. Over 800 Navy and USMC have also used the DTC as third location \\\n",
    "decompression The mission of the DTC is to provide critical reintegration skills and decompression opportunities \\\n",
    "for redeployers. Accomplished through four focused priorities Enhance People Build Community Flex and Adapt to \\\n",
    "Mission Needs and Conserve Resources. DTC curriculum executes the AFs Tier 4 decompression as part of the broader \\\n",
    "Comprehensive Airman Fitness. Specifically targeting redeployers resiliency impacts due to family separations and \\\n",
    "life challenges associated with deployments as well as the demands associated with combat operations. 2day program. \\\n",
    "4 calen dar days which includes 2 days for trave l 72 hrs in Germany 10 hrs of program and 62 hrs of liberty Group \\\n",
    "discussion s not lectures led by a Mission Set Manager from the samesimilar mission set along with a Resiliency \\\n",
    "Technician no PowerPoints. Strength based focus to bridge positive combat and home front skillsets. No retribution \\\n",
    "or formal record of discussions that can be associated with members direct comments. The attendance is not recorded \\\n",
    "in the members medical record. Members can receive additional referrals to helping agencies as indicateddesired. \\\n",
    "One onone time is available but not mandated with the DTC mental health p ersonnel chaplain resiliency technicians \\\n",
    "and mission set managers. Experiential outing to a German city for a meal shopping r ecreation conversation etc. \\\n",
    "Civilian attire is the UOD throughout the course The DTC originally accepted members by line remark designation \\\n",
    "in official orders based on deployed duty or AFSC. Since inception AFCENT has been the primary theater of fo cus. \\\n",
    "Expansion of services has adjusted to include wider affected careerspersonnel and geographical locations i.e. AFAFRICA. \\\n",
    "Deployed commanders may nominate additional attendees based on exposure to incidents difficulty with stressors or \\\n",
    "concerns for home front transition'\"\n",
    "\n",
    "inputs = tokenizer(prompt, return_tensors=\"pt\")\n",
    "outputs = model.generate(**inputs, do_sample=True, max_new_tokens=400)\n",
    "response= tokenizer.decode(outputs[0], skip_special_tokens=True)\n",
    "#check response\n",
    "df = pd.DataFrame({'Response': [response]})\n",
    "df"
   ]
  },
  {
   "cell_type": "code",
   "execution_count": 18,
   "metadata": {},
   "outputs": [
    {
     "data": {
      "text/html": [
       "<div>\n",
       "<style scoped>\n",
       "    .dataframe tbody tr th:only-of-type {\n",
       "        vertical-align: middle;\n",
       "    }\n",
       "\n",
       "    .dataframe tbody tr th {\n",
       "        vertical-align: top;\n",
       "    }\n",
       "\n",
       "    .dataframe thead th {\n",
       "        text-align: right;\n",
       "    }\n",
       "</style>\n",
       "<table border=\"1\" class=\"dataframe\">\n",
       "  <thead>\n",
       "    <tr style=\"text-align: right;\">\n",
       "      <th></th>\n",
       "      <th>Response</th>\n",
       "      <th>Summary</th>\n",
       "    </tr>\n",
       "  </thead>\n",
       "  <tbody>\n",
       "    <tr>\n",
       "      <th>0</th>\n",
       "      <td>summarize the following text: 'Since July 1 2010 the Air Force Deployment Transition Center DTC has provided world class reintegration and decompression to over 13848 redeployers. Over 800 Navy and USMC have also used the DTC as third location decompression The mission of the DTC is to provide critical reintegration skills and decompression opportunities for redeployers. Accomplished through four focused priorities Enhance People Build Community Flex and Adapt to Mission Needs and Conserve Resources. DTC curriculum executes the AFs Tier 4 decompression as part of the broader Comprehensive Airman Fitness. Specifically targeting redeployers resiliency impacts due to family separations and life challenges associated with deployments as well as the demands associated with combat operations. 2day program. 4 calen dar days which includes 2 days for trave l 72 hrs in Germany 10 hrs of program and 62 hrs of liberty Group discussion s not lectures led by a Mission Set Manager from the samesimilar mission set along with a Resiliency Technician no PowerPoints. Strength based focus to bridge positive combat and home front skillsets. No retribution or formal record of discussions that can be associated with members direct comments. The attendance is not recorded in the members medical record. Members can receive additional referrals to helping agencies as indicateddesired. One onone time is available but not mandated with the DTC mental health p ersonnel chaplain resiliency technicians and mission set managers. Experiential outing to a German city for a meal shopping r ecreation conversation etc. Civilian attire is the UOD throughout the course The DTC originally accepted members by line remark designation in official orders based on deployed duty or AFSC. Since inception AFCENT has been the primary theater of fo cus. Expansion of services has adjusted to include wider affected careerspersonnel and geographical locations i.e. AFAFRICA. Deployed commanders may nominate additional attendees based on exposure to incidents difficulty with stressors or concerns for home front transition'   ## Response  Since July 1, 2010, the Air Force Deployment Transition Center (DTC) has successfully served over 13,848 redeployers with reintegration and decompression services. The DTC also serves Navy and USMC personnel, operating as a decompression third location.  The mission of the DTC is to offer crucial reintegration skills and decompression opportunities using four main priority areas: Enhance People, Build Community, Flex and Adapt to Mission Needs, and Conserve Resources. The DTC's curriculum incorporates the Air Force's Tier 4 decompression program within the Comprehensive Airman Fitness initiative, addressing combat stressors, family separations, and life challenges.  The program spans two days, including two days in Germany with a 72-hour stay followed by 10 hours of program activities and 62 hours of liberty. Activities involve group discussions led by a Mission Set Manager and a Resiliency Technician, without PowerPoint presentations or recorded discussions. The program provides a strength-based focus to integrate positive combat and home front skills. Participants also enjoy an experiential outing to a German city for a meal, shopping, and conversation.  Civilian clothing (UOD) is worn throughout the course, and members do not receive mandatory individual time with mental health personnel. Initially, the DTC accepted members based on remarks from official orders related to deployed duty or Air Force Specialty Code (AFSC). However, since the center's inception, it has expanded its services to address a broader range of personnel affected by deployment, including those in Africa (AFAFRICA).  Nominations for extra attendees can be made by deployed commanders, considering</td>\n",
       "      <td>Response  Since July 1, 2010, the Air Force Deployment Transition Center (DTC) has successfully served over 13,848 redeployers with reintegration and decompression services. The DTC also serves Navy and USMC personnel, operating as a decompression third location.  The mission of the DTC is to offer crucial reintegration skills and decompression opportunities using four main priority areas: Enhance People, Build Community, Flex and Adapt to Mission Needs, and Conserve Resources. The DTC's curriculum incorporates the Air Force's Tier 4 decompression program within the Comprehensive Airman Fitness initiative, addressing combat stressors, family separations, and life challenges.  The program spans two days, including two days in Germany with a 72-hour stay followed by 10 hours of program activities and 62 hours of liberty. Activities involve group discussions led by a Mission Set Manager and a Resiliency Technician, without PowerPoint presentations or recorded discussions. The program provides a strength-based focus to integrate positive combat and home front skills. Participants also enjoy an experiential outing to a German city for a meal, shopping, and conversation.  Civilian clothing (UOD) is worn throughout the course, and members do not receive mandatory individual time with mental health personnel. Initially, the DTC accepted members based on remarks from official orders related to deployed duty or Air Force Specialty Code (AFSC). However, since the center's inception, it has expanded its services to address a broader range of personnel affected by deployment, including those in Africa (AFAFRICA).  Nominations for extra attendees can be made by deployed commanders, considering</td>\n",
       "    </tr>\n",
       "  </tbody>\n",
       "</table>\n",
       "</div>"
      ],
      "text/plain": [
       "                                                                                                                                                                                                                                                                                                                                                                                                                                                                                                                                                                                                                                                                                                                                                                                                                                                                                                                                                                                                                                                                                                                                                                                                                                                                                                                                                                                                                                                                                                                                                                                                                                                                                                                                                                                                                                                                                                                                                                                                                                                                                                                                                                                                                                                                                                                                                                                                                                                                                                                                                                                                                                                                                                                                                                                                                                                                                                                                                                                                                                                                                                                                                                                                                                                                                                                                                                                                                                                                                                                                                                                                                                                                                                                                                                                                                                                                                                                                                                       Response  \\\n",
       "0  summarize the following text: 'Since July 1 2010 the Air Force Deployment Transition Center DTC has provided world class reintegration and decompression to over 13848 redeployers. Over 800 Navy and USMC have also used the DTC as third location decompression The mission of the DTC is to provide critical reintegration skills and decompression opportunities for redeployers. Accomplished through four focused priorities Enhance People Build Community Flex and Adapt to Mission Needs and Conserve Resources. DTC curriculum executes the AFs Tier 4 decompression as part of the broader Comprehensive Airman Fitness. Specifically targeting redeployers resiliency impacts due to family separations and life challenges associated with deployments as well as the demands associated with combat operations. 2day program. 4 calen dar days which includes 2 days for trave l 72 hrs in Germany 10 hrs of program and 62 hrs of liberty Group discussion s not lectures led by a Mission Set Manager from the samesimilar mission set along with a Resiliency Technician no PowerPoints. Strength based focus to bridge positive combat and home front skillsets. No retribution or formal record of discussions that can be associated with members direct comments. The attendance is not recorded in the members medical record. Members can receive additional referrals to helping agencies as indicateddesired. One onone time is available but not mandated with the DTC mental health p ersonnel chaplain resiliency technicians and mission set managers. Experiential outing to a German city for a meal shopping r ecreation conversation etc. Civilian attire is the UOD throughout the course The DTC originally accepted members by line remark designation in official orders based on deployed duty or AFSC. Since inception AFCENT has been the primary theater of fo cus. Expansion of services has adjusted to include wider affected careerspersonnel and geographical locations i.e. AFAFRICA. Deployed commanders may nominate additional attendees based on exposure to incidents difficulty with stressors or concerns for home front transition'   ## Response  Since July 1, 2010, the Air Force Deployment Transition Center (DTC) has successfully served over 13,848 redeployers with reintegration and decompression services. The DTC also serves Navy and USMC personnel, operating as a decompression third location.  The mission of the DTC is to offer crucial reintegration skills and decompression opportunities using four main priority areas: Enhance People, Build Community, Flex and Adapt to Mission Needs, and Conserve Resources. The DTC's curriculum incorporates the Air Force's Tier 4 decompression program within the Comprehensive Airman Fitness initiative, addressing combat stressors, family separations, and life challenges.  The program spans two days, including two days in Germany with a 72-hour stay followed by 10 hours of program activities and 62 hours of liberty. Activities involve group discussions led by a Mission Set Manager and a Resiliency Technician, without PowerPoint presentations or recorded discussions. The program provides a strength-based focus to integrate positive combat and home front skills. Participants also enjoy an experiential outing to a German city for a meal, shopping, and conversation.  Civilian clothing (UOD) is worn throughout the course, and members do not receive mandatory individual time with mental health personnel. Initially, the DTC accepted members based on remarks from official orders related to deployed duty or Air Force Specialty Code (AFSC). However, since the center's inception, it has expanded its services to address a broader range of personnel affected by deployment, including those in Africa (AFAFRICA).  Nominations for extra attendees can be made by deployed commanders, considering   \n",
       "\n",
       "                                                                                                                                                                                                                                                                                                                                                                                                                                                                                                                                                                                                                                                                                                                                                                                                                                                                                                                                                                                                                                                                                                                                                                                                                                                                                                                                                                                                                                                                                                                                                                                                                                                                                                                                                                        Summary  \n",
       "0  Response  Since July 1, 2010, the Air Force Deployment Transition Center (DTC) has successfully served over 13,848 redeployers with reintegration and decompression services. The DTC also serves Navy and USMC personnel, operating as a decompression third location.  The mission of the DTC is to offer crucial reintegration skills and decompression opportunities using four main priority areas: Enhance People, Build Community, Flex and Adapt to Mission Needs, and Conserve Resources. The DTC's curriculum incorporates the Air Force's Tier 4 decompression program within the Comprehensive Airman Fitness initiative, addressing combat stressors, family separations, and life challenges.  The program spans two days, including two days in Germany with a 72-hour stay followed by 10 hours of program activities and 62 hours of liberty. Activities involve group discussions led by a Mission Set Manager and a Resiliency Technician, without PowerPoint presentations or recorded discussions. The program provides a strength-based focus to integrate positive combat and home front skills. Participants also enjoy an experiential outing to a German city for a meal, shopping, and conversation.  Civilian clothing (UOD) is worn throughout the course, and members do not receive mandatory individual time with mental health personnel. Initially, the DTC accepted members based on remarks from official orders related to deployed duty or Air Force Specialty Code (AFSC). However, since the center's inception, it has expanded its services to address a broader range of personnel affected by deployment, including those in Africa (AFAFRICA).  Nominations for extra attendees can be made by deployed commanders, considering  "
      ]
     },
     "execution_count": 18,
     "metadata": {},
     "output_type": "execute_result"
    }
   ],
   "source": [
    "df['Response'] = df['Response'].str.replace('\\n', ' ')\n",
    "df['Summary'] = df['Response'].str.extract(r'(Response.*)')\n",
    "df"
   ]
  },
  {
   "cell_type": "markdown",
   "metadata": {},
   "source": [
    "### Dolly 7b Param\n",
    "- still have similar issues with the generated summaries repeating one single sentence like the 3b param model does\n",
    "- Raising the temperature on the model solves the problem of redundant sentences being generated in the summary"
   ]
  },
  {
   "cell_type": "code",
   "execution_count": 34,
   "metadata": {},
   "outputs": [
    {
     "name": "stderr",
     "output_type": "stream",
     "text": [
      "c:\\Users\\samuel.cannon\\AppData\\Local\\anaconda3\\envs\\grok\\Lib\\site-packages\\transformers\\generation\\configuration_utils.py:492: UserWarning: `do_sample` is set to `False`. However, `temperature` is set to `0.5` -- this flag is only used in sample-based generation modes. You should set `do_sample=True` or unset `temperature`.\n",
      "  warnings.warn(\n",
      "The attention mask and the pad token id were not set. As a consequence, you may observe unexpected behavior. Please pass your input's `attention_mask` to obtain reliable results.\n",
      "Setting `pad_token_id` to `eos_token_id`:0 for open-end generation.\n",
      "Both `max_new_tokens` (=300) and `max_length`(=500) seem to have been set. `max_new_tokens` will take precedence. Please refer to the documentation for more information. (https://huggingface.co/docs/transformers/main/en/main_classes/text_generation)\n"
     ]
    },
    {
     "name": "stderr",
     "output_type": "stream",
     "text": [
      "c:\\Users\\samuel.cannon\\AppData\\Local\\anaconda3\\envs\\grok\\Lib\\site-packages\\transformers\\generation\\utils.py:1460: UserWarning: You are calling .generate() with the `input_ids` being on a device type different than your model's device. `input_ids` is on cpu, whereas the model is on cuda. You may experience unexpected behaviors or slower generation. Please make sure that you have put `input_ids` to the correct device by calling for example input_ids = input_ids.to('cuda') before running `.generate()`.\n",
      "  warnings.warn(\n"
     ]
    },
    {
     "data": {
      "text/html": [
       "<div>\n",
       "<style scoped>\n",
       "    .dataframe tbody tr th:only-of-type {\n",
       "        vertical-align: middle;\n",
       "    }\n",
       "\n",
       "    .dataframe tbody tr th {\n",
       "        vertical-align: top;\n",
       "    }\n",
       "\n",
       "    .dataframe thead th {\n",
       "        text-align: right;\n",
       "    }\n",
       "</style>\n",
       "<table border=\"1\" class=\"dataframe\">\n",
       "  <thead>\n",
       "    <tr style=\"text-align: right;\">\n",
       "      <th></th>\n",
       "      <th>Generated Text</th>\n",
       "    </tr>\n",
       "  </thead>\n",
       "  <tbody>\n",
       "    <tr>\n",
       "      <th>0</th>\n",
       "      <td>summarize the following text: 'TALKING PAPER ON THE DEPLOYMENT TRANSITION CENTER Since July 1 2010 the Air Force Deployment Transition Center DTC has provided world class reintegration and decompression to over 13848 redeployers. Over 800 Navy and USMC have also used the DTC as third location decompression The mission of the DTC is to provide critical reintegration skills and decompression opportunities for redeployers. Accomplished through four focused priorities Enhance People Build Community Flex and Adapt to Mission Needs and Conserve Resources. DTC curriculum executes the AFs Tier 4 decompression as part of the broader Comprehensive Airman Fitness. Specifically targeting redeployers resiliency impacts due to family separations and life challenges associated with deployments as well as the demands associated with combat operations. 2day program. 4 calen dar days which includes 2 days for trave l 72 hrs in Germany 10 hrs of program and 62 hrs of liberty Group discussion s not lectures led by a Mission Set Manager from the samesimilar mission set along with a Resiliency Technician no PowerPoints. Strength based focus to bridge positive combat and home front skillsets. No retribution or formal record of discussions that can be associated with members direct comments. The attendance is not recorded in the members medical record. Members can receive additional referrals to helping agencies as indicateddesired. One onone time is available but not mandated with the DTC mental health p ersonnel chaplain resiliency technicians and mission set managers. Experiential outing to a German city for a meal shopping r ecreation conversation etc. Civilian attire is the UOD throughout the course The DTC originally accepted members by line remark designation in official orders based on deployed duty or AFSC. Since inception AFCENT has been the primary theater of fo cus. Expansion of services has adjusted to include wider affected careerspersonnel and geographical locations i.e. AFAFRICA. Deployed commanders may nominate additional attendees based on exposure to incidents difficulty with stressors or concerns for home front transition''. The DTC is a critical component of the Air Force's comprehensive reintegration and decompression program for redeployers. The DTC provides world class reintegration and decompression to over 13848 redeployers. The mission of the DTC is to provide critical reintegration skills and decompression opportunities for redeployers. Accomplished through four focused priorities Enhance People Build Community Flex and Adapt to Mission Needs and Conserve Resources. DTC curriculum executes the AFs Tier 4 decompression as part of the broader Comprehensive Airman Fitness. Specifically targeting redeployers resiliency impacts due to family separations and life challenges associated with deployments as well as the demands associated with combat operations. 2day program. 4 calen dar days which includes 2 days for trave l 72 hrs in Germany 10 hrs of program and 62 hrs of liberty Group discussion s not lectures led by a Mission Set Manager from the samesimilar mission set along with a Resiliency Technician no PowerPoints. Strength based focus to bridge positive combat and home front skillsets. No retribution or formal record of discussions that can be associated with members direct comments. The attendance is not recorded in the members medical record. Members can receive additional referrals to helping agencies as indicateddesired. One onone time is available but not mandated with the DTC mental health p ersonnel chaplain resiliency technicians and mission set managers. Experiential outing to a German city</td>\n",
       "    </tr>\n",
       "  </tbody>\n",
       "</table>\n",
       "</div>"
      ],
      "text/plain": [
       "                                                                                                                                                                                                                                                                                                                                                                                                                                                                                                                                                                                                                                                                                                                                                                                                                                                                                                                                                                                                                                                                                                                                                                                                                                                                                                                                                                                                                                                                                                                                                                                                                                                                                                                                                                                                                                                                                                                                                                                                                                                                                                                                                                                                                                                                                                                                                                                                                                                                                                                                                                                                                                                                                                                                                                                                                                                                                                                                                                                                                                                                                                                                                                                                                                                                                                                                                                                                                                                                                                                                                                                                                                                                                                                                                                                                            Generated Text\n",
       "0  summarize the following text: 'TALKING PAPER ON THE DEPLOYMENT TRANSITION CENTER Since July 1 2010 the Air Force Deployment Transition Center DTC has provided world class reintegration and decompression to over 13848 redeployers. Over 800 Navy and USMC have also used the DTC as third location decompression The mission of the DTC is to provide critical reintegration skills and decompression opportunities for redeployers. Accomplished through four focused priorities Enhance People Build Community Flex and Adapt to Mission Needs and Conserve Resources. DTC curriculum executes the AFs Tier 4 decompression as part of the broader Comprehensive Airman Fitness. Specifically targeting redeployers resiliency impacts due to family separations and life challenges associated with deployments as well as the demands associated with combat operations. 2day program. 4 calen dar days which includes 2 days for trave l 72 hrs in Germany 10 hrs of program and 62 hrs of liberty Group discussion s not lectures led by a Mission Set Manager from the samesimilar mission set along with a Resiliency Technician no PowerPoints. Strength based focus to bridge positive combat and home front skillsets. No retribution or formal record of discussions that can be associated with members direct comments. The attendance is not recorded in the members medical record. Members can receive additional referrals to helping agencies as indicateddesired. One onone time is available but not mandated with the DTC mental health p ersonnel chaplain resiliency technicians and mission set managers. Experiential outing to a German city for a meal shopping r ecreation conversation etc. Civilian attire is the UOD throughout the course The DTC originally accepted members by line remark designation in official orders based on deployed duty or AFSC. Since inception AFCENT has been the primary theater of fo cus. Expansion of services has adjusted to include wider affected careerspersonnel and geographical locations i.e. AFAFRICA. Deployed commanders may nominate additional attendees based on exposure to incidents difficulty with stressors or concerns for home front transition''. The DTC is a critical component of the Air Force's comprehensive reintegration and decompression program for redeployers. The DTC provides world class reintegration and decompression to over 13848 redeployers. The mission of the DTC is to provide critical reintegration skills and decompression opportunities for redeployers. Accomplished through four focused priorities Enhance People Build Community Flex and Adapt to Mission Needs and Conserve Resources. DTC curriculum executes the AFs Tier 4 decompression as part of the broader Comprehensive Airman Fitness. Specifically targeting redeployers resiliency impacts due to family separations and life challenges associated with deployments as well as the demands associated with combat operations. 2day program. 4 calen dar days which includes 2 days for trave l 72 hrs in Germany 10 hrs of program and 62 hrs of liberty Group discussion s not lectures led by a Mission Set Manager from the samesimilar mission set along with a Resiliency Technician no PowerPoints. Strength based focus to bridge positive combat and home front skillsets. No retribution or formal record of discussions that can be associated with members direct comments. The attendance is not recorded in the members medical record. Members can receive additional referrals to helping agencies as indicateddesired. One onone time is available but not mandated with the DTC mental health p ersonnel chaplain resiliency technicians and mission set managers. Experiential outing to a German city"
      ]
     },
     "execution_count": 34,
     "metadata": {},
     "output_type": "execute_result"
    }
   ],
   "source": [
    "# Define the input text\n",
    "# could we change the approach of the project into a question answering task instead of summarization?\n",
    "input_text = \"summarize the following text: \\\n",
    "'TALKING PAPER ON THE DEPLOYMENT TRANSITION CENTER Since July 1 2010 the Air Force Deployment \\\n",
    "Transition Center DTC has provided world class reintegration and decompression to over 13848 redeployers. \\\n",
    "Over 800 Navy and USMC have also used the DTC as third location decompression The mission of the DTC is to \\\n",
    "provide critical reintegration skills and decompression opportunities for redeployers. \\\n",
    "Accomplished through four focused priorities Enhance People Build Community Flex and \\\n",
    "Adapt to Mission Needs and Conserve Resources. DTC curriculum executes the AFs Tier 4 \\\n",
    "decompression as part of the broader Comprehensive Airman Fitness. Specifically targeting \\\n",
    "redeployers resiliency impacts due to family separations and life challenges associated with \\\n",
    "deployments as well as the demands associated with combat operations. 2day program. 4 calen dar \\\n",
    "days which includes 2 days for trave l 72 hrs in Germany 10 hrs of program and 62 hrs of liberty \\\n",
    "Group discussion s not lectures led by a Mission Set Manager from the samesimilar mission set \\\n",
    "along with a Resiliency Technician no PowerPoints. Strength based focus to bridge positive \\\n",
    "combat and home front skillsets. No retribution or formal record of discussions that can be \\\n",
    "associated with members direct comments. The attendance is not recorded in the members medical record. \\\n",
    "Members can receive additional referrals to helping agencies as indicateddesired. One onone time is \\\n",
    "available but not mandated with the DTC mental health p ersonnel chaplain resiliency technicians and \\\n",
    "mission set managers. Experiential outing to a German city for a meal shopping r ecreation conversation etc. \\\n",
    "Civilian attire is the UOD throughout the course The DTC originally accepted members by line remark designation in \\\n",
    "official orders based on deployed duty or AFSC. Since inception AFCENT has been the primary theater of fo cus. \\\n",
    "Expansion of services has adjusted to include wider affected careerspersonnel and geographical locations i.e. \\\n",
    "AFAFRICA. Deployed commanders may nominate additional attendees based on exposure to incidents difficulty with \\\n",
    "stressors or concerns for home front transition'\"\n",
    "\n",
    "input_ids = tokenizer.encode(input_text, return_tensors=\"pt\")\n",
    "\n",
    "# Generate a response\n",
    "output = model.generate(input_ids, max_length=500, max_new_tokens = 300, temperature=0.5, num_return_sequences=1)\n",
    "\n",
    "# Decode the response\n",
    "response = tokenizer.decode(output[0], skip_special_tokens=True)\n",
    "\n",
    "dolly_7b_df = pd.DataFrame({'Generated Text': [response]})\n",
    "dolly_7b_df"
   ]
  },
  {
   "cell_type": "code",
   "execution_count": 35,
   "metadata": {},
   "outputs": [
    {
     "data": {
      "text/html": [
       "<div>\n",
       "<style scoped>\n",
       "    .dataframe tbody tr th:only-of-type {\n",
       "        vertical-align: middle;\n",
       "    }\n",
       "\n",
       "    .dataframe tbody tr th {\n",
       "        vertical-align: top;\n",
       "    }\n",
       "\n",
       "    .dataframe thead th {\n",
       "        text-align: right;\n",
       "    }\n",
       "</style>\n",
       "<table border=\"1\" class=\"dataframe\">\n",
       "  <thead>\n",
       "    <tr style=\"text-align: right;\">\n",
       "      <th></th>\n",
       "      <th>Generated Text</th>\n",
       "      <th>Summary</th>\n",
       "    </tr>\n",
       "  </thead>\n",
       "  <tbody>\n",
       "    <tr>\n",
       "      <th>0</th>\n",
       "      <td>summarize the following text: 'TALKING PAPER ON THE DEPLOYMENT TRANSITION CENTER Since July 1 2010 the Air Force Deployment Transition Center DTC has provided world class reintegration and decompression to over 13848 redeployers. Over 800 Navy and USMC have also used the DTC as third location decompression The mission of the DTC is to provide critical reintegration skills and decompression opportunities for redeployers. Accomplished through four focused priorities Enhance People Build Community Flex and Adapt to Mission Needs and Conserve Resources. DTC curriculum executes the AFs Tier 4 decompression as part of the broader Comprehensive Airman Fitness. Specifically targeting redeployers resiliency impacts due to family separations and life challenges associated with deployments as well as the demands associated with combat operations. 2day program. 4 calen dar days which includes 2 days for trave l 72 hrs in Germany 10 hrs of program and 62 hrs of liberty Group discussion s not lectures led by a Mission Set Manager from the samesimilar mission set along with a Resiliency Technician no PowerPoints. Strength based focus to bridge positive combat and home front skillsets. No retribution or formal record of discussions that can be associated with members direct comments. The attendance is not recorded in the members medical record. Members can receive additional referrals to helping agencies as indicateddesired. One onone time is available but not mandated with the DTC mental health p ersonnel chaplain resiliency technicians and mission set managers. Experiential outing to a German city for a meal shopping r ecreation conversation etc. Civilian attire is the UOD throughout the course The DTC originally accepted members by line remark designation in official orders based on deployed duty or AFSC. Since inception AFCENT has been the primary theater of fo cus. Expansion of services has adjusted to include wider affected careerspersonnel and geographical locations i.e. AFAFRICA. Deployed commanders may nominate additional attendees based on exposure to incidents difficulty with stressors or concerns for home front transition''. The DTC is a critical component of the Air Force's comprehensive reintegration and decompression program for redeployers. The DTC provides world class reintegration and decompression to over 13848 redeployers. The mission of the DTC is to provide critical reintegration skills and decompression opportunities for redeployers. Accomplished through four focused priorities Enhance People Build Community Flex and Adapt to Mission Needs and Conserve Resources. DTC curriculum executes the AFs Tier 4 decompression as part of the broader Comprehensive Airman Fitness. Specifically targeting redeployers resiliency impacts due to family separations and life challenges associated with deployments as well as the demands associated with combat operations. 2day program. 4 calen dar days which includes 2 days for trave l 72 hrs in Germany 10 hrs of program and 62 hrs of liberty Group discussion s not lectures led by a Mission Set Manager from the samesimilar mission set along with a Resiliency Technician no PowerPoints. Strength based focus to bridge positive combat and home front skillsets. No retribution or formal record of discussions that can be associated with members direct comments. The attendance is not recorded in the members medical record. Members can receive additional referrals to helping agencies as indicateddesired. One onone time is available but not mandated with the DTC mental health p ersonnel chaplain resiliency technicians and mission set managers. Experiential outing to a German city</td>\n",
       "      <td>The DTC is a critical component of the Air Force's comprehensive reintegration and decompression program for redeployers. The DTC provides world class reintegration and decompression to over 13848 redeployers. The mission of the DTC is to provide critical reintegration skills and decompression opportunities for redeployers. Accomplished through four focused priorities Enhance People Build Community Flex and Adapt to Mission Needs and Conserve Resources. DTC curriculum executes the AFs Tier 4 decompression as part of the broader Comprehensive Airman Fitness. Specifically targeting redeployers resiliency impacts due to family separations and life challenges associated with deployments as well as the demands associated with combat operations. 2day program. 4 calen dar days which includes 2 days for trave l 72 hrs in Germany 10 hrs of program and 62 hrs of liberty Group discussion s not lectures led by a Mission Set Manager from the samesimilar mission set along with a Resiliency Technician no PowerPoints. Strength based focus to bridge positive combat and home front skillsets. No retribution or formal record of discussions that can be associated with members direct comments. The attendance is not recorded in the members medical record. Members can receive additional referrals to helping agencies as indicateddesired. One onone time is available but not mandated with the DTC mental health p ersonnel chaplain resiliency technicians and mission set managers. Experiential outing to a German city</td>\n",
       "    </tr>\n",
       "  </tbody>\n",
       "</table>\n",
       "</div>"
      ],
      "text/plain": [
       "                                                                                                                                                                                                                                                                                                                                                                                                                                                                                                                                                                                                                                                                                                                                                                                                                                                                                                                                                                                                                                                                                                                                                                                                                                                                                                                                                                                                                                                                                                                                                                                                                                                                                                                                                                                                                                                                                                                                                                                                                                                                                                                                                                                                                                                                                                                                                                                                                                                                                                                                                                                                                                                                                                                                                                                                                                                                                                                                                                                                                                                                                                                                                                                                                                                                                                                                                                                                                                                                                                                                                                                                                                                                                                                                                                                                            Generated Text  \\\n",
       "0  summarize the following text: 'TALKING PAPER ON THE DEPLOYMENT TRANSITION CENTER Since July 1 2010 the Air Force Deployment Transition Center DTC has provided world class reintegration and decompression to over 13848 redeployers. Over 800 Navy and USMC have also used the DTC as third location decompression The mission of the DTC is to provide critical reintegration skills and decompression opportunities for redeployers. Accomplished through four focused priorities Enhance People Build Community Flex and Adapt to Mission Needs and Conserve Resources. DTC curriculum executes the AFs Tier 4 decompression as part of the broader Comprehensive Airman Fitness. Specifically targeting redeployers resiliency impacts due to family separations and life challenges associated with deployments as well as the demands associated with combat operations. 2day program. 4 calen dar days which includes 2 days for trave l 72 hrs in Germany 10 hrs of program and 62 hrs of liberty Group discussion s not lectures led by a Mission Set Manager from the samesimilar mission set along with a Resiliency Technician no PowerPoints. Strength based focus to bridge positive combat and home front skillsets. No retribution or formal record of discussions that can be associated with members direct comments. The attendance is not recorded in the members medical record. Members can receive additional referrals to helping agencies as indicateddesired. One onone time is available but not mandated with the DTC mental health p ersonnel chaplain resiliency technicians and mission set managers. Experiential outing to a German city for a meal shopping r ecreation conversation etc. Civilian attire is the UOD throughout the course The DTC originally accepted members by line remark designation in official orders based on deployed duty or AFSC. Since inception AFCENT has been the primary theater of fo cus. Expansion of services has adjusted to include wider affected careerspersonnel and geographical locations i.e. AFAFRICA. Deployed commanders may nominate additional attendees based on exposure to incidents difficulty with stressors or concerns for home front transition''. The DTC is a critical component of the Air Force's comprehensive reintegration and decompression program for redeployers. The DTC provides world class reintegration and decompression to over 13848 redeployers. The mission of the DTC is to provide critical reintegration skills and decompression opportunities for redeployers. Accomplished through four focused priorities Enhance People Build Community Flex and Adapt to Mission Needs and Conserve Resources. DTC curriculum executes the AFs Tier 4 decompression as part of the broader Comprehensive Airman Fitness. Specifically targeting redeployers resiliency impacts due to family separations and life challenges associated with deployments as well as the demands associated with combat operations. 2day program. 4 calen dar days which includes 2 days for trave l 72 hrs in Germany 10 hrs of program and 62 hrs of liberty Group discussion s not lectures led by a Mission Set Manager from the samesimilar mission set along with a Resiliency Technician no PowerPoints. Strength based focus to bridge positive combat and home front skillsets. No retribution or formal record of discussions that can be associated with members direct comments. The attendance is not recorded in the members medical record. Members can receive additional referrals to helping agencies as indicateddesired. One onone time is available but not mandated with the DTC mental health p ersonnel chaplain resiliency technicians and mission set managers. Experiential outing to a German city   \n",
       "\n",
       "                                                                                                                                                                                                                                                                                                                                                                                                                                                                                                                                                                                                                                                                                                                                                                                                                                                                                                                                                                                                                                                                                                                                                                                                                                                                                                                                                                                                                                                                                                                                                                    Summary  \n",
       "0  The DTC is a critical component of the Air Force's comprehensive reintegration and decompression program for redeployers. The DTC provides world class reintegration and decompression to over 13848 redeployers. The mission of the DTC is to provide critical reintegration skills and decompression opportunities for redeployers. Accomplished through four focused priorities Enhance People Build Community Flex and Adapt to Mission Needs and Conserve Resources. DTC curriculum executes the AFs Tier 4 decompression as part of the broader Comprehensive Airman Fitness. Specifically targeting redeployers resiliency impacts due to family separations and life challenges associated with deployments as well as the demands associated with combat operations. 2day program. 4 calen dar days which includes 2 days for trave l 72 hrs in Germany 10 hrs of program and 62 hrs of liberty Group discussion s not lectures led by a Mission Set Manager from the samesimilar mission set along with a Resiliency Technician no PowerPoints. Strength based focus to bridge positive combat and home front skillsets. No retribution or formal record of discussions that can be associated with members direct comments. The attendance is not recorded in the members medical record. Members can receive additional referrals to helping agencies as indicateddesired. One onone time is available but not mandated with the DTC mental health p ersonnel chaplain resiliency technicians and mission set managers. Experiential outing to a German city  "
      ]
     },
     "execution_count": 35,
     "metadata": {},
     "output_type": "execute_result"
    }
   ],
   "source": [
    "#dolly_7b_df['Response'] = dolly_7b_df['Generated Text'].str.replace('\\n', ' ')\n",
    "dolly_7b_df['Summary'] = dolly_7b_df['Generated Text'].str.extract(r'(The DTC is.*)')\n",
    "dolly_7b_df"
   ]
  },
  {
   "cell_type": "code",
   "execution_count": 36,
   "metadata": {},
   "outputs": [
    {
     "data": {
      "text/plain": [
       "'c:\\\\Users\\\\samuel.cannon\\\\OneDrive - LinQuest Corporation\\\\Desktop\\\\decorations-generator\\\\decorations-generator'"
      ]
     },
     "execution_count": 36,
     "metadata": {},
     "output_type": "execute_result"
    }
   ],
   "source": [
    "pwd"
   ]
  },
  {
   "cell_type": "code",
   "execution_count": 40,
   "metadata": {},
   "outputs": [
    {
     "data": {
      "text/html": [
       "<div>\n",
       "<style scoped>\n",
       "    .dataframe tbody tr th:only-of-type {\n",
       "        vertical-align: middle;\n",
       "    }\n",
       "\n",
       "    .dataframe tbody tr th {\n",
       "        vertical-align: top;\n",
       "    }\n",
       "\n",
       "    .dataframe thead th {\n",
       "        text-align: right;\n",
       "    }\n",
       "</style>\n",
       "<table border=\"1\" class=\"dataframe\">\n",
       "  <thead>\n",
       "    <tr style=\"text-align: right;\">\n",
       "      <th></th>\n",
       "      <th>model</th>\n",
       "      <th>number_of_parameters</th>\n",
       "      <th>time_to_inference</th>\n",
       "      <th>prompt</th>\n",
       "      <th>summary_example</th>\n",
       "      <th>temperature_range_tested</th>\n",
       "    </tr>\n",
       "  </thead>\n",
       "  <tbody>\n",
       "    <tr>\n",
       "      <th>0</th>\n",
       "      <td>microsoft/Phi-3-mini-4k-instruct</td>\n",
       "      <td>4 billion</td>\n",
       "      <td>~60-70 minutes</td>\n",
       "      <td>\"summarize the following text:\"</td>\n",
       "      <td>\"The Air Force Deployment Transition Center (DTC), established on July 1, 2010, has provided over 13,848 redeployers with reintegration and decompression since its inception, attracting 800 Navy and USMC personnel as a third location decompression site. The DTC's mission is to deliver critical reintegration skills and decompression opportunities through four focused priorities: Enhance People, Build Community, Flex and Adapt to Mission Needs, and Conserve Resources. It executes the Air Force's Tier 4 decompression within Comprehensive Airman Fitness, targeting resilience for redeployers due to family separations and deployment life challenges, including combat-related demands. The 2-day program consists of 72 hours, noting a 2-day structure with a combination of program time and liberty time. Program activities involve group discussions led by a Mission Set Manager and Resiliency Technician, emphasizing a strength-based approach to assimilate combat and homefront skills, without recording individual discussions or formal attendance. A unique experiential outing in a German city is included for members to experience local culture. Uniformly, the DTC formerly used line remark designations in official orders and expanded in response to the expanding need for wider service beyond the Af-Europe (formerly AFCENT) theater. The DTC now supports a broader range of mission areas and geographical locations, including the AF Africa (AFRICA), allowing deploying commanders to nominate additional attendees as they assess individuals' exposure to incidents and their homefront transition concerns. The DTC's program and services aim to foster a supportive environment that facilitates a successful reintegration for service members and their families.\"</td>\n",
       "      <td>.1 - .5</td>\n",
       "    </tr>\n",
       "    <tr>\n",
       "      <th>1</th>\n",
       "      <td>databricks-dolly-3b</td>\n",
       "      <td>3 billion</td>\n",
       "      <td>~3-5 minutes</td>\n",
       "      <td>\"summarize the following text contained in the ticks:\"</td>\n",
       "      <td>\"The DTC has a unique approach to reintegration and decompression that is designed to meet the specific needs of redeployers.1The curriculum is delivered in a non-traditional format of small group discussions and experiential learning.2The DTC is not affiliated with any religious organization.3\\n\\nThe conference will include plenary sessions, breakout sessions, and a networking reception on the evening of the 20th.\"</td>\n",
       "      <td>.1 - .3</td>\n",
       "    </tr>\n",
       "    <tr>\n",
       "      <th>2</th>\n",
       "      <td>databricks-dolly-7b</td>\n",
       "      <td>7 billion</td>\n",
       "      <td>~20-30 minutes</td>\n",
       "      <td>\"summarize the following text:\"</td>\n",
       "      <td>\"The DTC is a critical component of the Air Force's comprehensive reintegration and decompression program for redeployers. The DTC provides world class reintegration and decompression to over 13848 redeployers. The mission of the DTC is to provide critical reintegration skills and decompression opportunities for redeployers. Accomplished through four focused priorities Enhance People Build Community Flex and Adapt to Mission Needs and Conserve Resources. DTC curriculum executes the AFs Tier 4 decompression as part of the broader Comprehensive Airman Fitness. Specifically targeting redeployers resiliency impacts due to family separations and life challenges associated with deployments as well as the demands associated with combat operations. 2day program. 4 calen dar days which includes 2 days for trave l 72 hrs in Germany 10 hrs of program and 62 hrs of liberty Group discussion s not lectures led by a Mission Set Manager from the samesimilar mission set along with a Resiliency Technician no PowerPoints. Strength based focus to bridge positive combat and home front skillsets. No retribution or formal record of discussions that can be associated with members direct comments. The attendance is not recorded in the members medical record. Members can receive additional referrals to helping agencies as indicateddesired. One onone time is available but not mandated with the DTC mental health p ersonnel chaplain resiliency technicians and mission set managers.\"</td>\n",
       "      <td>.1 - .5</td>\n",
       "    </tr>\n",
       "    <tr>\n",
       "      <th>3</th>\n",
       "      <td>mistral-grok</td>\n",
       "      <td>4 billion</td>\n",
       "      <td>~60-70 minutes</td>\n",
       "      <td>\"You're job involves summarizing long documents, write a succinct summary in less than 250 words\\nusing the following information\"</td>\n",
       "      <td>\"The Air Force Deployment Transition Center (DTC) has provided reintegration and decompression services to over 13,848 redeployers since July 1, 2010, including 800 Navy and USMC personnel. The DTC's mission is to provide critical reintegration skills and decompression opportunities for redeployers, with a focus on enhancing people, building community, flexing and adapting to mission needs, and conserving resources. The DTC's curriculum executes the AF's Tier 4 decompression as part of the broader Comprehensive Airman Fitness, targeting redeployers' resiliency impacts due to family separations, life challenges associated with deployments, and combat operations. The program is a 2-day event with 72 hours in Germany, including 10 hours of program and 62 hours of liberty. The program is led by a Mission Set Manager from the same mission set along with a Resiliency Technician, with no PowerPoints or formal record of discussions. The attendance is not recorded in the members' medical record\"</td>\n",
       "      <td>.1 - .5</td>\n",
       "    </tr>\n",
       "  </tbody>\n",
       "</table>\n",
       "</div>"
      ],
      "text/plain": [
       "                              model number_of_parameters time_to_inference  \\\n",
       "0  microsoft/Phi-3-mini-4k-instruct            4 billion    ~60-70 minutes   \n",
       "1               databricks-dolly-3b            3 billion      ~3-5 minutes   \n",
       "2               databricks-dolly-7b            7 billion    ~20-30 minutes   \n",
       "3                      mistral-grok            4 billion    ~60-70 minutes   \n",
       "\n",
       "                                                                                                                               prompt  \\\n",
       "0                                                                                                     \"summarize the following text:\"   \n",
       "1                                                                              \"summarize the following text contained in the ticks:\"   \n",
       "2                                                                                                     \"summarize the following text:\"   \n",
       "3  \"You're job involves summarizing long documents, write a succinct summary in less than 250 words\\nusing the following information\"   \n",
       "\n",
       "                                                                                                                                                                                                                                                                                                                                                                                                                                                                                                                                                                                                                                                                                                                                                                                                                                                                                                                                                                                                                                                                                                                                                                                                                                                                                                                                                                                                                                                                                                                                                                                                                                                                                                                                                                                                                      summary_example  \\\n",
       "0  \"The Air Force Deployment Transition Center (DTC), established on July 1, 2010, has provided over 13,848 redeployers with reintegration and decompression since its inception, attracting 800 Navy and USMC personnel as a third location decompression site. The DTC's mission is to deliver critical reintegration skills and decompression opportunities through four focused priorities: Enhance People, Build Community, Flex and Adapt to Mission Needs, and Conserve Resources. It executes the Air Force's Tier 4 decompression within Comprehensive Airman Fitness, targeting resilience for redeployers due to family separations and deployment life challenges, including combat-related demands. The 2-day program consists of 72 hours, noting a 2-day structure with a combination of program time and liberty time. Program activities involve group discussions led by a Mission Set Manager and Resiliency Technician, emphasizing a strength-based approach to assimilate combat and homefront skills, without recording individual discussions or formal attendance. A unique experiential outing in a German city is included for members to experience local culture. Uniformly, the DTC formerly used line remark designations in official orders and expanded in response to the expanding need for wider service beyond the Af-Europe (formerly AFCENT) theater. The DTC now supports a broader range of mission areas and geographical locations, including the AF Africa (AFRICA), allowing deploying commanders to nominate additional attendees as they assess individuals' exposure to incidents and their homefront transition concerns. The DTC's program and services aim to foster a supportive environment that facilitates a successful reintegration for service members and their families.\"   \n",
       "1                                                                                                                                                                                                                                                                                                                                                                                                                                                                                                                                                                                                                                                                                                                                                                                                                                                                                                                                                                                                                                                                                                                                                                                                                                                                                                                                                                                                 \"The DTC has a unique approach to reintegration and decompression that is designed to meet the specific needs of redeployers.1The curriculum is delivered in a non-traditional format of small group discussions and experiential learning.2The DTC is not affiliated with any religious organization.3\\n\\nThe conference will include plenary sessions, breakout sessions, and a networking reception on the evening of the 20th.\"   \n",
       "2                                                                                                                                                                                                                                                                                               \"The DTC is a critical component of the Air Force's comprehensive reintegration and decompression program for redeployers. The DTC provides world class reintegration and decompression to over 13848 redeployers. The mission of the DTC is to provide critical reintegration skills and decompression opportunities for redeployers. Accomplished through four focused priorities Enhance People Build Community Flex and Adapt to Mission Needs and Conserve Resources. DTC curriculum executes the AFs Tier 4 decompression as part of the broader Comprehensive Airman Fitness. Specifically targeting redeployers resiliency impacts due to family separations and life challenges associated with deployments as well as the demands associated with combat operations. 2day program. 4 calen dar days which includes 2 days for trave l 72 hrs in Germany 10 hrs of program and 62 hrs of liberty Group discussion s not lectures led by a Mission Set Manager from the samesimilar mission set along with a Resiliency Technician no PowerPoints. Strength based focus to bridge positive combat and home front skillsets. No retribution or formal record of discussions that can be associated with members direct comments. The attendance is not recorded in the members medical record. Members can receive additional referrals to helping agencies as indicateddesired. One onone time is available but not mandated with the DTC mental health p ersonnel chaplain resiliency technicians and mission set managers.\"   \n",
       "3                                                                                                                                                                                                                                                                                                                                                                                                                                                                                                                                                                                                                                                                                                                                                                                           \"The Air Force Deployment Transition Center (DTC) has provided reintegration and decompression services to over 13,848 redeployers since July 1, 2010, including 800 Navy and USMC personnel. The DTC's mission is to provide critical reintegration skills and decompression opportunities for redeployers, with a focus on enhancing people, building community, flexing and adapting to mission needs, and conserving resources. The DTC's curriculum executes the AF's Tier 4 decompression as part of the broader Comprehensive Airman Fitness, targeting redeployers' resiliency impacts due to family separations, life challenges associated with deployments, and combat operations. The program is a 2-day event with 72 hours in Germany, including 10 hours of program and 62 hours of liberty. The program is led by a Mission Set Manager from the same mission set along with a Resiliency Technician, with no PowerPoints or formal record of discussions. The attendance is not recorded in the members' medical record\"   \n",
       "\n",
       "  temperature_range_tested  \n",
       "0                  .1 - .5  \n",
       "1                  .1 - .3  \n",
       "2                  .1 - .5  \n",
       "3                  .1 - .5  "
      ]
     },
     "execution_count": 40,
     "metadata": {},
     "output_type": "execute_result"
    }
   ],
   "source": [
    "# Replace 'filename.xlsx' with the path to the Excel file you want to import\n",
    "summary_df = pd.read_excel(r'C:\\Users\\samuel.cannon\\OneDrive - LinQuest Corporation\\Desktop\\decorations-generator\\decorations-generator\\model_summary_table.xlsx')\n",
    "\n",
    "# Display the first few rows of the DataFrame\n",
    "summary_df.head()"
   ]
  }
 ],
 "metadata": {
  "kernelspec": {
   "display_name": "prompt_engineering",
   "language": "python",
   "name": "python3"
  },
  "language_info": {
   "codemirror_mode": {
    "name": "ipython",
    "version": 3
   },
   "file_extension": ".py",
   "mimetype": "text/x-python",
   "name": "python",
   "nbconvert_exporter": "python",
   "pygments_lexer": "ipython3",
   "version": "3.11.8"
  }
 },
 "nbformat": 4,
 "nbformat_minor": 2
}
