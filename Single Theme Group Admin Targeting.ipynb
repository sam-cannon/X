{
 "cells": [
  {
   "cell_type": "markdown",
   "metadata": {},
   "source": [
    "# Generating Synthetic Data With SMOTE and Propensity Modeling With Results\n",
    "- SMOTENC Documentation: https://imbalanced-learn.readthedocs.io/en/stable/generated/imblearn.over_sampling.SMOTENC.html\n",
    "- great post on ways to resample data too: https://towardsdatascience.com/5-smote-techniques-for-oversampling-your-imbalance-data-b8155bdbe2b5"
   ]
  },
  {
   "cell_type": "code",
   "execution_count": 1,
   "metadata": {},
   "outputs": [],
   "source": [
    "import pandas as pd\n",
    "import numpy as np\n",
    "from IPython.core.interactiveshell import InteractiveShell\n",
    "InteractiveShell.ast_node_interactivity = \"all\"\n",
    "import matplotlib.pyplot as plt\n",
    "%matplotlib inline\n",
    "import seaborn as sns"
   ]
  },
  {
   "cell_type": "code",
   "execution_count": 2,
   "metadata": {},
   "outputs": [
    {
     "data": {
      "text/html": [
       "<div>\n",
       "<style scoped>\n",
       "    .dataframe tbody tr th:only-of-type {\n",
       "        vertical-align: middle;\n",
       "    }\n",
       "\n",
       "    .dataframe tbody tr th {\n",
       "        vertical-align: top;\n",
       "    }\n",
       "\n",
       "    .dataframe thead th {\n",
       "        text-align: right;\n",
       "    }\n",
       "</style>\n",
       "<table border=\"1\" class=\"dataframe\">\n",
       "  <thead>\n",
       "    <tr style=\"text-align: right;\">\n",
       "      <th></th>\n",
       "      <th>userid</th>\n",
       "      <th>gender</th>\n",
       "      <th>age</th>\n",
       "      <th>days_since_confirmed</th>\n",
       "      <th>l28</th>\n",
       "      <th>country</th>\n",
       "      <th>city</th>\n",
       "      <th>num_groups_as_member</th>\n",
       "      <th>last_month_mcs</th>\n",
       "      <th>num_groups_as_moderator</th>\n",
       "      <th>num_groups_as_admin</th>\n",
       "      <th>invites_in_last_week</th>\n",
       "      <th>total_sec_spent_in_group_as_admin_in_past_week</th>\n",
       "    </tr>\n",
       "  </thead>\n",
       "  <tbody>\n",
       "    <tr>\n",
       "      <th>0</th>\n",
       "      <td>1489122752</td>\n",
       "      <td>male</td>\n",
       "      <td>43.0</td>\n",
       "      <td>4490.0</td>\n",
       "      <td>28.0</td>\n",
       "      <td>AU</td>\n",
       "      <td>perth</td>\n",
       "      <td>28.0</td>\n",
       "      <td>9.0</td>\n",
       "      <td>0.0</td>\n",
       "      <td>4.0</td>\n",
       "      <td>32.0</td>\n",
       "      <td>0.0</td>\n",
       "    </tr>\n",
       "    <tr>\n",
       "      <th>1</th>\n",
       "      <td>1058312069</td>\n",
       "      <td>female</td>\n",
       "      <td>44.0</td>\n",
       "      <td>4405.0</td>\n",
       "      <td>28.0</td>\n",
       "      <td>AU</td>\n",
       "      <td>perth</td>\n",
       "      <td>150.0</td>\n",
       "      <td>6.0</td>\n",
       "      <td>0.0</td>\n",
       "      <td>4.0</td>\n",
       "      <td>5.0</td>\n",
       "      <td>0.0</td>\n",
       "    </tr>\n",
       "    <tr>\n",
       "      <th>2</th>\n",
       "      <td>100007845158647</td>\n",
       "      <td>male</td>\n",
       "      <td>40.0</td>\n",
       "      <td>2497.0</td>\n",
       "      <td>28.0</td>\n",
       "      <td>US</td>\n",
       "      <td>bastrop</td>\n",
       "      <td>40.0</td>\n",
       "      <td>5.0</td>\n",
       "      <td>0.0</td>\n",
       "      <td>2.0</td>\n",
       "      <td>3.0</td>\n",
       "      <td>0.0</td>\n",
       "    </tr>\n",
       "    <tr>\n",
       "      <th>3</th>\n",
       "      <td>729252388</td>\n",
       "      <td>female</td>\n",
       "      <td>42.0</td>\n",
       "      <td>4785.0</td>\n",
       "      <td>28.0</td>\n",
       "      <td>AU</td>\n",
       "      <td>perth</td>\n",
       "      <td>41.0</td>\n",
       "      <td>7.0</td>\n",
       "      <td>0.0</td>\n",
       "      <td>6.0</td>\n",
       "      <td>12.0</td>\n",
       "      <td>0.0</td>\n",
       "    </tr>\n",
       "    <tr>\n",
       "      <th>4</th>\n",
       "      <td>1031132837</td>\n",
       "      <td>female</td>\n",
       "      <td>42.0</td>\n",
       "      <td>4734.0</td>\n",
       "      <td>28.0</td>\n",
       "      <td>AU</td>\n",
       "      <td>perth</td>\n",
       "      <td>128.0</td>\n",
       "      <td>10.0</td>\n",
       "      <td>0.0</td>\n",
       "      <td>11.0</td>\n",
       "      <td>2.0</td>\n",
       "      <td>0.0</td>\n",
       "    </tr>\n",
       "  </tbody>\n",
       "</table>\n",
       "</div>"
      ],
      "text/plain": [
       "            userid  gender   age  days_since_confirmed   l28 country     city  \\\n",
       "0       1489122752    male  43.0                4490.0  28.0      AU    perth   \n",
       "1       1058312069  female  44.0                4405.0  28.0      AU    perth   \n",
       "2  100007845158647    male  40.0                2497.0  28.0      US  bastrop   \n",
       "3        729252388  female  42.0                4785.0  28.0      AU    perth   \n",
       "4       1031132837  female  42.0                4734.0  28.0      AU    perth   \n",
       "\n",
       "   num_groups_as_member  last_month_mcs  num_groups_as_moderator  \\\n",
       "0                  28.0             9.0                      0.0   \n",
       "1                 150.0             6.0                      0.0   \n",
       "2                  40.0             5.0                      0.0   \n",
       "3                  41.0             7.0                      0.0   \n",
       "4                 128.0            10.0                      0.0   \n",
       "\n",
       "   num_groups_as_admin  invites_in_last_week  \\\n",
       "0                  4.0                  32.0   \n",
       "1                  4.0                   5.0   \n",
       "2                  2.0                   3.0   \n",
       "3                  6.0                  12.0   \n",
       "4                 11.0                   2.0   \n",
       "\n",
       "   total_sec_spent_in_group_as_admin_in_past_week  \n",
       "0                                             0.0  \n",
       "1                                             0.0  \n",
       "2                                             0.0  \n",
       "3                                             0.0  \n",
       "4                                             0.0  "
      ]
     },
     "execution_count": 2,
     "metadata": {},
     "output_type": "execute_result"
    },
    {
     "data": {
      "text/plain": [
       "(15403571, 13)"
      ]
     },
     "execution_count": 2,
     "metadata": {},
     "output_type": "execute_result"
    }
   ],
   "source": [
    "import os\n",
    "\n",
    "files = []\n",
    "\n",
    "for file in os.listdir('/Users/samcannon/Desktop'):\n",
    "    \n",
    "    if file.endswith('_non_stgs.csv'):\n",
    "        \n",
    "        files.append(pd.read_csv(file))\n",
    "\n",
    "non_df = pd.concat(files, axis = 0).drop_duplicates().fillna(0)\n",
    "\n",
    "non_df.head()\n",
    "\n",
    "non_df.shape"
   ]
  },
  {
   "cell_type": "code",
   "execution_count": 5,
   "metadata": {},
   "outputs": [],
   "source": [
    "non_df.to_csv('non_df.csv', index = False, compression = 'gzip')"
   ]
  },
  {
   "cell_type": "code",
   "execution_count": 3,
   "metadata": {},
   "outputs": [
    {
     "data": {
      "text/html": [
       "<div>\n",
       "<style scoped>\n",
       "    .dataframe tbody tr th:only-of-type {\n",
       "        vertical-align: middle;\n",
       "    }\n",
       "\n",
       "    .dataframe tbody tr th {\n",
       "        vertical-align: top;\n",
       "    }\n",
       "\n",
       "    .dataframe thead th {\n",
       "        text-align: right;\n",
       "    }\n",
       "</style>\n",
       "<table border=\"1\" class=\"dataframe\">\n",
       "  <thead>\n",
       "    <tr style=\"text-align: right;\">\n",
       "      <th></th>\n",
       "      <th>userid</th>\n",
       "      <th>gender</th>\n",
       "      <th>age</th>\n",
       "      <th>days_since_confirmed</th>\n",
       "      <th>l28</th>\n",
       "      <th>country</th>\n",
       "      <th>city</th>\n",
       "      <th>num_groups_as_member</th>\n",
       "      <th>last_month_mcs</th>\n",
       "      <th>num_groups_as_moderator</th>\n",
       "      <th>num_groups_as_admin</th>\n",
       "      <th>invites_in_last_week</th>\n",
       "      <th>total_sec_spent_in_group_as_admin_in_past_week</th>\n",
       "    </tr>\n",
       "  </thead>\n",
       "  <tbody>\n",
       "    <tr>\n",
       "      <th>0</th>\n",
       "      <td>100021832501314</td>\n",
       "      <td>male</td>\n",
       "      <td>21.0</td>\n",
       "      <td>1221</td>\n",
       "      <td>28</td>\n",
       "      <td>US</td>\n",
       "      <td>selma</td>\n",
       "      <td>48</td>\n",
       "      <td>9.0</td>\n",
       "      <td>0.0</td>\n",
       "      <td>6</td>\n",
       "      <td>60.0</td>\n",
       "      <td>0.000000</td>\n",
       "    </tr>\n",
       "    <tr>\n",
       "      <th>1</th>\n",
       "      <td>100003726609521</td>\n",
       "      <td>male</td>\n",
       "      <td>21.0</td>\n",
       "      <td>3182</td>\n",
       "      <td>28</td>\n",
       "      <td>US</td>\n",
       "      <td>bramwell</td>\n",
       "      <td>500</td>\n",
       "      <td>6.0</td>\n",
       "      <td>0.0</td>\n",
       "      <td>3</td>\n",
       "      <td>26.0</td>\n",
       "      <td>120.584000</td>\n",
       "    </tr>\n",
       "    <tr>\n",
       "      <th>3</th>\n",
       "      <td>100014189178737</td>\n",
       "      <td>male</td>\n",
       "      <td>19.0</td>\n",
       "      <td>1501</td>\n",
       "      <td>14</td>\n",
       "      <td>US</td>\n",
       "      <td>new york</td>\n",
       "      <td>7</td>\n",
       "      <td>0.0</td>\n",
       "      <td>0.0</td>\n",
       "      <td>1</td>\n",
       "      <td>0.0</td>\n",
       "      <td>52.332616</td>\n",
       "    </tr>\n",
       "    <tr>\n",
       "      <th>4</th>\n",
       "      <td>1417596767</td>\n",
       "      <td>male</td>\n",
       "      <td>63.0</td>\n",
       "      <td>4355</td>\n",
       "      <td>27</td>\n",
       "      <td>US</td>\n",
       "      <td>reston</td>\n",
       "      <td>10</td>\n",
       "      <td>5.0</td>\n",
       "      <td>0.0</td>\n",
       "      <td>4</td>\n",
       "      <td>0.0</td>\n",
       "      <td>856.422062</td>\n",
       "    </tr>\n",
       "    <tr>\n",
       "      <th>5</th>\n",
       "      <td>621780489</td>\n",
       "      <td>unknown</td>\n",
       "      <td>49.0</td>\n",
       "      <td>4953</td>\n",
       "      <td>4</td>\n",
       "      <td>GB</td>\n",
       "      <td>leeds</td>\n",
       "      <td>4</td>\n",
       "      <td>0.0</td>\n",
       "      <td>0.0</td>\n",
       "      <td>1</td>\n",
       "      <td>0.0</td>\n",
       "      <td>0.000000</td>\n",
       "    </tr>\n",
       "  </tbody>\n",
       "</table>\n",
       "</div>"
      ],
      "text/plain": [
       "            userid   gender   age  days_since_confirmed  l28 country  \\\n",
       "0  100021832501314     male  21.0                  1221   28      US   \n",
       "1  100003726609521     male  21.0                  3182   28      US   \n",
       "3  100014189178737     male  19.0                  1501   14      US   \n",
       "4       1417596767     male  63.0                  4355   27      US   \n",
       "5        621780489  unknown  49.0                  4953    4      GB   \n",
       "\n",
       "       city  num_groups_as_member  last_month_mcs  num_groups_as_moderator  \\\n",
       "0     selma                    48             9.0                      0.0   \n",
       "1  bramwell                   500             6.0                      0.0   \n",
       "3  new york                     7             0.0                      0.0   \n",
       "4    reston                    10             5.0                      0.0   \n",
       "5     leeds                     4             0.0                      0.0   \n",
       "\n",
       "   num_groups_as_admin  invites_in_last_week  \\\n",
       "0                    6                  60.0   \n",
       "1                    3                  26.0   \n",
       "3                    1                   0.0   \n",
       "4                    4                   0.0   \n",
       "5                    1                   0.0   \n",
       "\n",
       "   total_sec_spent_in_group_as_admin_in_past_week  \n",
       "0                                        0.000000  \n",
       "1                                      120.584000  \n",
       "3                                       52.332616  \n",
       "4                                      856.422062  \n",
       "5                                        0.000000  "
      ]
     },
     "execution_count": 3,
     "metadata": {},
     "output_type": "execute_result"
    },
    {
     "data": {
      "text/plain": [
       "(3964, 13)"
      ]
     },
     "execution_count": 3,
     "metadata": {},
     "output_type": "execute_result"
    }
   ],
   "source": [
    "#read in df and fillnas that were caused by outer joins\n",
    "df = pd.read_csv('stg_admins.csv').fillna(0)\n",
    "\n",
    "#cut this down to only the english speaking countries we are interested in \n",
    "stg_df = df[df['country'].astype(str).str.contains('US|GB|AU|NZ|CA')]\n",
    "stg_df.head()\n",
    "stg_df.shape"
   ]
  },
  {
   "cell_type": "code",
   "execution_count": 643,
   "metadata": {
    "jupyter": {
     "source_hidden": true
    }
   },
   "outputs": [],
   "source": [
    "# #depricated function, use the next cell\n",
    "\n",
    "# def create_synthetic_df(df, categorical_feature_indices, num_of_builds = 10):\n",
    "\n",
    "\n",
    "#     def create_smote_df(df):\n",
    "        \n",
    "#         from imblearn.over_sampling import SMOTENC\n",
    "    \n",
    "#         '''\n",
    "    \n",
    "#         This function randomly samples a df and creates a synthetic df over-sampled with SMOTE from imbalanced-learn\n",
    "    \n",
    "#         basically you just continue running this until the df is large enough\n",
    "        \n",
    "#         Arguments:\n",
    "        \n",
    "#         df = your pandas data frame\n",
    "        \n",
    "#         num_of_builds = the number of times you want the function to run, increase the number if you want more synthetic data\n",
    "        \n",
    "#         categorical_feature_indices = becuase SMOTENC deals with categorical features, it must know which columns to interpret as objects\n",
    "#                                         and which ones are continuous, simply include the numbers associated with your categorical column indices\n",
    "    \n",
    "#         '''\n",
    "    \n",
    "#         #randomly sample df and create a 55/45 class 'imbalance' - we are only doing this so that we can use SMOTE, use a lower fraction to generate more data\n",
    "#         first_half = df.sample(frac = .48)\n",
    "    \n",
    "#         #get the data that wasn't in the random sample\n",
    "#         second_half = df[~df['userid'].isin(first_half['userid'])]\n",
    "\n",
    "#         #create arbitrary labels to artificially imbalance the data\n",
    "#         first_half.insert(0, 'arbitrary_label', 0)\n",
    "    \n",
    "#         second_half.insert(0, 'arbitrary_label', 1)\n",
    "    \n",
    "#         df = pd.concat([first_half, second_half], axis = 0).dropna()\n",
    "        \n",
    "#         cat_cols = [c for c in df.select_dtypes(include = ['object']).columns]\n",
    "        \n",
    "    \n",
    "#         #label encode features, this allows us to reverse-encode them, which is easier for modeling and importing a dataset into hive as well, I didn't want a million dummy vars\n",
    "#         from sklearn.preprocessing import LabelEncoder\n",
    "    \n",
    "#         encoders = {}\n",
    "\n",
    "#         encoder_models = []\n",
    "\n",
    "#         i = 1\n",
    "\n",
    "#         for col in cat_cols:\n",
    "    \n",
    "#             encoders[f'label encoder: {i}'] = LabelEncoder().fit(df[col])\n",
    "    \n",
    "#             i+=1\n",
    "\n",
    "#         for key, val in encoders.items():\n",
    "    \n",
    "#             encoder_models.append(val)\n",
    "\n",
    "#         i = 0\n",
    "\n",
    "#         for col in cat_cols:\n",
    "    \n",
    "#             df[col] = encoder_models[i].transform(df[col])\n",
    "        \n",
    "#             i+=1\n",
    "            \n",
    "#         #using SMOTE to create the actual synthetic data here, we are telling it that we want the model to achieve a 1:1 balance\n",
    "    \n",
    "#         x, y = SMOTENC(categorical_features = categorical_feature_indices, sampling_strategy = 1).fit_resample(df.drop('arbitrary_label', axis=1), df['arbitrary_label'])\n",
    "    \n",
    "#         i = 0\n",
    "\n",
    "#         for col in cat_cols:\n",
    "    \n",
    "#             x[col] = encoder_models[i].inverse_transform(x[col])\n",
    "    \n",
    "#             i+=1\n",
    "    \n",
    "#         return x\n",
    "    \n",
    "#     new_df = create_smote_df(df)\n",
    "    \n",
    "#     i = 1\n",
    "    \n",
    "#     while i < num_of_builds:\n",
    "        \n",
    "#         new_df = create_smote_df(new_df)\n",
    "        \n",
    "#         i+=1\n",
    "    \n",
    "#     return new_df"
   ]
  },
  {
   "cell_type": "markdown",
   "metadata": {},
   "source": [
    "## SMOTE-NC\n",
    "- Both SMOTE and ADASYN use the same algorithm to generate new samples. Considering a sample x_i, a new sample x_{new} will be generated considering its k neareast-neighbors (corresponding to k_neighbors). \n",
    "- SMOTE-NC slightly change the way a new sample is generated by performing something specific for the categorical features. In fact, the categories of a new generated sample are decided by picking the most frequent category of the nearest neighbors present during the generation.\n",
    "- read the docs https://imbalanced-learn.readthedocs.io/en/stable/over_sampling.html"
   ]
  },
  {
   "cell_type": "code",
   "execution_count": 7,
   "metadata": {},
   "outputs": [],
   "source": [
    "def create_smote_df(df, categorical_feature_indices, imbalance_ratio = .48):\n",
    "        \n",
    "    from imblearn.over_sampling import SMOTENC\n",
    "\n",
    "    '''\n",
    "    \n",
    "    This function randomly samples a df and creates a synthetic df over-sampled with SMOTE from imbalanced-learn\n",
    "    \n",
    "    basically you just continue running this until the df is large enough\n",
    "        \n",
    "    Arguments:\n",
    "        \n",
    "    df = your pandas data frame\n",
    "        \n",
    "    categorical_feature_indices = becuase SMOTENC deals with categorical features, it must know which columns to interpret as objects\n",
    "                                        and which ones are continuous, simply include the numbers associated with your categorical column indices\n",
    "                                        \n",
    "    imbalance_ratio = this is the ratio that you want to imbalance your data with, i.e. if you provide .3 as the arg then you will have a dataset with a 70/30 class imbalance\n",
    "                        the lower the ratio, the more data will be produced \n",
    "    \n",
    "    '''\n",
    "    \n",
    "    #randomly sample df and create a 55/45 class 'imbalance' - we are only doing this so that we can use SMOTE, use a lower fraction to generate more data\n",
    "    first_half = df.sample(frac = imbalance_ratio)\n",
    "    \n",
    "    #get the data that wasn't in the random sample\n",
    "    second_half = df[~df['userid'].isin(first_half['userid'])]\n",
    "\n",
    "    #create arbitrary labels to artificially imbalance the data\n",
    "    first_half.insert(0, 'arbitrary_label', 0)\n",
    "    \n",
    "    second_half.insert(0, 'arbitrary_label', 1)\n",
    "    \n",
    "    df = pd.concat([first_half, second_half], axis = 0).dropna()\n",
    "        \n",
    "    cat_cols = [c for c in df.select_dtypes(include = ['object']).columns]\n",
    "        \n",
    "    \n",
    "    #label encode features, this allows us to reverse-encode them, which is easier for modeling and importing a dataset into hive as well, I didn't want a million dummy vars\n",
    "    from sklearn.preprocessing import LabelEncoder\n",
    "    \n",
    "    encoders = {}\n",
    "\n",
    "    encoder_models = []\n",
    "\n",
    "    i = 1\n",
    "\n",
    "    for col in cat_cols:\n",
    "    \n",
    "        encoders[f'label encoder: {i}'] = LabelEncoder().fit(df[col])\n",
    "    \n",
    "        i+=1\n",
    "\n",
    "    for key, val in encoders.items():\n",
    "    \n",
    "        encoder_models.append(val)\n",
    "\n",
    "    i = 0\n",
    "\n",
    "    for col in cat_cols:\n",
    "    \n",
    "        df[col] = encoder_models[i].transform(df[col])\n",
    "        \n",
    "        i+=1\n",
    "            \n",
    "    #using SMOTE to create the actual synthetic data here, we are telling it that we want the model to achieve a 1:1 balance\n",
    "    \n",
    "    x, y = SMOTENC(categorical_features = categorical_feature_indices, sampling_strategy = 1).fit_resample(df.drop('arbitrary_label', axis=1), df['arbitrary_label'])\n",
    "    \n",
    "    i = 0\n",
    "\n",
    "    for col in cat_cols:\n",
    "    \n",
    "        x[col] = encoder_models[i].inverse_transform(x[col])\n",
    "    \n",
    "        i+=1\n",
    "    \n",
    "    return x"
   ]
  },
  {
   "cell_type": "code",
   "execution_count": 9,
   "metadata": {},
   "outputs": [],
   "source": [
    "%%time\n",
    "\n",
    "new_data = []\n",
    "\n",
    "i = 1\n",
    "\n",
    "while i < 7000:\n",
    "    \n",
    "    #treating gender, age, country, and city as categorical features so that they are resampled\n",
    "    smote_df_2 = create_smote_df(stg_df, categorical_feature_indices = [1, 2, 5, 6])\n",
    "    \n",
    "    new_data.append(smote_df_2[~smote_df_2['userid'].isin(df['userid'])])\n",
    "    \n",
    "    i+=1\n",
    "    \n",
    "smote_df_2 = pd.concat([df, pd.concat(new_data, axis = 0)], axis = 0)\n",
    "smote_df_2.shape"
   ]
  },
  {
   "cell_type": "code",
   "execution_count": 724,
   "metadata": {},
   "outputs": [
    {
     "name": "stdout",
     "output_type": "stream",
     "text": [
      "CPU times: user 43min 23s, sys: 1min 35s, total: 44min 58s\n",
      "Wall time: 44min 56s\n"
     ]
    }
   ],
   "source": [
    "# %%time\n",
    "\n",
    "# new_data = []\n",
    "\n",
    "# i = 1\n",
    "\n",
    "# while i < 12000:\n",
    "    \n",
    "#     smote_df = create_synthetic_df(df, categorical_feature_indices = [1, 5, 6], num_of_builds = 1)\n",
    "    \n",
    "#     new_data.append(smote_df[~smote_df['userid'].isin(df['userid'])])\n",
    "    \n",
    "#     i+=1\n",
    "    \n",
    "# smote_df = pd.concat([df, pd.concat(new_data, axis = 0)], axis = 0)"
   ]
  },
  {
   "cell_type": "code",
   "execution_count": 746,
   "metadata": {},
   "outputs": [
    {
     "data": {
      "text/plain": [
       "(1896198, 10)"
      ]
     },
     "execution_count": 746,
     "metadata": {},
     "output_type": "execute_result"
    }
   ],
   "source": [
    "smote_df.shape"
   ]
  },
  {
   "cell_type": "markdown",
   "metadata": {},
   "source": [
    "## Comparing The Synthetic SMOTE-NC Data With Our Original Dataset"
   ]
  },
  {
   "cell_type": "code",
   "execution_count": 74,
   "metadata": {},
   "outputs": [
    {
     "data": {
      "image/png": "[encoded data removed]",
      "text/plain": [
       "<Figure size 864x504 with 1 Axes>"
      ]
     },
     "metadata": {
      "needs_background": "light"
     },
     "output_type": "display_data"
    }
   ],
   "source": [
    "df.city.value_counts().nlargest(10).plot(kind = 'barh', figsize = (12, 7))\n",
    "plt.title('Original Data City Counts', fontsize = 22);"
   ]
  },
  {
   "cell_type": "code",
   "execution_count": 75,
   "metadata": {},
   "outputs": [
    {
     "data": {
      "image/png": "[encoded data removed]",
      "text/plain": [
       "<Figure size 864x504 with 1 Axes>"
      ]
     },
     "metadata": {
      "needs_background": "light"
     },
     "output_type": "display_data"
    }
   ],
   "source": [
    "smote_df_2.city.value_counts().nlargest(10).plot(kind = 'barh', figsize = (12, 7))\n",
    "plt.title('SMOTE-NC Data City Counts', fontsize = 22);"
   ]
  },
  {
   "cell_type": "code",
   "execution_count": 76,
   "metadata": {},
   "outputs": [
    {
     "data": {
      "image/png": "[encoded data removed]",
      "text/plain": [
       "<Figure size 864x504 with 1 Axes>"
      ]
     },
     "metadata": {
      "needs_background": "light"
     },
     "output_type": "display_data"
    }
   ],
   "source": [
    "smote_df_2.country.value_counts().nlargest(10).plot(kind = 'barh', figsize = (12, 7))\n",
    "plt.title('Original Data Country Counts', fontsize = 22);"
   ]
  },
  {
   "cell_type": "code",
   "execution_count": 77,
   "metadata": {},
   "outputs": [
    {
     "data": {
      "image/png": "[encoded data removed]",
      "text/plain": [
       "<Figure size 864x504 with 1 Axes>"
      ]
     },
     "metadata": {
      "needs_background": "light"
     },
     "output_type": "display_data"
    }
   ],
   "source": [
    "df.country.value_counts().nlargest(10).plot(kind = 'barh', figsize = (12, 7))\n",
    "plt.title('SMOTE-NC Data Country Counts', fontsize = 22);"
   ]
  },
  {
   "cell_type": "code",
   "execution_count": 78,
   "metadata": {},
   "outputs": [
    {
     "data": {
      "image/png": "[encoded data removed]",
      "text/plain": [
       "<Figure size 864x504 with 1 Axes>"
      ]
     },
     "metadata": {
      "needs_background": "light"
     },
     "output_type": "display_data"
    }
   ],
   "source": [
    "smote_df_2.gender.value_counts().plot(kind = 'barh', figsize = (12, 7))\n",
    "plt.title('Original Data Gender Counts', fontsize = 22);"
   ]
  },
  {
   "cell_type": "code",
   "execution_count": 79,
   "metadata": {},
   "outputs": [
    {
     "data": {
      "image/png": "[encoded data removed]",
      "text/plain": [
       "<Figure size 864x504 with 1 Axes>"
      ]
     },
     "metadata": {
      "needs_background": "light"
     },
     "output_type": "display_data"
    }
   ],
   "source": [
    "df.gender.value_counts().nlargest().plot(kind = 'barh', figsize = (12, 7))\n",
    "plt.title('SMOTE-NC Data Gender Counts', fontsize = 22);"
   ]
  },
  {
   "cell_type": "code",
   "execution_count": 80,
   "metadata": {},
   "outputs": [
    {
     "data": {
      "image/png": "[encoded data removed]",
      "text/plain": [
       "<Figure size 864x504 with 1 Axes>"
      ]
     },
     "metadata": {
      "needs_background": "light"
     },
     "output_type": "display_data"
    },
    {
     "data": {
      "image/png": "[encoded data removed]",
      "text/plain": [
       "<Figure size 864x504 with 1 Axes>"
      ]
     },
     "metadata": {
      "needs_background": "light"
     },
     "output_type": "display_data"
    }
   ],
   "source": [
    "plt.figure(figsize = (12, 7))\n",
    "sns.distplot(df.age)\n",
    "plt.title('Original Data Age Distribution', fontsize = 22)\n",
    "plt.xlim(0,90)\n",
    "\n",
    "plt.figure(figsize = (12, 7))\n",
    "sns.distplot(smote_df_2.age)\n",
    "plt.title('SMOTE-NC Data Age Distribution', fontsize = 22)\n",
    "plt.xlim(0, 90);"
   ]
  },
  {
   "cell_type": "code",
   "execution_count": 81,
   "metadata": {},
   "outputs": [
    {
     "data": {
      "text/plain": [
       "40.02103907256333"
      ]
     },
     "execution_count": 81,
     "metadata": {},
     "output_type": "execute_result"
    }
   ],
   "source": [
    "df.age.mean()"
   ]
  },
  {
   "cell_type": "code",
   "execution_count": 84,
   "metadata": {},
   "outputs": [
    {
     "data": {
      "text/plain": [
       "39.694205424589825"
      ]
     },
     "execution_count": 84,
     "metadata": {},
     "output_type": "execute_result"
    }
   ],
   "source": [
    "smote_df_2.age.mean()"
   ]
  },
  {
   "cell_type": "code",
   "execution_count": 85,
   "metadata": {},
   "outputs": [
    {
     "data": {
      "text/plain": [
       "25.09982825246887"
      ]
     },
     "execution_count": 85,
     "metadata": {},
     "output_type": "execute_result"
    }
   ],
   "source": [
    "df.l28.mean()"
   ]
  },
  {
   "cell_type": "code",
   "execution_count": 87,
   "metadata": {},
   "outputs": [
    {
     "data": {
      "text/plain": [
       "25.22925205865973"
      ]
     },
     "execution_count": 87,
     "metadata": {},
     "output_type": "execute_result"
    }
   ],
   "source": [
    "smote_df_2.l28.mean()"
   ]
  },
  {
   "cell_type": "code",
   "execution_count": 89,
   "metadata": {},
   "outputs": [
    {
     "data": {
      "text/plain": [
       "36.0"
      ]
     },
     "execution_count": 89,
     "metadata": {},
     "output_type": "execute_result"
    }
   ],
   "source": [
    "import statistics as stats\n",
    "stats.median(smote_df_2.age)"
   ]
  },
  {
   "cell_type": "code",
   "execution_count": 90,
   "metadata": {},
   "outputs": [
    {
     "data": {
      "text/plain": [
       "37.0"
      ]
     },
     "execution_count": 90,
     "metadata": {},
     "output_type": "execute_result"
    }
   ],
   "source": [
    "stats.median(df.age)"
   ]
  },
  {
   "cell_type": "code",
   "execution_count": 91,
   "metadata": {},
   "outputs": [
    {
     "name": "stderr",
     "output_type": "stream",
     "text": [
      "/opt/anaconda3/lib/python3.8/site-packages/seaborn/distributions.py:369: UserWarning: Default bandwidth for data is 0; skipping density estimation.\n",
      "  warnings.warn(msg, UserWarning)\n"
     ]
    },
    {
     "data": {
      "image/png": "[encoded data removed]",
      "text/plain": [
       "<Figure size 864x504 with 1 Axes>"
      ]
     },
     "metadata": {
      "needs_background": "light"
     },
     "output_type": "display_data"
    },
    {
     "data": {
      "image/png": "[encoded data removed]",
      "text/plain": [
       "<Figure size 864x504 with 1 Axes>"
      ]
     },
     "metadata": {
      "needs_background": "light"
     },
     "output_type": "display_data"
    }
   ],
   "source": [
    "plt.figure(figsize = (12, 7))\n",
    "sns.distplot(df.l28)\n",
    "plt.title('Original Data L28 Distribution', fontsize = 22)\n",
    "\n",
    "plt.figure(figsize = (12, 7))\n",
    "sns.distplot(smote_df_2.l28)\n",
    "plt.title('SMOTE-NC Data L28 Distribution', fontsize = 22);"
   ]
  },
  {
   "cell_type": "code",
   "execution_count": 92,
   "metadata": {},
   "outputs": [
    {
     "data": {
      "image/png": "[encoded data removed]",
      "text/plain": [
       "<Figure size 864x504 with 1 Axes>"
      ]
     },
     "metadata": {
      "needs_background": "light"
     },
     "output_type": "display_data"
    },
    {
     "data": {
      "image/png": "[encoded data removed]",
      "text/plain": [
       "<Figure size 864x504 with 1 Axes>"
      ]
     },
     "metadata": {
      "needs_background": "light"
     },
     "output_type": "display_data"
    }
   ],
   "source": [
    "plt.figure(figsize = (12, 7))\n",
    "sns.distplot(df.days_since_confirmed)\n",
    "plt.title('Original Data Days Since Confirmed Distribution', fontsize = 22)\n",
    "\n",
    "plt.figure(figsize = (12, 7))\n",
    "sns.distplot(smote_df_2.days_since_confirmed)\n",
    "plt.title('SMOTE-NC Data Days Since Confirmed Distribution', fontsize = 22);"
   ]
  },
  {
   "cell_type": "markdown",
   "metadata": {},
   "source": [
    "# Propensity Score Matching"
   ]
  },
  {
   "cell_type": "code",
   "execution_count": 93,
   "metadata": {},
   "outputs": [
    {
     "data": {
      "text/plain": [
       "(4658, 13)"
      ]
     },
     "execution_count": 93,
     "metadata": {},
     "output_type": "execute_result"
    }
   ],
   "source": [
    "df.shape"
   ]
  },
  {
   "cell_type": "code",
   "execution_count": 95,
   "metadata": {},
   "outputs": [
    {
     "data": {
      "text/plain": [
       "(1107881, 10)"
      ]
     },
     "execution_count": 95,
     "metadata": {},
     "output_type": "execute_result"
    }
   ],
   "source": [
    "smote_df_2.shape"
   ]
  },
  {
   "cell_type": "code",
   "execution_count": 96,
   "metadata": {},
   "outputs": [
    {
     "data": {
      "text/plain": [
       "(15403571, 13)"
      ]
     },
     "execution_count": 96,
     "metadata": {},
     "output_type": "execute_result"
    }
   ],
   "source": [
    "non_df.shape"
   ]
  },
  {
   "cell_type": "code",
   "execution_count": 106,
   "metadata": {},
   "outputs": [],
   "source": [
    "matching_df = non_df.iloc[:1000000, :]"
   ]
  },
  {
   "cell_type": "code",
   "execution_count": 107,
   "metadata": {},
   "outputs": [],
   "source": [
    "smote_matching_df = smote_df_2.copy()"
   ]
  },
  {
   "cell_type": "code",
   "execution_count": 108,
   "metadata": {},
   "outputs": [
    {
     "data": {
      "text/html": [
       "<div>\n",
       "<style scoped>\n",
       "    .dataframe tbody tr th:only-of-type {\n",
       "        vertical-align: middle;\n",
       "    }\n",
       "\n",
       "    .dataframe tbody tr th {\n",
       "        vertical-align: top;\n",
       "    }\n",
       "\n",
       "    .dataframe thead th {\n",
       "        text-align: right;\n",
       "    }\n",
       "</style>\n",
       "<table border=\"1\" class=\"dataframe\">\n",
       "  <thead>\n",
       "    <tr style=\"text-align: right;\">\n",
       "      <th></th>\n",
       "      <th>userid</th>\n",
       "      <th>gender</th>\n",
       "      <th>age</th>\n",
       "      <th>days_since_confirmed</th>\n",
       "      <th>l28</th>\n",
       "      <th>country</th>\n",
       "      <th>city</th>\n",
       "      <th>num_groups_as_member</th>\n",
       "      <th>last_month_mcs</th>\n",
       "      <th>num_groups_as_moderator</th>\n",
       "      <th>num_groups_as_admin</th>\n",
       "      <th>invites_in_last_week</th>\n",
       "      <th>total_sec_spent_in_group_as_admin_in_past_week</th>\n",
       "    </tr>\n",
       "  </thead>\n",
       "  <tbody>\n",
       "    <tr>\n",
       "      <th>0</th>\n",
       "      <td>100021832501314</td>\n",
       "      <td>male</td>\n",
       "      <td>21.0</td>\n",
       "      <td>1221</td>\n",
       "      <td>28</td>\n",
       "      <td>US</td>\n",
       "      <td>selma</td>\n",
       "      <td>48</td>\n",
       "      <td>9.0</td>\n",
       "      <td>0.0</td>\n",
       "      <td>6</td>\n",
       "      <td>60.0</td>\n",
       "      <td>0.000000</td>\n",
       "    </tr>\n",
       "    <tr>\n",
       "      <th>1</th>\n",
       "      <td>100003726609521</td>\n",
       "      <td>male</td>\n",
       "      <td>21.0</td>\n",
       "      <td>3182</td>\n",
       "      <td>28</td>\n",
       "      <td>US</td>\n",
       "      <td>bramwell</td>\n",
       "      <td>500</td>\n",
       "      <td>6.0</td>\n",
       "      <td>0.0</td>\n",
       "      <td>3</td>\n",
       "      <td>26.0</td>\n",
       "      <td>120.584000</td>\n",
       "    </tr>\n",
       "    <tr>\n",
       "      <th>2</th>\n",
       "      <td>1538569763</td>\n",
       "      <td>female</td>\n",
       "      <td>28.0</td>\n",
       "      <td>4387</td>\n",
       "      <td>28</td>\n",
       "      <td>NL</td>\n",
       "      <td>maastricht</td>\n",
       "      <td>229</td>\n",
       "      <td>29.0</td>\n",
       "      <td>0.0</td>\n",
       "      <td>7</td>\n",
       "      <td>0.0</td>\n",
       "      <td>0.000000</td>\n",
       "    </tr>\n",
       "    <tr>\n",
       "      <th>3</th>\n",
       "      <td>100014189178737</td>\n",
       "      <td>male</td>\n",
       "      <td>19.0</td>\n",
       "      <td>1501</td>\n",
       "      <td>14</td>\n",
       "      <td>US</td>\n",
       "      <td>new york</td>\n",
       "      <td>7</td>\n",
       "      <td>0.0</td>\n",
       "      <td>0.0</td>\n",
       "      <td>1</td>\n",
       "      <td>0.0</td>\n",
       "      <td>52.332616</td>\n",
       "    </tr>\n",
       "    <tr>\n",
       "      <th>4</th>\n",
       "      <td>1417596767</td>\n",
       "      <td>male</td>\n",
       "      <td>63.0</td>\n",
       "      <td>4355</td>\n",
       "      <td>27</td>\n",
       "      <td>US</td>\n",
       "      <td>reston</td>\n",
       "      <td>10</td>\n",
       "      <td>5.0</td>\n",
       "      <td>0.0</td>\n",
       "      <td>4</td>\n",
       "      <td>0.0</td>\n",
       "      <td>856.422062</td>\n",
       "    </tr>\n",
       "  </tbody>\n",
       "</table>\n",
       "</div>"
      ],
      "text/plain": [
       "            userid  gender   age  days_since_confirmed  l28 country  \\\n",
       "0  100021832501314    male  21.0                  1221   28      US   \n",
       "1  100003726609521    male  21.0                  3182   28      US   \n",
       "2       1538569763  female  28.0                  4387   28      NL   \n",
       "3  100014189178737    male  19.0                  1501   14      US   \n",
       "4       1417596767    male  63.0                  4355   27      US   \n",
       "\n",
       "         city  num_groups_as_member  last_month_mcs  num_groups_as_moderator  \\\n",
       "0       selma                    48             9.0                      0.0   \n",
       "1    bramwell                   500             6.0                      0.0   \n",
       "2  maastricht                   229            29.0                      0.0   \n",
       "3    new york                     7             0.0                      0.0   \n",
       "4      reston                    10             5.0                      0.0   \n",
       "\n",
       "   num_groups_as_admin  invites_in_last_week  \\\n",
       "0                    6                  60.0   \n",
       "1                    3                  26.0   \n",
       "2                    7                   0.0   \n",
       "3                    1                   0.0   \n",
       "4                    4                   0.0   \n",
       "\n",
       "   total_sec_spent_in_group_as_admin_in_past_week  \n",
       "0                                        0.000000  \n",
       "1                                      120.584000  \n",
       "2                                        0.000000  \n",
       "3                                       52.332616  \n",
       "4                                      856.422062  "
      ]
     },
     "execution_count": 108,
     "metadata": {},
     "output_type": "execute_result"
    }
   ],
   "source": [
    "smote_matching_df.head()"
   ]
  },
  {
   "cell_type": "code",
   "execution_count": 98,
   "metadata": {
    "jupyter": {
     "source_hidden": true
    }
   },
   "outputs": [],
   "source": [
    "#MUST EDIT THE LAST FUNCTION IN THIS \n",
    "from __future__ import print_function\n",
    "from pymatch import *\n",
    "import pymatch.functions as uf\n",
    "\n",
    "class Matcher:\n",
    "    \"\"\"\n",
    "    Matcher Class -- Match data for an observational study.\n",
    "\n",
    "    Parameters\n",
    "    ----------\n",
    "    test : pd.DataFrame\n",
    "        Data representing the test group\n",
    "    control : (pd.DataFrame)\n",
    "        Data representing the control group\n",
    "    formula : str (optional)\n",
    "        custom formula to use for logistic regression\n",
    "        i.e. \"Y ~ x1 + x2 + ...\"\n",
    "    yvar : str (optional)\n",
    "        Name of dependent variable (the treatment)\n",
    "    exclude : list  (optional)\n",
    "        List of variables to ignore in regression/matching.\n",
    "        Useful for unique idenifiers\n",
    "    \"\"\"\n",
    "\n",
    "    def __init__(self, test, control, yvar, formula=None, exclude=[]):\n",
    "        # configure plots for ipynb\n",
    "        plt.rcParams[\"figure.figsize\"] = (10, 5)\n",
    "        # variables generated during matching\n",
    "        aux_match = ['scores', 'match_id', 'weight', 'record_id']\n",
    "        # assign unique indices to test and control\n",
    "        t, c = [i.copy().reset_index(drop=True) for i in (test, control)]\n",
    "        t = t.dropna(axis=1, how=\"all\")\n",
    "        c = c.dropna(axis=1, how=\"all\")\n",
    "        c.index += len(t)\n",
    "        self.data = t.dropna(axis=1, how='all').append(c.dropna(axis=1, how='all')).dropna()\n",
    "        self.control_color = \"#1F77B4\"\n",
    "        self.test_color = \"#FF7F0E\"\n",
    "        self.yvar = yvar\n",
    "        self.exclude = exclude + [self.yvar] + aux_match\n",
    "        self.formula = formula\n",
    "        self.nmodels = 1  # for now\n",
    "        self.models = []\n",
    "        self.swdata = None\n",
    "        self.model_accuracy = []\n",
    "        self.data[yvar] = self.data[yvar].astype(int)  # should be binary 0, 1\n",
    "        self.xvars = [i for i in self.data.columns if i not in self.exclude and i != yvar]\n",
    "        self.matched_data = []\n",
    "        self.y, self.X = patsy.dmatrices('{} ~ {}'.format(yvar, '+'.join(self.xvars)), data=self.data,\n",
    "                                         return_type='dataframe')\n",
    "        self.xvars = [i for i in self.data.columns if i not in self.exclude]\n",
    "        self.test= self.data[self.data[yvar] == True]\n",
    "        self.control = self.data[self.data[yvar] == False]\n",
    "        self.testn = len(self.test)\n",
    "        self.controln = len(self.control)\n",
    "        self.minority, self.majority = \\\n",
    "          [i[1] for i in sorted(zip([self.testn, self.controln], [1, 0]),\n",
    "                                key=lambda x: x[0])]\n",
    "        print('Formula:\\n{} ~ {}'.format(yvar, '+'.join(self.xvars)))\n",
    "        print('n majority:', len(self.data[self.data[yvar] == self.majority]))\n",
    "        print('n minority:', len(self.data[self.data[yvar] == self.minority]))\n",
    "\n",
    "    def fit_scores(self, balance=True, nmodels=None):\n",
    "        \"\"\"\n",
    "        Fits logistic regression model(s) used for\n",
    "        generating propensity scores\n",
    "\n",
    "        Parameters\n",
    "        ----------\n",
    "        balance : bool\n",
    "            Should balanced datasets be used?\n",
    "            (n_control == n_test)\n",
    "        nmodels : int\n",
    "            How many models should be fit?\n",
    "            Score becomes the average of the <nmodels> models if nmodels > 1\n",
    "\n",
    "        Returns\n",
    "        -------\n",
    "        None\n",
    "        \"\"\"\n",
    "        # reset models if refitting\n",
    "        if len(self.models) > 0:\n",
    "            self.models = []\n",
    "        if len(self.model_accuracy) > 0:\n",
    "            self.model_accuracy = []\n",
    "        if not self.formula:\n",
    "            # use all columns in the model\n",
    "            self.formula = '{} ~ {}'.format(self.yvar, '+'.join(self.xvars))\n",
    "        if balance:\n",
    "            if nmodels is None:\n",
    "                # fit multiple models based on imbalance severity (rounded up to nearest tenth)\n",
    "                minor, major = [self.data[self.data[self.yvar] == i] for i in (self.minority, self.majority)]\n",
    "                nmodels = int(np.ceil((len(major) / len(minor)) / 10) * 10)\n",
    "            self.nmodels = nmodels\n",
    "            i = 0\n",
    "            errors = 0\n",
    "            while i < nmodels and errors < 5:\n",
    "                uf.progress(i+1, nmodels,\n",
    "                            prestr=\"Fitting Models on Balanced Samples\")\n",
    "\n",
    "                # sample from majority to create balance dataset\n",
    "                df = self.balanced_sample()\n",
    "                df = pd.concat([uf.drop_static_cols(df[df[self.yvar] == 1], yvar=self.yvar),\n",
    "                                uf.drop_static_cols(df[df[self.yvar] == 0], yvar=self.yvar)])\n",
    "                y_samp, X_samp = patsy.dmatrices(self.formula, data=df, return_type='dataframe')\n",
    "                X_samp.drop(self.yvar, axis=1, errors='ignore', inplace=True)\n",
    "\n",
    "                glm = GLM(y_samp, X_samp, family=sm.families.Binomial())\n",
    "                try:\n",
    "                    res = glm.fit()\n",
    "                    self.model_accuracy.append(self._scores_to_accuracy(res, X_samp, y_samp))\n",
    "                    self.models.append(res)\n",
    "                    i += 1\n",
    "                except Exception as e:\n",
    "                    errors += 1 # to avoid infinite loop for misspecified matrix\n",
    "                    print('Error: {}'.format(e))\n",
    "\n",
    "            print(\"\\nAverage Accuracy:\", \"{}%\".\n",
    "                  format(round(np.mean(self.model_accuracy) * 100, 2)))\n",
    "        else:\n",
    "            # ignore any imbalance and fit one model\n",
    "            print('Fitting 1 (Unbalanced) Model...')\n",
    "            glm = GLM(self.y, self.X, family=sm.families.Binomial())\n",
    "            res = glm.fit()\n",
    "            self.model_accuracy.append(self._scores_to_accuracy(res, self.X, self.y))\n",
    "            self.models.append(res)\n",
    "            print(\"\\nAccuracy\", round(np.mean(self.model_accuracy[0]) * 100, 2))\n",
    "\n",
    "\n",
    "    def predict_scores(self):\n",
    "        \"\"\"\n",
    "        Predict Propensity scores for each observation.\n",
    "        Adds a \"scores\" columns to self.data\n",
    "\n",
    "        Returns\n",
    "        -------\n",
    "        None\n",
    "        \"\"\"\n",
    "        scores = np.zeros(len(self.X))\n",
    "        for i in range(self.nmodels):\n",
    "            m = self.models[i]\n",
    "            scores += m.predict(self.X[m.params.index])\n",
    "        self.data['scores'] = scores/self.nmodels\n",
    "\n",
    "    def match(self, threshold=0.001, nmatches=1, method='min', max_rand=10):\n",
    "        \"\"\"\n",
    "        Finds suitable match(es) for each record in the minority\n",
    "        dataset, if one exists. Records are exlcuded from the final\n",
    "        matched dataset if there are no suitable matches.\n",
    "\n",
    "        self.matched_data contains the matched dataset once this\n",
    "        method is called\n",
    "\n",
    "        Parameters\n",
    "        ----------\n",
    "        threshold : float\n",
    "            threshold for fuzzy matching matching\n",
    "            i.e. |score_x - score_y| >= theshold\n",
    "        nmatches : int\n",
    "            How majority profiles should be matched\n",
    "            (at most) to minority profiles\n",
    "        method : str\n",
    "            Strategy for when multiple majority profiles\n",
    "            are suitable matches for a single minority profile\n",
    "            \"random\" - choose randomly (fast, good for testing)\n",
    "            \"min\" - choose the profile with the closest score\n",
    "        max_rand : int\n",
    "            max number of profiles to consider when using random tie-breaks\n",
    "\n",
    "        Returns\n",
    "        -------\n",
    "        None\n",
    "        \"\"\"\n",
    "        if 'scores' not in self.data.columns:\n",
    "            print(\"Propensity Scores have not been calculated. Using defaults...\")\n",
    "            self.fit_scores()\n",
    "            self.predict_scores()\n",
    "        test_scores = self.data[self.data[self.yvar]==True][['scores']]\n",
    "        ctrl_scores = self.data[self.data[self.yvar]==False][['scores']]\n",
    "        result, match_ids = [], []\n",
    "        for i in range(len(test_scores)):\n",
    "            # uf.progress(i+1, len(test_scores), 'Matching Control to Test...')\n",
    "            match_id = i\n",
    "            score = test_scores.iloc[i]\n",
    "            if method == 'random':\n",
    "                bool_match = abs(ctrl_scores - score) <= threshold\n",
    "                matches = ctrl_scores.loc[bool_match[bool_match.scores].index]\n",
    "            elif method == 'min':\n",
    "                matches = abs(ctrl_scores - score).sort_values('scores').head(nmatches)\n",
    "            else:\n",
    "                raise(AssertionError, \"Invalid method parameter, use ('random', 'min')\")\n",
    "            if len(matches) == 0:\n",
    "                continue\n",
    "            # randomly choose nmatches indices, if len(matches) > nmatches\n",
    "            select = nmatches if method != 'random' else np.random.choice(range(1, max_rand+1), 1)\n",
    "            chosen = np.random.choice(matches.index, min(select, nmatches), replace=False)\n",
    "            result.extend([test_scores.index[i]] + list(chosen))\n",
    "            match_ids.extend([i] * (len(chosen)+1))\n",
    "        self.matched_data = self.data.loc[result]\n",
    "        self.matched_data['match_id'] = match_ids\n",
    "        self.matched_data['record_id'] = self.matched_data.index\n",
    "\n",
    "    def select_from_design(self, cols):\n",
    "        d = pd.DataFrame()\n",
    "        for c in cols:\n",
    "            d = pd.concat([d, self.X.select(lambda x: x.startswith(c), axis=1)], axis=1)\n",
    "        return d\n",
    "\n",
    "    def balanced_sample(self, data=None):\n",
    "        if not data:\n",
    "            data=self.data\n",
    "        minor, major = data[data[self.yvar] == self.minority], data[data[self.yvar] == self.majority]\n",
    "        return major.sample(len(minor)).append(minor).dropna()\n",
    "\n",
    "    def plot_scores(self):\n",
    "        \"\"\"\n",
    "        Plots the distribution of propensity scores before matching between\n",
    "        our test and control groups\n",
    "        \"\"\"\n",
    "        assert 'scores' in self.data.columns, \"Propensity scores haven't been calculated, use Matcher.predict_scores()\"\n",
    "        sns.distplot(self.data[self.data[self.yvar]==0].scores, label='Control')\n",
    "        sns.distplot(self.data[self.data[self.yvar]==1].scores, label='Test')\n",
    "        plt.legend(loc='upper right')\n",
    "        plt.xlim((0, 1))\n",
    "        plt.title(\"Propensity Scores Before Matching\")\n",
    "        plt.ylabel(\"Percentage (%)\")\n",
    "        plt.xlabel(\"Scores\")\n",
    "\n",
    "    def prop_test(self, col):\n",
    "        \"\"\"\n",
    "        Performs a Chi-Square test of independence on <col>\n",
    "        See stats.chi2_contingency()\n",
    "\n",
    "        Parameters\n",
    "        ----------\n",
    "        col : str\n",
    "            Name of column on which the test should be performed\n",
    "\n",
    "        Returns\n",
    "        ______\n",
    "        dict\n",
    "            {'var': <col>,\n",
    "             'before': <pvalue before matching>,\n",
    "             'after': <pvalue after matching>}\n",
    "\n",
    "\n",
    "        \"\"\"\n",
    "        if not uf.is_continuous(col, self.X) and col not in self.exclude:\n",
    "            pval_before = round(stats.chi2_contingency(self.prep_prop_test(self.data, col))[1], 6)\n",
    "            pval_after = round(stats.chi2_contingency(self.prep_prop_test(self.matched_data, col))[1], 6)\n",
    "            return {'var':col, 'before':pval_before, 'after':pval_after}\n",
    "        else:\n",
    "            print(\"{} is a continuous variable\".format(col))\n",
    "\n",
    "    def compare_continuous(self, save=False, return_table=False):\n",
    "        \"\"\"\n",
    "        Plots the ECDFs for continuous features before and\n",
    "        after matching. Each chart title contains test results\n",
    "        and statistics to summarize how similar the two distributions\n",
    "        are (we want them to be close after matching).\n",
    "\n",
    "        Tests performed:\n",
    "        Kolmogorov-Smirnov Goodness of fit Test (KS-test)\n",
    "            This test statistic is calculated on 1000\n",
    "            permuted samples of the data, generating\n",
    "            an imperical p-value.  See pymatch.functions.ks_boot()\n",
    "            This is an adaptation of the ks.boot() method in\n",
    "            the R \"Matching\" package\n",
    "            https://www.rdocumentation.org/packages/Matching/versions/4.9-2/topics/ks.boot\n",
    "        Chi-Square Distance:\n",
    "            Similarly this distance metric is calculated on\n",
    "            1000 permuted samples.\n",
    "            See pymatch.functions.grouped_permutation_test()\n",
    "\n",
    "        Other included Stats:\n",
    "        Standarized mean and median differences\n",
    "        How many standard deviations away are the mean/median\n",
    "        between our groups before and after matching\n",
    "        i.e. abs(mean(control) - mean(test)) / std(control.union(test))\n",
    "\n",
    "        Parameters\n",
    "        ----------\n",
    "        return_table : bool\n",
    "            Should the function a table with tests and statistics?\n",
    "\n",
    "        Returns\n",
    "        -------\n",
    "        pd.DataFrame (optional)\n",
    "            Table of before/after statistics if return_table == True\n",
    "\n",
    "\n",
    "        \"\"\"\n",
    "        test_results = []\n",
    "        for col in self.matched_data.columns:\n",
    "            if uf.is_continuous(col, self.X) and col not in self.exclude:\n",
    "                # organize data\n",
    "                trb, cob = self.test[col], self.control[col]\n",
    "                tra = self.matched_data[self.matched_data[self.yvar]==True][col]\n",
    "                coa = self.matched_data[self.matched_data[self.yvar]==False][col]\n",
    "                xtb, xcb = ECDF(trb), ECDF(cob)\n",
    "                xta, xca = ECDF(tra),ECDF(coa)\n",
    "\n",
    "                # before/after stats\n",
    "                std_diff_med_before, std_diff_mean_before = uf.std_diff(trb, cob)\n",
    "                std_diff_med_after, std_diff_mean_after = uf.std_diff(tra, coa)\n",
    "                pb, truthb = uf.grouped_permutation_test(uf.chi2_distance, trb, cob)\n",
    "                pa, trutha = uf.grouped_permutation_test(uf.chi2_distance, tra, coa)\n",
    "                ksb = round(uf.ks_boot(trb, cob, nboots=1000), 6)\n",
    "                ksa = round(uf.ks_boot(tra, coa, nboots=1000), 6)\n",
    "\n",
    "                # plotting\n",
    "                f, (ax1, ax2) = plt.subplots(1, 2, sharey=True, sharex=True, figsize=(12, 5))\n",
    "                ax1.plot(xcb.x, xcb.y, label='Control', color=self.control_color)\n",
    "                ax1.plot(xtb.x, xtb.y, label='Test', color=self.test_color)\n",
    "                ax1.plot(xcb.x, xcb.y, label='Control', color=self.control_color)\n",
    "                ax1.plot(xtb.x, xtb.y, label='Test', color=self.test_color)\n",
    "\n",
    "                title_str = '''\n",
    "                ECDF for {} {} Matching\n",
    "                KS p-value: {}\n",
    "                Grouped Perm p-value: {}\n",
    "                Std. Median Difference: {}\n",
    "                Std. Mean Difference: {}\n",
    "                '''\n",
    "                ax1.set_title(title_str\\\n",
    "                  .format(col, \"before\", ksb, pb, std_diff_med_before, std_diff_mean_before))\n",
    "                ax2.plot(xca.x, xca.y, label='Control')\n",
    "                ax2.plot(xta.x, xta.y, label='Test')\n",
    "                ax2.set_title(title_str\\\n",
    "                  .format(col, \"after\", ksa, pa, std_diff_med_after, std_diff_mean_after))\n",
    "                ax2.legend(loc=\"lower right\")\n",
    "                plt.xlim((0, np.percentile(xta.x, 99)))\n",
    "\n",
    "                test_results.append({\n",
    "                        \"var\": col,\n",
    "                        \"ks_before\": ksb,\n",
    "                        \"ks_after\": ksa,\n",
    "                        \"grouped_chisqr_before\": pb,\n",
    "                        \"grouped_chisqr_after\": pa,\n",
    "                        \"std_median_diff_before\": std_diff_med_before,\n",
    "                        \"std_median_diff_after\": std_diff_med_after,\n",
    "                        \"std_mean_diff_before\": std_diff_mean_before,\n",
    "                        \"std_mean_diff_after\": std_diff_mean_after\n",
    "                    })\n",
    "\n",
    "        var_order = [\n",
    "                    \"var\",\n",
    "                    \"ks_before\",\n",
    "                    \"ks_after\",\n",
    "                    \"grouped_chisqr_before\",\n",
    "                    \"grouped_chisqr_after\",\n",
    "                    \"std_median_diff_before\",\n",
    "                    \"std_median_diff_after\",\n",
    "                    \"std_mean_diff_before\",\n",
    "                    \"std_mean_diff_after\"\n",
    "                ]\n",
    "\n",
    "        return pd.DataFrame(test_results)[var_order] if return_table else None\n",
    "\n",
    "    def compare_categorical(self, return_table=False):\n",
    "        \"\"\"\n",
    "        Plots the proportional differences of each enumerated\n",
    "        discete column for test and control.\n",
    "        i.e. <prop_test_that_have_x>  - <prop_control_that_have_x>\n",
    "        Each chart title contains the results from a\n",
    "        Chi-Square Test of Independence before and after\n",
    "        matching.\n",
    "        See pymatch.prop_test()\n",
    "\n",
    "        Parameters\n",
    "        ----------\n",
    "        return_table : bool\n",
    "            Should the function return a table with\n",
    "            test results?\n",
    "\n",
    "        Return\n",
    "        ------\n",
    "        pd.DataFrame() (optional)\n",
    "            Table with the p-values of the Chi-Square contingency test\n",
    "            for each discrete column before and after matching\n",
    "\n",
    "        \"\"\"\n",
    "        def prep_plot(data, var, colname):\n",
    "            t, c = data[data[self.yvar] == 1], data[data[self.yvar] == 0]\n",
    "            # dummy var for counting\n",
    "            dummy = [i for i in t.columns if i not in \\\n",
    "                      (var, \"match_id\", \"record_id\", \"weight\")][0]\n",
    "            countt = t[[var, dummy]].groupby(var).count() / len(t)\n",
    "            countc = c[[var, dummy]].groupby(var).count() / len(c)\n",
    "            ret = (countt-countc).dropna()\n",
    "            ret.columns = [colname]\n",
    "            return ret\n",
    "\n",
    "        title_str = '''\n",
    "        Proportional Difference (test-control) for {} Before and After Matching\n",
    "        Chi-Square Test for Independence p-value before | after:\n",
    "        {} | {}\n",
    "        '''\n",
    "        test_results = []\n",
    "        for col in self.matched_data.columns:\n",
    "            if not uf.is_continuous(col, self.X) and col not in self.exclude:\n",
    "                dbefore = prep_plot(self.data, col, colname=\"before\")\n",
    "                dafter = prep_plot(self.matched_data, col, colname=\"after\")\n",
    "                df = dbefore.join(dafter)\n",
    "                test_results_i = self.prop_test(col)\n",
    "                test_results.append(test_results_i)\n",
    "\n",
    "                # plotting\n",
    "                df.plot.bar(alpha=.8)\n",
    "                plt.title(title_str.format(col, test_results_i[\"before\"], test_results_i[\"after\"]))\n",
    "                lim = max(.09, abs(df).max().max()) + .01\n",
    "                plt.ylim((-lim, lim))\n",
    "        return pd.DataFrame(test_results)[['var', 'before', 'after']] if return_table else None\n",
    "\n",
    "    def prep_prop_test(self, data, var):\n",
    "        \"\"\"\n",
    "        Helper method for running chi-square contingency tests\n",
    "\n",
    "        Balances the counts of discrete variables with our groups\n",
    "        so that missing levels are replaced with 0.\n",
    "        i.e. if the test group has no records with x as a field\n",
    "        for a given column, make sure the count for x is 0\n",
    "        and not missing.\n",
    "\n",
    "        Parameters\n",
    "        ----------\n",
    "        data : pd.DataFrame()\n",
    "            Data to use for counting\n",
    "        var : str\n",
    "            Column to use within data\n",
    "\n",
    "        Returns\n",
    "        -------\n",
    "        list\n",
    "            A table (list of lists) of counts for all enumerated field within <var>\n",
    "            for test and control groups.\n",
    "        \"\"\"\n",
    "        counts = data.groupby([var, self.yvar]).count().reset_index()\n",
    "        table = []\n",
    "        for t in (0, 1):\n",
    "            os_counts = counts[counts[self.yvar] ==t]\\\n",
    "                                     .sort_values(var)\n",
    "            cdict = {}\n",
    "            for row in os_counts.iterrows():\n",
    "                row = row[1]\n",
    "                cdict[row[var]] = row[2]\n",
    "            table.append(cdict)\n",
    "        # fill empty keys as 0\n",
    "        all_keys = set(chain.from_iterable(table))\n",
    "        for d in table:\n",
    "            d.update((k, 0) for k in all_keys if k not in d)\n",
    "        ctable = [[i[k] for k in sorted(all_keys)] for i in table]\n",
    "        return ctable\n",
    "\n",
    "    def prop_retained(self):\n",
    "        \"\"\"\n",
    "        Returns the proportion of data retained after matching\n",
    "        \"\"\"\n",
    "        return len(self.matched_data[self.matched_data[self.yvar] == self.minority]) * 1.0 / \\\n",
    "               len(self.data[self.data[self.yvar] == self.minority])\n",
    "\n",
    "    def tune_threshold(self, method, nmatches=1, rng=np.arange(0, .001, .0001)):\n",
    "        \"\"\"\n",
    "        Matches data over a grid to optimize threshold value and plots results.\n",
    "\n",
    "        Parameters\n",
    "        ----------\n",
    "        method : str\n",
    "            Method used for matching (use \"random\" for this method)\n",
    "        nmatches : int\n",
    "            Max number of matches per record. See pymatch.match()\n",
    "        rng: : list / np.array()\n",
    "            Grid of threshold values\n",
    "\n",
    "        Returns\n",
    "        -------\n",
    "        None\n",
    "\n",
    "        \"\"\"\n",
    "        results = []\n",
    "        for i in rng:\n",
    "            self.match(method=method, nmatches=nmatches, threshold=i)\n",
    "            results.append(self.prop_retained())\n",
    "        plt.plot(rng, results)\n",
    "        plt.title(\"Proportion of Data retained for grid of threshold values\")\n",
    "        plt.ylabel(\"Proportion Retained\")\n",
    "        plt.xlabel(\"Threshold\")\n",
    "        plt.xticks(rng)\n",
    "\n",
    "    def record_frequency(self):\n",
    "        \"\"\"\n",
    "        Calculates the frequency of specifi records in\n",
    "        the matched dataset\n",
    "\n",
    "        Returns\n",
    "        -------\n",
    "        pd.DataFrame()\n",
    "            Frequency table of the number records\n",
    "            matched once, twice, ..., etc.\n",
    "        \"\"\"\n",
    "        freqs = self.matched_data.groupby(\"record_id\")\\\n",
    "                    .count().groupby(\"match_id\").count()\\\n",
    "                    [[\"scores\"]].reset_index()\n",
    "        freqs.columns = [\"freq\", \"n_records\"]\n",
    "        return freqs\n",
    "\n",
    "    def assign_weight_vector(self):\n",
    "        record_freqs = self.matched_data.groupby(\"record_id\")\\\n",
    "                           .count()[['match_id']].reset_index()\n",
    "        record_freqs.columns = [\"record_id\", \"weight\"]\n",
    "        fm = record_freqs.merge(self.matched_data, on=\"record_id\")\n",
    "        fm['weight'] = 1/fm['weight']\n",
    "        self.matched_data = fm\n",
    "\n",
    "        \n",
    "######YOU BETTER READ THIS -- https://github.com/benmiroglio/pymatch/issues/23 -- YOU GOTTA CREATE THE CLASS YOURSELF \n",
    "    @staticmethod\n",
    "    def _scores_to_accuracy(m, X, y):\n",
    "        preds = [1.0 if i >= .5 else 0.0 for i in m.predict(X)]\n",
    "        # return (y == preds).sum() * 1.0 / len(y)\n",
    "        return (y.to_numpy().T == preds).sum() * 1.0 / len(y)\n",
    "\n"
   ]
  },
  {
   "cell_type": "code",
   "execution_count": 111,
   "metadata": {},
   "outputs": [
    {
     "name": "stderr",
     "output_type": "stream",
     "text": [
      "<ipython-input-111-4607fba3844a>:1: SettingWithCopyWarning: \n",
      "A value is trying to be set on a copy of a slice from a DataFrame.\n",
      "Try using .loc[row_indexer,col_indexer] = value instead\n",
      "\n",
      "See the caveats in the documentation: https://pandas.pydata.org/pandas-docs/stable/user_guide/indexing.html#returning-a-view-versus-a-copy\n",
      "  matching_df['stg_admin'] = 0\n"
     ]
    }
   ],
   "source": [
    "matching_df['stg_admin'] = 0\n",
    "smote_matching_df['stg_admin'] = 1"
   ]
  },
  {
   "cell_type": "code",
   "execution_count": null,
   "metadata": {},
   "outputs": [],
   "source": [
    "%%time\n",
    "\n",
    "#create our test and control groups \n",
    "test = smote_matching_df\n",
    "control = matching_df\n",
    "m = Matcher(test, control, yvar='stg_admin', exclude=['userid'])"
   ]
  },
  {
   "cell_type": "code",
   "execution_count": null,
   "metadata": {},
   "outputs": [],
   "source": [
    "%%time\n",
    "\n",
    "#note! IF YOU ARE GETTING A WEIRD OUTPUT HERE THEN YOU NEED TO EDIT THE FINAL FUNCTION IN THE PYMATCH PACKAGE, WHICH I INCLUDED IN THE CELL ABOVE\n",
    "np.random.seed(20170925)\n",
    "m.fit_scores(balance=False, nmodels=100)"
   ]
  },
  {
   "cell_type": "code",
   "execution_count": null,
   "metadata": {},
   "outputs": [],
   "source": [
    "%time\n",
    "\n",
    "#this assigns a propensity score to each userid\n",
    "m.predict_scores()"
   ]
  },
  {
   "cell_type": "code",
   "execution_count": null,
   "metadata": {},
   "outputs": [],
   "source": [
    "m.plot_scores()"
   ]
  },
  {
   "cell_type": "code",
   "execution_count": null,
   "metadata": {},
   "outputs": [],
   "source": [
    "#looks like we can retain most of our data with a threshold of .0005\n",
    "m.tune_threshold(method='random')"
   ]
  },
  {
   "cell_type": "code",
   "execution_count": null,
   "metadata": {},
   "outputs": [],
   "source": [
    "m.match(method=\"min\", nmatches = 1, threshold=0.0005)\n",
    "#m.record_frequency()"
   ]
  },
  {
   "cell_type": "code",
   "execution_count": null,
   "metadata": {},
   "outputs": [],
   "source": [
    "matched_df = m.matched_data.sort_values('match_id')"
   ]
  },
  {
   "cell_type": "code",
   "execution_count": null,
   "metadata": {},
   "outputs": [],
   "source": [
    "cc = m.compare_continuous(return_table=True)"
   ]
  }
 ],
 "metadata": {
  "kernelspec": {
   "display_name": "Python 3",
   "language": "python",
   "name": "python3"
  },
  "language_info": {
   "codemirror_mode": {
    "name": "ipython",
    "version": 3
   },
   "file_extension": ".py",
   "mimetype": "text/x-python",
   "name": "python",
   "nbconvert_exporter": "python",
   "pygments_lexer": "ipython3",
   "version": "3.8.3"
  }
 },
 "nbformat": 4,
 "nbformat_minor": 4
}
